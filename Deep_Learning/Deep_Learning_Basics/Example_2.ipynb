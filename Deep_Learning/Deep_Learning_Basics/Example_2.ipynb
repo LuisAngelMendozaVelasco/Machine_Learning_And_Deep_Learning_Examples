{
 "cells": [
  {
   "cell_type": "markdown",
   "metadata": {},
   "source": [
    "# Transfer Learning"
   ]
  },
  {
   "cell_type": "code",
   "execution_count": 1,
   "metadata": {},
   "outputs": [],
   "source": [
    "from keras.utils import image_dataset_from_directory\n",
    "from keras.optimizers import Adam"
   ]
  },
  {
   "cell_type": "code",
   "execution_count": 2,
   "metadata": {},
   "outputs": [],
   "source": [
    "# To avoid: \n",
    "# StdErr from Kernel Process OMP: Error #15: Initializing libiomp5md.dll, but found libiomp5 already initialized. \n",
    "# OMP: Hint This means that multiple copies of the OpenMP runtime have been linked into the program.\n",
    "\n",
    "import os\n",
    "\n",
    "os.environ['KMP_DUPLICATE_LIB_OK'] = 'True'"
   ]
  },
  {
   "cell_type": "markdown",
   "metadata": {},
   "source": [
    "The images in this data set are stored in subfolders. The name of each folder is the corresponding label for the images in that folder. \n",
    "During training, the network learns to associate the training images and labels. The network may have a high training accuracy, but a network is only useful if it can generalize to new images. We should use a separate validation data set to evaluate if the network can classify images it has not yet seen.\n",
    "We can split the data set using the image_[image_dataset_from_directory()](https://www.tensorflow.org/api_docs/python/tf/keras/utils/image_dataset_from_directory) function and setting the validation_split and subset properties.\n",
    "The proportion validation_split (a value from 0 to 1) indicates the proportion of images from each label from the full daatset that are contained in the training dataset. The remaining files are assigned to the validation dataset."
   ]
  },
  {
   "cell_type": "code",
   "execution_count": 3,
   "metadata": {},
   "outputs": [
    {
     "name": "stdout",
     "output_type": "stream",
     "text": [
      "Found 442 files belonging to 3 classes.\n",
      "Using 420 files for training.\n",
      "Using 22 files for validation.\n"
     ]
    }
   ],
   "source": [
    "train_ds, validation_ds = image_dataset_from_directory(\"../data/Animals/\", \n",
    "                                                       validation_split=0.05,\n",
    "                                                       subset='both',\n",
    "                                                       seed=0,\n",
    "                                                       image_size=(224, 224))"
   ]
  },
  {
   "cell_type": "markdown",
   "metadata": {},
   "source": [
    "Algorithm options control how a network is trained. A common modification from the default options is to set an optimizer and decrease the learning rate."
   ]
  },
  {
   "cell_type": "code",
   "execution_count": 4,
   "metadata": {},
   "outputs": [],
   "source": [
    "optimizer = Adam(learning_rate=0.0001)"
   ]
  }
 ],
 "metadata": {
  "kernelspec": {
   "display_name": "base",
   "language": "python",
   "name": "python3"
  },
  "language_info": {
   "codemirror_mode": {
    "name": "ipython",
    "version": 3
   },
   "file_extension": ".py",
   "mimetype": "text/x-python",
   "name": "python",
   "nbconvert_exporter": "python",
   "pygments_lexer": "ipython3",
   "version": "3.9.17"
  },
  "orig_nbformat": 4
 },
 "nbformat": 4,
 "nbformat_minor": 2
}
