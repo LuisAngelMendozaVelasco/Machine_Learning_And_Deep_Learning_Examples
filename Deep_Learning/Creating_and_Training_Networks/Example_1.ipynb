{
 "cells": [
  {
   "cell_type": "markdown",
   "metadata": {},
   "source": [
    "# Creating Network Architectures"
   ]
  },
  {
   "cell_type": "code",
   "execution_count": 11,
   "metadata": {},
   "outputs": [],
   "source": [
    "from keras import Sequential\n",
    "from keras.layers import InputLayer, Conv2D, MaxPooling2D, Dense, ReLU, Softmax, GlobalAveragePooling2D"
   ]
  },
  {
   "cell_type": "code",
   "execution_count": 12,
   "metadata": {},
   "outputs": [],
   "source": [
    "# To avoid: \n",
    "# StdErr from Kernel Process OMP: Error #15: Initializing libiomp5md.dll, but found libiomp5 already initialized. \n",
    "# OMP: Hint This means that multiple copies of the OpenMP runtime have been linked into the program.\n",
    "\n",
    "import os\n",
    "\n",
    "os.environ['KMP_DUPLICATE_LIB_OK'] = 'True'"
   ]
  },
  {
   "cell_type": "markdown",
   "metadata": {},
   "source": [
    "The first layer of any convolutional neural network is an image input layer.\n",
    "\n",
    "[IputLayer()](https://www.tensorflow.org/api_docs/python/tf/keras/layers/InputLayer)\n",
    "\n",
    "This layer requires the image size as input.\n",
    "The input size is a three-element vector corresponding to the height, width, and number of channels of that image.\n",
    "Grayscale images have one channel, color images have three, and the landcover images have four (red, green, blue, near infrared)."
   ]
  },
  {
   "cell_type": "code",
   "execution_count": 13,
   "metadata": {},
   "outputs": [
    {
     "data": {
      "text/plain": [
       "{'batch_input_shape': (None, 28, 28, 4),\n",
       " 'dtype': 'float32',\n",
       " 'sparse': False,\n",
       " 'ragged': False,\n",
       " 'name': 'input_2'}"
      ]
     },
     "execution_count": 13,
     "metadata": {},
     "output_type": "execute_result"
    }
   ],
   "source": [
    "layer_1 = InputLayer(input_shape=(28, 28, 4))\n",
    "layer_1.get_config()"
   ]
  },
  {
   "cell_type": "markdown",
   "metadata": {},
   "source": [
    "Convolution layers learn features in the input image by applying different filters to the image. To create a convolution layer, we need to specify the filter size and the number of filters.\n",
    "\n",
    "[Conv2D](https://www.tensorflow.org/api_docs/python/tf/keras/layers/Conv2D)"
   ]
  },
  {
   "cell_type": "code",
   "execution_count": 14,
   "metadata": {},
   "outputs": [
    {
     "data": {
      "text/plain": [
       "{'name': 'conv2d_1',\n",
       " 'trainable': True,\n",
       " 'dtype': 'float32',\n",
       " 'filters': 20,\n",
       " 'kernel_size': (3, 3),\n",
       " 'strides': (1, 1),\n",
       " 'padding': 'valid',\n",
       " 'data_format': 'channels_last',\n",
       " 'dilation_rate': (1, 1),\n",
       " 'groups': 1,\n",
       " 'activation': 'linear',\n",
       " 'use_bias': True,\n",
       " 'kernel_initializer': {'class_name': 'GlorotUniform',\n",
       "  'config': {'seed': None}},\n",
       " 'bias_initializer': {'class_name': 'Zeros', 'config': {}},\n",
       " 'kernel_regularizer': None,\n",
       " 'bias_regularizer': None,\n",
       " 'activity_regularizer': None,\n",
       " 'kernel_constraint': None,\n",
       " 'bias_constraint': None}"
      ]
     },
     "execution_count": 14,
     "metadata": {},
     "output_type": "execute_result"
    }
   ],
   "source": [
    "layer_2 = Conv2D(filters=20, kernel_size=(3, 3))\n",
    "layer_2.get_config()"
   ]
  },
  {
   "cell_type": "markdown",
   "metadata": {},
   "source": [
    "Convolution layers are generally followed by rectified linear unit (ReLU) and max pooling layers.\n",
    "A ReLU layer sets all negative values to zero.\n",
    "\n",
    "[ReLU()](https://www.tensorflow.org/api_docs/python/tf/keras/layers/ReLU)\n",
    "\n",
    "Max pooling layers perform downsampling by “pooling” rectangular regions together and computing the maximum of each region. Use the pool size as input.\n",
    "\n",
    "[MaxPooling2D()](https://www.tensorflow.org/api_docs/python/tf/keras/layers/MaxPooling2D)\n",
    "\n",
    "[GlobalAveragePooling2D()](https://www.tensorflow.org/api_docs/python/tf/keras/layers/GlobalAveragePooling2D)"
   ]
  },
  {
   "cell_type": "code",
   "execution_count": 15,
   "metadata": {},
   "outputs": [
    {
     "data": {
      "text/plain": [
       "{'name': 're_lu_1',\n",
       " 'trainable': True,\n",
       " 'dtype': 'float32',\n",
       " 'max_value': None,\n",
       " 'negative_slope': array(0., dtype=float32),\n",
       " 'threshold': array(0., dtype=float32)}"
      ]
     },
     "execution_count": 15,
     "metadata": {},
     "output_type": "execute_result"
    }
   ],
   "source": [
    "layer_3 = ReLU()\n",
    "layer_3.get_config()"
   ]
  },
  {
   "cell_type": "code",
   "execution_count": 16,
   "metadata": {},
   "outputs": [
    {
     "data": {
      "text/plain": [
       "{'name': 'max_pooling2d_1',\n",
       " 'trainable': True,\n",
       " 'dtype': 'float32',\n",
       " 'pool_size': (3, 3),\n",
       " 'padding': 'valid',\n",
       " 'strides': (1, 1),\n",
       " 'data_format': 'channels_last'}"
      ]
     },
     "execution_count": 16,
     "metadata": {},
     "output_type": "execute_result"
    }
   ],
   "source": [
    "layer_4 = MaxPooling2D(pool_size=(3, 3), strides=(1, 1))\n",
    "layer_4.get_config()"
   ]
  },
  {
   "cell_type": "code",
   "execution_count": 17,
   "metadata": {},
   "outputs": [
    {
     "data": {
      "text/plain": [
       "{'name': 'global_average_pooling2d',\n",
       " 'trainable': True,\n",
       " 'dtype': 'float32',\n",
       " 'data_format': 'channels_last',\n",
       " 'keepdims': False}"
      ]
     },
     "execution_count": 17,
     "metadata": {},
     "output_type": "execute_result"
    }
   ],
   "source": [
    "layer_5 = GlobalAveragePooling2D()\n",
    "layer_5.get_config()"
   ]
  },
  {
   "cell_type": "markdown",
   "metadata": {},
   "source": [
    "The last two layers of a convolutional neural network are\n",
    "\n",
    "[Dense()](https://www.tensorflow.org/api_docs/python/tf/keras/layers/Dense)\n",
    "\n",
    "[Softmax()](https://www.tensorflow.org/api_docs/python/tf/keras/layers/Softmax)\n",
    "\n",
    "The Dense layer has an units property, which represents the number of classes that the network can predict."
   ]
  },
  {
   "cell_type": "code",
   "execution_count": 18,
   "metadata": {},
   "outputs": [
    {
     "data": {
      "text/plain": [
       "{'name': 'dense_1',\n",
       " 'trainable': True,\n",
       " 'dtype': 'float32',\n",
       " 'units': 6,\n",
       " 'activation': 'linear',\n",
       " 'use_bias': True,\n",
       " 'kernel_initializer': {'class_name': 'GlorotUniform',\n",
       "  'config': {'seed': None}},\n",
       " 'bias_initializer': {'class_name': 'Zeros', 'config': {}},\n",
       " 'kernel_regularizer': None,\n",
       " 'bias_regularizer': None,\n",
       " 'activity_regularizer': None,\n",
       " 'kernel_constraint': None,\n",
       " 'bias_constraint': None}"
      ]
     },
     "execution_count": 18,
     "metadata": {},
     "output_type": "execute_result"
    }
   ],
   "source": [
    "layer_6 = Dense(units=6)\n",
    "layer_6.get_config()"
   ]
  },
  {
   "cell_type": "code",
   "execution_count": 19,
   "metadata": {},
   "outputs": [
    {
     "data": {
      "text/plain": [
       "{'name': 'softmax_1', 'trainable': True, 'dtype': 'float32', 'axis': -1}"
      ]
     },
     "execution_count": 19,
     "metadata": {},
     "output_type": "execute_result"
    }
   ],
   "source": [
    "layer_7 = Softmax()\n",
    "layer_7.get_config()"
   ]
  },
  {
   "cell_type": "code",
   "execution_count": 20,
   "metadata": {},
   "outputs": [
    {
     "name": "stdout",
     "output_type": "stream",
     "text": [
      "Model: \"sequential_1\"\n",
      "_________________________________________________________________\n",
      " Layer (type)                Output Shape              Param #   \n",
      "=================================================================\n",
      " conv2d_1 (Conv2D)           (None, 26, 26, 20)        740       \n",
      "                                                                 \n",
      " re_lu_1 (ReLU)              (None, 26, 26, 20)        0         \n",
      "                                                                 \n",
      " max_pooling2d_1 (MaxPooling  (None, 24, 24, 20)       0         \n",
      " 2D)                                                             \n",
      "                                                                 \n",
      " global_average_pooling2d (G  (None, 20)               0         \n",
      " lobalAveragePooling2D)                                          \n",
      "                                                                 \n",
      " dense_1 (Dense)             (None, 6)                 126       \n",
      "                                                                 \n",
      " softmax_1 (Softmax)         (None, 6)                 0         \n",
      "                                                                 \n",
      "=================================================================\n",
      "Total params: 866\n",
      "Trainable params: 866\n",
      "Non-trainable params: 0\n",
      "_________________________________________________________________\n"
     ]
    }
   ],
   "source": [
    "model = Sequential([layer_1, layer_2, layer_3, layer_4, layer_5, layer_6, layer_7])\n",
    "model.summary()"
   ]
  }
 ],
 "metadata": {
  "kernelspec": {
   "display_name": "base",
   "language": "python",
   "name": "python3"
  },
  "language_info": {
   "codemirror_mode": {
    "name": "ipython",
    "version": 3
   },
   "file_extension": ".py",
   "mimetype": "text/x-python",
   "name": "python",
   "nbconvert_exporter": "python",
   "pygments_lexer": "ipython3",
   "version": "3.9.17"
  },
  "orig_nbformat": 4
 },
 "nbformat": 4,
 "nbformat_minor": 2
}
