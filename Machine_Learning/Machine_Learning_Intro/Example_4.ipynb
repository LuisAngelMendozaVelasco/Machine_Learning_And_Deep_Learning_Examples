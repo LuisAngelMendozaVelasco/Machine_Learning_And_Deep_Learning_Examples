{
 "cells": [
  {
   "attachments": {},
   "cell_type": "markdown",
   "metadata": {},
   "source": [
    "# Train a Model and Make Predictions"
   ]
  },
  {
   "cell_type": "code",
   "execution_count": 1,
   "metadata": {},
   "outputs": [],
   "source": [
    "import pandas as pd\n",
    "import matplotlib.pyplot as plt\n",
    "import seaborn as sns\n",
    "from sklearn.neighbors import KNeighborsClassifier\n",
    "from sklearn.metrics import confusion_matrix\n",
    "\n",
    "sns.set_style(\"whitegrid\")"
   ]
  },
  {
   "cell_type": "code",
   "execution_count": 2,
   "metadata": {},
   "outputs": [],
   "source": [
    "data = pd.read_excel(\"./data/bballTrainingData.xlsx\", sheet_name='data')\n",
    "data_train = pd.read_excel(\"./data/bballTrainingData.xlsx\", sheet_name='dataTrain')\n",
    "data_test = pd.read_excel(\"./data/bballTrainingData.xlsx\", sheet_name='dataTest')"
   ]
  },
  {
   "cell_type": "code",
   "execution_count": 3,
   "metadata": {},
   "outputs": [
    {
     "data": {
      "text/html": [
       "<div>\n",
       "<style scoped>\n",
       "    .dataframe tbody tr th:only-of-type {\n",
       "        vertical-align: middle;\n",
       "    }\n",
       "\n",
       "    .dataframe tbody tr th {\n",
       "        vertical-align: top;\n",
       "    }\n",
       "\n",
       "    .dataframe thead th {\n",
       "        text-align: right;\n",
       "    }\n",
       "</style>\n",
       "<table border=\"1\" class=\"dataframe\">\n",
       "  <thead>\n",
       "    <tr style=\"text-align: right;\">\n",
       "      <th></th>\n",
       "      <th>playerID</th>\n",
       "      <th>name</th>\n",
       "      <th>pos</th>\n",
       "      <th>height</th>\n",
       "      <th>weight</th>\n",
       "      <th>GP</th>\n",
       "      <th>minutes</th>\n",
       "      <th>points</th>\n",
       "      <th>oRebounds</th>\n",
       "      <th>dRebounds</th>\n",
       "      <th>...</th>\n",
       "      <th>steals</th>\n",
       "      <th>blocks</th>\n",
       "      <th>turnovers</th>\n",
       "      <th>PF</th>\n",
       "      <th>fgAttempted</th>\n",
       "      <th>fgMade</th>\n",
       "      <th>ftAttempted</th>\n",
       "      <th>ftMade</th>\n",
       "      <th>threeAttempted</th>\n",
       "      <th>threeMade</th>\n",
       "    </tr>\n",
       "  </thead>\n",
       "  <tbody>\n",
       "    <tr>\n",
       "      <th>0</th>\n",
       "      <td>abdulma02</td>\n",
       "      <td>Mahmoud Abdul-Rauf</td>\n",
       "      <td>G</td>\n",
       "      <td>73</td>\n",
       "      <td>162</td>\n",
       "      <td>586</td>\n",
       "      <td>26.6689</td>\n",
       "      <td>0.5473</td>\n",
       "      <td>0.0140</td>\n",
       "      <td>0.0555</td>\n",
       "      <td>...</td>\n",
       "      <td>0.0312</td>\n",
       "      <td>0.0029</td>\n",
       "      <td>0.0616</td>\n",
       "      <td>0.0708</td>\n",
       "      <td>0.5083</td>\n",
       "      <td>0.2249</td>\n",
       "      <td>0.0743</td>\n",
       "      <td>0.0673</td>\n",
       "      <td>0.0857</td>\n",
       "      <td>0.0303</td>\n",
       "    </tr>\n",
       "    <tr>\n",
       "      <th>1</th>\n",
       "      <td>abdursh01</td>\n",
       "      <td>Julius Abdur-Rahim</td>\n",
       "      <td>F</td>\n",
       "      <td>81</td>\n",
       "      <td>225</td>\n",
       "      <td>830</td>\n",
       "      <td>34.7928</td>\n",
       "      <td>0.5204</td>\n",
       "      <td>0.0647</td>\n",
       "      <td>0.1513</td>\n",
       "      <td>...</td>\n",
       "      <td>0.0284</td>\n",
       "      <td>0.0221</td>\n",
       "      <td>0.0739</td>\n",
       "      <td>0.0805</td>\n",
       "      <td>0.3987</td>\n",
       "      <td>0.1882</td>\n",
       "      <td>0.1712</td>\n",
       "      <td>0.1387</td>\n",
       "      <td>0.0180</td>\n",
       "      <td>0.0053</td>\n",
       "    </tr>\n",
       "    <tr>\n",
       "      <th>2</th>\n",
       "      <td>adamsmi01</td>\n",
       "      <td>Michael Adams</td>\n",
       "      <td>G</td>\n",
       "      <td>70</td>\n",
       "      <td>162</td>\n",
       "      <td>334</td>\n",
       "      <td>32.1826</td>\n",
       "      <td>0.4973</td>\n",
       "      <td>0.0201</td>\n",
       "      <td>0.0767</td>\n",
       "      <td>...</td>\n",
       "      <td>0.0495</td>\n",
       "      <td>0.0028</td>\n",
       "      <td>0.0786</td>\n",
       "      <td>0.0629</td>\n",
       "      <td>0.4106</td>\n",
       "      <td>0.1674</td>\n",
       "      <td>0.1396</td>\n",
       "      <td>0.1200</td>\n",
       "      <td>0.1372</td>\n",
       "      <td>0.0426</td>\n",
       "    </tr>\n",
       "    <tr>\n",
       "      <th>3</th>\n",
       "      <td>aguirma01</td>\n",
       "      <td>Mark Aguirre</td>\n",
       "      <td>F-G</td>\n",
       "      <td>78</td>\n",
       "      <td>232</td>\n",
       "      <td>243</td>\n",
       "      <td>22.6461</td>\n",
       "      <td>0.5217</td>\n",
       "      <td>0.0494</td>\n",
       "      <td>0.1101</td>\n",
       "      <td>...</td>\n",
       "      <td>0.0247</td>\n",
       "      <td>0.0084</td>\n",
       "      <td>0.0674</td>\n",
       "      <td>0.1050</td>\n",
       "      <td>0.4481</td>\n",
       "      <td>0.2015</td>\n",
       "      <td>0.1359</td>\n",
       "      <td>0.0994</td>\n",
       "      <td>0.0591</td>\n",
       "      <td>0.0193</td>\n",
       "    </tr>\n",
       "    <tr>\n",
       "      <th>4</th>\n",
       "      <td>aingeda01</td>\n",
       "      <td>Daniel Ainge</td>\n",
       "      <td>G-F</td>\n",
       "      <td>76</td>\n",
       "      <td>175</td>\n",
       "      <td>383</td>\n",
       "      <td>21.9243</td>\n",
       "      <td>0.4523</td>\n",
       "      <td>0.0223</td>\n",
       "      <td>0.0738</td>\n",
       "      <td>...</td>\n",
       "      <td>0.0367</td>\n",
       "      <td>0.0057</td>\n",
       "      <td>0.0528</td>\n",
       "      <td>0.0968</td>\n",
       "      <td>0.3667</td>\n",
       "      <td>0.1657</td>\n",
       "      <td>0.0760</td>\n",
       "      <td>0.0629</td>\n",
       "      <td>0.1561</td>\n",
       "      <td>0.0581</td>\n",
       "    </tr>\n",
       "  </tbody>\n",
       "</table>\n",
       "<p>5 rows × 22 columns</p>\n",
       "</div>"
      ],
      "text/plain": [
       "    playerID                name  pos  height  weight   GP  minutes  points  \\\n",
       "0  abdulma02  Mahmoud Abdul-Rauf    G      73     162  586  26.6689  0.5473   \n",
       "1  abdursh01  Julius Abdur-Rahim    F      81     225  830  34.7928  0.5204   \n",
       "2  adamsmi01       Michael Adams    G      70     162  334  32.1826  0.4973   \n",
       "3  aguirma01        Mark Aguirre  F-G      78     232  243  22.6461  0.5217   \n",
       "4  aingeda01        Daniel Ainge  G-F      76     175  383  21.9243  0.4523   \n",
       "\n",
       "   oRebounds  dRebounds  ...  steals  blocks  turnovers      PF  fgAttempted  \\\n",
       "0     0.0140     0.0555  ...  0.0312  0.0029     0.0616  0.0708       0.5083   \n",
       "1     0.0647     0.1513  ...  0.0284  0.0221     0.0739  0.0805       0.3987   \n",
       "2     0.0201     0.0767  ...  0.0495  0.0028     0.0786  0.0629       0.4106   \n",
       "3     0.0494     0.1101  ...  0.0247  0.0084     0.0674  0.1050       0.4481   \n",
       "4     0.0223     0.0738  ...  0.0367  0.0057     0.0528  0.0968       0.3667   \n",
       "\n",
       "   fgMade  ftAttempted  ftMade  threeAttempted  threeMade  \n",
       "0  0.2249       0.0743  0.0673          0.0857     0.0303  \n",
       "1  0.1882       0.1712  0.1387          0.0180     0.0053  \n",
       "2  0.1674       0.1396  0.1200          0.1372     0.0426  \n",
       "3  0.2015       0.1359  0.0994          0.0591     0.0193  \n",
       "4  0.1657       0.0760  0.0629          0.1561     0.0581  \n",
       "\n",
       "[5 rows x 22 columns]"
      ]
     },
     "execution_count": 3,
     "metadata": {},
     "output_type": "execute_result"
    }
   ],
   "source": [
    "data.head()"
   ]
  },
  {
   "attachments": {},
   "cell_type": "markdown",
   "metadata": {},
   "source": [
    "The normalized (per minute) numeric statistics from the basketball player data set has been divided into a training set dataTrain and a testing set dataTest. We will train a classification model using the training set, then make predictions for the testing set.\n",
    "A k-nearest neighbor (kNN) model classifies an observation as the same class as the nearest known examples. We can fit a kNN model by passing a DataFrame of data to the fit() function of the [KNeighborsClassifier()](https://scikit-learn.org/stable/modules/generated/sklearn.neighbors.KNeighborsClassifier.html#sklearn-neighbors-kneighborsclassifier) class.\n",
    "The second input is the response variable in the DataFrame (that is, the variable we want the model to predict)."
   ]
  },
  {
   "cell_type": "code",
   "execution_count": 4,
   "metadata": {},
   "outputs": [
    {
     "data": {
      "text/html": [
       "<style>#sk-container-id-1 {color: black;background-color: white;}#sk-container-id-1 pre{padding: 0;}#sk-container-id-1 div.sk-toggleable {background-color: white;}#sk-container-id-1 label.sk-toggleable__label {cursor: pointer;display: block;width: 100%;margin-bottom: 0;padding: 0.3em;box-sizing: border-box;text-align: center;}#sk-container-id-1 label.sk-toggleable__label-arrow:before {content: \"▸\";float: left;margin-right: 0.25em;color: #696969;}#sk-container-id-1 label.sk-toggleable__label-arrow:hover:before {color: black;}#sk-container-id-1 div.sk-estimator:hover label.sk-toggleable__label-arrow:before {color: black;}#sk-container-id-1 div.sk-toggleable__content {max-height: 0;max-width: 0;overflow: hidden;text-align: left;background-color: #f0f8ff;}#sk-container-id-1 div.sk-toggleable__content pre {margin: 0.2em;color: black;border-radius: 0.25em;background-color: #f0f8ff;}#sk-container-id-1 input.sk-toggleable__control:checked~div.sk-toggleable__content {max-height: 200px;max-width: 100%;overflow: auto;}#sk-container-id-1 input.sk-toggleable__control:checked~label.sk-toggleable__label-arrow:before {content: \"▾\";}#sk-container-id-1 div.sk-estimator input.sk-toggleable__control:checked~label.sk-toggleable__label {background-color: #d4ebff;}#sk-container-id-1 div.sk-label input.sk-toggleable__control:checked~label.sk-toggleable__label {background-color: #d4ebff;}#sk-container-id-1 input.sk-hidden--visually {border: 0;clip: rect(1px 1px 1px 1px);clip: rect(1px, 1px, 1px, 1px);height: 1px;margin: -1px;overflow: hidden;padding: 0;position: absolute;width: 1px;}#sk-container-id-1 div.sk-estimator {font-family: monospace;background-color: #f0f8ff;border: 1px dotted black;border-radius: 0.25em;box-sizing: border-box;margin-bottom: 0.5em;}#sk-container-id-1 div.sk-estimator:hover {background-color: #d4ebff;}#sk-container-id-1 div.sk-parallel-item::after {content: \"\";width: 100%;border-bottom: 1px solid gray;flex-grow: 1;}#sk-container-id-1 div.sk-label:hover label.sk-toggleable__label {background-color: #d4ebff;}#sk-container-id-1 div.sk-serial::before {content: \"\";position: absolute;border-left: 1px solid gray;box-sizing: border-box;top: 0;bottom: 0;left: 50%;z-index: 0;}#sk-container-id-1 div.sk-serial {display: flex;flex-direction: column;align-items: center;background-color: white;padding-right: 0.2em;padding-left: 0.2em;position: relative;}#sk-container-id-1 div.sk-item {position: relative;z-index: 1;}#sk-container-id-1 div.sk-parallel {display: flex;align-items: stretch;justify-content: center;background-color: white;position: relative;}#sk-container-id-1 div.sk-item::before, #sk-container-id-1 div.sk-parallel-item::before {content: \"\";position: absolute;border-left: 1px solid gray;box-sizing: border-box;top: 0;bottom: 0;left: 50%;z-index: -1;}#sk-container-id-1 div.sk-parallel-item {display: flex;flex-direction: column;z-index: 1;position: relative;background-color: white;}#sk-container-id-1 div.sk-parallel-item:first-child::after {align-self: flex-end;width: 50%;}#sk-container-id-1 div.sk-parallel-item:last-child::after {align-self: flex-start;width: 50%;}#sk-container-id-1 div.sk-parallel-item:only-child::after {width: 0;}#sk-container-id-1 div.sk-dashed-wrapped {border: 1px dashed gray;margin: 0 0.4em 0.5em 0.4em;box-sizing: border-box;padding-bottom: 0.4em;background-color: white;}#sk-container-id-1 div.sk-label label {font-family: monospace;font-weight: bold;display: inline-block;line-height: 1.2em;}#sk-container-id-1 div.sk-label-container {text-align: center;}#sk-container-id-1 div.sk-container {/* jupyter's `normalize.less` sets `[hidden] { display: none; }` but bootstrap.min.css set `[hidden] { display: none !important; }` so we also need the `!important` here to be able to override the default hidden behavior on the sphinx rendered scikit-learn.org. See: https://github.com/scikit-learn/scikit-learn/issues/21755 */display: inline-block !important;position: relative;}#sk-container-id-1 div.sk-text-repr-fallback {display: none;}</style><div id=\"sk-container-id-1\" class=\"sk-top-container\"><div class=\"sk-text-repr-fallback\"><pre>KNeighborsClassifier(n_neighbors=1)</pre><b>In a Jupyter environment, please rerun this cell to show the HTML representation or trust the notebook. <br />On GitHub, the HTML representation is unable to render, please try loading this page with nbviewer.org.</b></div><div class=\"sk-container\" hidden><div class=\"sk-item\"><div class=\"sk-estimator sk-toggleable\"><input class=\"sk-toggleable__control sk-hidden--visually\" id=\"sk-estimator-id-1\" type=\"checkbox\" checked><label for=\"sk-estimator-id-1\" class=\"sk-toggleable__label sk-toggleable__label-arrow\">KNeighborsClassifier</label><div class=\"sk-toggleable__content\"><pre>KNeighborsClassifier(n_neighbors=1)</pre></div></div></div></div></div>"
      ],
      "text/plain": [
       "KNeighborsClassifier(n_neighbors=1)"
      ]
     },
     "execution_count": 4,
     "metadata": {},
     "output_type": "execute_result"
    }
   ],
   "source": [
    "knn_model = KNeighborsClassifier(n_neighbors=1)\n",
    "knn_model.fit(data_train.iloc[:, 1:], data_train.iloc[:, 0])"
   ]
  },
  {
   "attachments": {},
   "cell_type": "markdown",
   "metadata": {},
   "source": [
    "The predict function determines the predicted class of new observations.\n",
    "The input is the DataFrame of observations, with the same predictor variables as was used to train the model. The output is an array of the predicted class for each observation in the test set."
   ]
  },
  {
   "cell_type": "code",
   "execution_count": 5,
   "metadata": {},
   "outputs": [],
   "source": [
    "predicted_pos = knn_model.predict(data_test.iloc[:, 1:])"
   ]
  },
  {
   "attachments": {},
   "cell_type": "markdown",
   "metadata": {},
   "source": [
    "A commonly-used metric to evaluate a model is the misclassification rate (the proportion of incorrect predictions). This metric is also called the model's loss."
   ]
  },
  {
   "cell_type": "code",
   "execution_count": 6,
   "metadata": {},
   "outputs": [
    {
     "data": {
      "text/plain": [
       "0.6318681318681318"
      ]
     },
     "execution_count": 6,
     "metadata": {},
     "output_type": "execute_result"
    }
   ],
   "source": [
    "model_loss = 1 - knn_model.score(data_test.iloc[:, 1:], data_test.iloc[:, 0])\n",
    "model_loss"
   ]
  },
  {
   "attachments": {},
   "cell_type": "markdown",
   "metadata": {},
   "source": [
    "The loss value indicates that over 60% of the positions were predicted incorrectly. A confusion matrix gives the number of observations from each class that are predicted to be each class. It's commonly visualized by shading the elements according to their value, with the diagonal elements (the correct classifications) shaded in one color and the other elements (the incorrect classifications) in another color. We can visualize a confusion matrix using the [confusion_matrix()](https://scikit-learn.org/stable/modules/generated/sklearn.metrics.confusion_matrix.html#sklearn-metrics-confusion-matrix) and [heatmap()](https://seaborn.pydata.org/generated/seaborn.heatmap.html#seaborn-heatmap) functions."
   ]
  },
  {
   "cell_type": "code",
   "execution_count": 7,
   "metadata": {},
   "outputs": [
    {
     "data": {
      "image/png": "[encoded data removed]",
      "text/plain": [
       "<Figure size 640x480 with 1 Axes>"
      ]
     },
     "metadata": {},
     "output_type": "display_data"
    }
   ],
   "source": [
    "cnfs_mtrx = confusion_matrix(data_test.iloc[:, 0], predicted_pos)\n",
    "pos_categories = pd.Categorical(data.pos).categories\n",
    "\n",
    "plt.figure()\n",
    "sns.heatmap(pd.DataFrame(cnfs_mtrx, columns=pos_categories, index=pos_categories), annot=True, cbar=False)\n",
    "plt.xlabel(\"Predicted label\")\n",
    "plt.ylabel(\"True label\")\n",
    "plt.show()"
   ]
  }
 ],
 "metadata": {
  "kernelspec": {
   "display_name": "base",
   "language": "python",
   "name": "python3"
  },
  "language_info": {
   "codemirror_mode": {
    "name": "ipython",
    "version": 3
   },
   "file_extension": ".py",
   "mimetype": "text/x-python",
   "name": "python",
   "nbconvert_exporter": "python",
   "pygments_lexer": "ipython3",
   "version": "3.9.16"
  },
  "orig_nbformat": 4
 },
 "nbformat": 4,
 "nbformat_minor": 2
}
