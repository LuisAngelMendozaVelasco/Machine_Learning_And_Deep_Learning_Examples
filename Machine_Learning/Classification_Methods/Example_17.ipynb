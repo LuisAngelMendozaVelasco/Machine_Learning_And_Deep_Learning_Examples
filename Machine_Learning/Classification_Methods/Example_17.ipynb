{
 "cells": [
  {
   "cell_type": "markdown",
   "metadata": {},
   "source": [
    "# Breast Cancer Detection"
   ]
  },
  {
   "cell_type": "code",
   "execution_count": 1,
   "metadata": {},
   "outputs": [],
   "source": [
    "import pandas as pd\n",
    "from sklearn.model_selection import train_test_split\n",
    "from sklearn.neighbors import KNeighborsClassifier\n",
    "from sklearn.metrics import confusion_matrix, ConfusionMatrixDisplay\n",
    "import matplotlib.pyplot as plt\n",
    "import seaborn as sns\n",
    "\n",
    "sns.set_style(\"whitegrid\")"
   ]
  },
  {
   "cell_type": "markdown",
   "metadata": {},
   "source": [
    "The DataFrame diagnosis contains measurements computed from digitized images of breast masses. The response variable is named \"diagnosis\" and contains the diagnosis of each mass as benign (B) or malignant (M)."
   ]
  },
  {
   "cell_type": "code",
   "execution_count": 2,
   "metadata": {},
   "outputs": [
    {
     "data": {
      "text/html": [
       "<div>\n",
       "<style scoped>\n",
       "    .dataframe tbody tr th:only-of-type {\n",
       "        vertical-align: middle;\n",
       "    }\n",
       "\n",
       "    .dataframe tbody tr th {\n",
       "        vertical-align: top;\n",
       "    }\n",
       "\n",
       "    .dataframe thead th {\n",
       "        text-align: right;\n",
       "    }\n",
       "</style>\n",
       "<table border=\"1\" class=\"dataframe\">\n",
       "  <thead>\n",
       "    <tr style=\"text-align: right;\">\n",
       "      <th></th>\n",
       "      <th>diagnosis</th>\n",
       "      <th>radiusMean</th>\n",
       "      <th>radiusStandardError</th>\n",
       "      <th>radiusMax</th>\n",
       "      <th>textureMean</th>\n",
       "      <th>textureStandardError</th>\n",
       "      <th>textureMax</th>\n",
       "      <th>perimeterMean</th>\n",
       "      <th>perimeterStandardError</th>\n",
       "      <th>perimeterMax</th>\n",
       "      <th>...</th>\n",
       "      <th>concavityMax</th>\n",
       "      <th>concavePointsMean</th>\n",
       "      <th>concavePointsStandardError</th>\n",
       "      <th>concavePointsMax</th>\n",
       "      <th>symmetryMean</th>\n",
       "      <th>symmetryStandardError</th>\n",
       "      <th>symmetryMax</th>\n",
       "      <th>fractalDimensionMean</th>\n",
       "      <th>fractalDimensionStandardError</th>\n",
       "      <th>fractalDimensionMax</th>\n",
       "    </tr>\n",
       "  </thead>\n",
       "  <tbody>\n",
       "    <tr>\n",
       "      <th>0</th>\n",
       "      <td>M</td>\n",
       "      <td>17.99</td>\n",
       "      <td>10.38</td>\n",
       "      <td>122.80</td>\n",
       "      <td>1001.0</td>\n",
       "      <td>0.1184</td>\n",
       "      <td>0.2776</td>\n",
       "      <td>0.3001</td>\n",
       "      <td>0.1471</td>\n",
       "      <td>0.2419</td>\n",
       "      <td>...</td>\n",
       "      <td>25.38</td>\n",
       "      <td>17.33</td>\n",
       "      <td>184.60</td>\n",
       "      <td>2019.0</td>\n",
       "      <td>0.1622</td>\n",
       "      <td>0.6656</td>\n",
       "      <td>0.7119</td>\n",
       "      <td>0.2654</td>\n",
       "      <td>0.4601</td>\n",
       "      <td>0.1189</td>\n",
       "    </tr>\n",
       "    <tr>\n",
       "      <th>1</th>\n",
       "      <td>M</td>\n",
       "      <td>20.57</td>\n",
       "      <td>17.77</td>\n",
       "      <td>132.90</td>\n",
       "      <td>1326.0</td>\n",
       "      <td>0.0847</td>\n",
       "      <td>0.0786</td>\n",
       "      <td>0.0869</td>\n",
       "      <td>0.0702</td>\n",
       "      <td>0.1812</td>\n",
       "      <td>...</td>\n",
       "      <td>24.99</td>\n",
       "      <td>23.41</td>\n",
       "      <td>158.80</td>\n",
       "      <td>1956.0</td>\n",
       "      <td>0.1238</td>\n",
       "      <td>0.1866</td>\n",
       "      <td>0.2416</td>\n",
       "      <td>0.1860</td>\n",
       "      <td>0.2750</td>\n",
       "      <td>0.0890</td>\n",
       "    </tr>\n",
       "    <tr>\n",
       "      <th>2</th>\n",
       "      <td>M</td>\n",
       "      <td>19.69</td>\n",
       "      <td>21.25</td>\n",
       "      <td>130.00</td>\n",
       "      <td>1203.0</td>\n",
       "      <td>0.1096</td>\n",
       "      <td>0.1599</td>\n",
       "      <td>0.1974</td>\n",
       "      <td>0.1279</td>\n",
       "      <td>0.2069</td>\n",
       "      <td>...</td>\n",
       "      <td>23.57</td>\n",
       "      <td>25.53</td>\n",
       "      <td>152.50</td>\n",
       "      <td>1709.0</td>\n",
       "      <td>0.1444</td>\n",
       "      <td>0.4245</td>\n",
       "      <td>0.4504</td>\n",
       "      <td>0.2430</td>\n",
       "      <td>0.3613</td>\n",
       "      <td>0.0876</td>\n",
       "    </tr>\n",
       "    <tr>\n",
       "      <th>3</th>\n",
       "      <td>M</td>\n",
       "      <td>11.42</td>\n",
       "      <td>20.38</td>\n",
       "      <td>77.58</td>\n",
       "      <td>386.1</td>\n",
       "      <td>0.1425</td>\n",
       "      <td>0.2839</td>\n",
       "      <td>0.2414</td>\n",
       "      <td>0.1052</td>\n",
       "      <td>0.2597</td>\n",
       "      <td>...</td>\n",
       "      <td>14.91</td>\n",
       "      <td>26.50</td>\n",
       "      <td>98.87</td>\n",
       "      <td>567.7</td>\n",
       "      <td>0.2098</td>\n",
       "      <td>0.8663</td>\n",
       "      <td>0.6869</td>\n",
       "      <td>0.2575</td>\n",
       "      <td>0.6638</td>\n",
       "      <td>0.1730</td>\n",
       "    </tr>\n",
       "    <tr>\n",
       "      <th>4</th>\n",
       "      <td>M</td>\n",
       "      <td>20.29</td>\n",
       "      <td>14.34</td>\n",
       "      <td>135.10</td>\n",
       "      <td>1297.0</td>\n",
       "      <td>0.1003</td>\n",
       "      <td>0.1328</td>\n",
       "      <td>0.1980</td>\n",
       "      <td>0.1043</td>\n",
       "      <td>0.1809</td>\n",
       "      <td>...</td>\n",
       "      <td>22.54</td>\n",
       "      <td>16.67</td>\n",
       "      <td>152.20</td>\n",
       "      <td>1575.0</td>\n",
       "      <td>0.1374</td>\n",
       "      <td>0.2050</td>\n",
       "      <td>0.4000</td>\n",
       "      <td>0.1625</td>\n",
       "      <td>0.2364</td>\n",
       "      <td>0.0768</td>\n",
       "    </tr>\n",
       "  </tbody>\n",
       "</table>\n",
       "<p>5 rows × 31 columns</p>\n",
       "</div>"
      ],
      "text/plain": [
       "  diagnosis  radiusMean  radiusStandardError  radiusMax  textureMean  \\\n",
       "0         M       17.99                10.38     122.80       1001.0   \n",
       "1         M       20.57                17.77     132.90       1326.0   \n",
       "2         M       19.69                21.25     130.00       1203.0   \n",
       "3         M       11.42                20.38      77.58        386.1   \n",
       "4         M       20.29                14.34     135.10       1297.0   \n",
       "\n",
       "   textureStandardError  textureMax  perimeterMean  perimeterStandardError  \\\n",
       "0                0.1184      0.2776         0.3001                  0.1471   \n",
       "1                0.0847      0.0786         0.0869                  0.0702   \n",
       "2                0.1096      0.1599         0.1974                  0.1279   \n",
       "3                0.1425      0.2839         0.2414                  0.1052   \n",
       "4                0.1003      0.1328         0.1980                  0.1043   \n",
       "\n",
       "   perimeterMax  ...  concavityMax  concavePointsMean  \\\n",
       "0        0.2419  ...         25.38              17.33   \n",
       "1        0.1812  ...         24.99              23.41   \n",
       "2        0.2069  ...         23.57              25.53   \n",
       "3        0.2597  ...         14.91              26.50   \n",
       "4        0.1809  ...         22.54              16.67   \n",
       "\n",
       "   concavePointsStandardError  concavePointsMax  symmetryMean  \\\n",
       "0                      184.60            2019.0        0.1622   \n",
       "1                      158.80            1956.0        0.1238   \n",
       "2                      152.50            1709.0        0.1444   \n",
       "3                       98.87             567.7        0.2098   \n",
       "4                      152.20            1575.0        0.1374   \n",
       "\n",
       "   symmetryStandardError  symmetryMax  fractalDimensionMean  \\\n",
       "0                 0.6656       0.7119                0.2654   \n",
       "1                 0.1866       0.2416                0.1860   \n",
       "2                 0.4245       0.4504                0.2430   \n",
       "3                 0.8663       0.6869                0.2575   \n",
       "4                 0.2050       0.4000                0.1625   \n",
       "\n",
       "   fractalDimensionStandardError  fractalDimensionMax  \n",
       "0                         0.4601               0.1189  \n",
       "1                         0.2750               0.0890  \n",
       "2                         0.3613               0.0876  \n",
       "3                         0.6638               0.1730  \n",
       "4                         0.2364               0.0768  \n",
       "\n",
       "[5 rows x 31 columns]"
      ]
     },
     "execution_count": 2,
     "metadata": {},
     "output_type": "execute_result"
    }
   ],
   "source": [
    "diagnosis = pd.read_csv(\"./data/breastCancerData.csv\", dtype={'diagnosis': 'category'})\n",
    "diagnosis.head()"
   ]
  },
  {
   "cell_type": "markdown",
   "metadata": {},
   "source": [
    "Partition the data into training and test sets."
   ]
  },
  {
   "cell_type": "code",
   "execution_count": 3,
   "metadata": {},
   "outputs": [],
   "source": [
    "X_train, X_test, y_train, y_test = train_test_split(diagnosis.iloc[:, 1:], diagnosis.iloc[:, 0], test_size=0.3, random_state=0)"
   ]
  },
  {
   "cell_type": "markdown",
   "metadata": {},
   "source": [
    "Fit classifier and calculate accuracy."
   ]
  },
  {
   "cell_type": "code",
   "execution_count": 4,
   "metadata": {},
   "outputs": [
    {
     "name": "stdout",
     "output_type": "stream",
     "text": [
      "Accuracy: 0.9473684210526315\n"
     ]
    }
   ],
   "source": [
    "classifier = KNeighborsClassifier(n_neighbors=5)\n",
    "classifier.fit(X_train, y_train)\n",
    "print(\"Accuracy:\", classifier.score(X_test, y_test))"
   ]
  },
  {
   "cell_type": "markdown",
   "metadata": {},
   "source": [
    "False negatives are masses where the true diagnosis is malignant, but the predicted diagnosis is benign. The false negative rate is different from the misclassification rate, which includes benign masses that are misclassified as malignant."
   ]
  },
  {
   "cell_type": "code",
   "execution_count": 5,
   "metadata": {},
   "outputs": [
    {
     "name": "stdout",
     "output_type": "stream",
     "text": [
      "False negative: 0.023391812865497075\n"
     ]
    }
   ],
   "source": [
    "predictions = classifier.predict(X_test)\n",
    "false_negative = ((y_test == \"M\") & (predictions == \"B\")).mean()\n",
    "print(\"False negative:\", false_negative)"
   ]
  },
  {
   "cell_type": "code",
   "execution_count": 6,
   "metadata": {},
   "outputs": [
    {
     "data": {
      "text/plain": [
       "<Figure size 640x480 with 0 Axes>"
      ]
     },
     "metadata": {},
     "output_type": "display_data"
    },
    {
     "data": {
      "image/png": "[encoded data removed]",
      "text/plain": [
       "<Figure size 640x480 with 2 Axes>"
      ]
     },
     "metadata": {},
     "output_type": "display_data"
    }
   ],
   "source": [
    "cm = confusion_matrix(y_test, classifier.predict(X_test), labels=classifier.classes_)\n",
    "\n",
    "plt.figure()\n",
    "ConfusionMatrixDisplay(confusion_matrix=cm, display_labels=classifier.classes_).plot();\n",
    "plt.grid(visible=False)\n",
    "plt.show()"
   ]
  }
 ],
 "metadata": {
  "kernelspec": {
   "display_name": "base",
   "language": "python",
   "name": "python3"
  },
  "language_info": {
   "codemirror_mode": {
    "name": "ipython",
    "version": 3
   },
   "file_extension": ".py",
   "mimetype": "text/x-python",
   "name": "python",
   "nbconvert_exporter": "python",
   "pygments_lexer": "ipython3",
   "version": "3.9.17"
  },
  "orig_nbformat": 4
 },
 "nbformat": 4,
 "nbformat_minor": 2
}
