{
 "cells": [
  {
   "cell_type": "markdown",
   "metadata": {},
   "source": [
    "# Support Vector Machines"
   ]
  },
  {
   "cell_type": "code",
   "execution_count": 1,
   "metadata": {},
   "outputs": [],
   "source": [
    "import pandas as pd\n",
    "import matplotlib.pyplot as plt\n",
    "import seaborn as sns\n",
    "from sklearn.metrics import confusion_matrix, ConfusionMatrixDisplay\n",
    "from sklearn.svm import SVC\n",
    "from sklearn.preprocessing import StandardScaler\n",
    "from sklearn.pipeline import make_pipeline\n",
    "\n",
    "sns.set_style(\"whitegrid\")"
   ]
  },
  {
   "cell_type": "code",
   "execution_count": 2,
   "metadata": {},
   "outputs": [
    {
     "data": {
      "text/html": [
       "<div>\n",
       "<style scoped>\n",
       "    .dataframe tbody tr th:only-of-type {\n",
       "        vertical-align: middle;\n",
       "    }\n",
       "\n",
       "    .dataframe tbody tr th {\n",
       "        vertical-align: top;\n",
       "    }\n",
       "\n",
       "    .dataframe thead th {\n",
       "        text-align: right;\n",
       "    }\n",
       "</style>\n",
       "<table border=\"1\" class=\"dataframe\">\n",
       "  <thead>\n",
       "    <tr style=\"text-align: right;\">\n",
       "      <th></th>\n",
       "      <th>wMotor_mean</th>\n",
       "      <th>wMotor_std</th>\n",
       "      <th>wMotor_fftPeakIdx</th>\n",
       "      <th>wMotor_skewness</th>\n",
       "      <th>wMotor_kurtosis</th>\n",
       "      <th>wMotor_peak2peak</th>\n",
       "      <th>wMotor_peak2rms</th>\n",
       "      <th>wMotor_rms</th>\n",
       "      <th>wMotor_mad</th>\n",
       "      <th>wMotor_csRange</th>\n",
       "      <th>...</th>\n",
       "      <th>pOut_peak2peak</th>\n",
       "      <th>pOut_peak2rms</th>\n",
       "      <th>pOut_rms</th>\n",
       "      <th>pOut_mad</th>\n",
       "      <th>pOut_csRange</th>\n",
       "      <th>pOut_pLow</th>\n",
       "      <th>pOut_pMid</th>\n",
       "      <th>pOut_pHigh</th>\n",
       "      <th>pOut_pKur</th>\n",
       "      <th>faultCode</th>\n",
       "    </tr>\n",
       "  </thead>\n",
       "  <tbody>\n",
       "    <tr>\n",
       "      <th>0</th>\n",
       "      <td>876.2357</td>\n",
       "      <td>6.2048</td>\n",
       "      <td>762</td>\n",
       "      <td>-0.1646</td>\n",
       "      <td>2.8811</td>\n",
       "      <td>39.0707</td>\n",
       "      <td>1.0183</td>\n",
       "      <td>876.2576</td>\n",
       "      <td>5.0321</td>\n",
       "      <td>1225900</td>\n",
       "      <td>...</td>\n",
       "      <td>0.1255</td>\n",
       "      <td>1.0076</td>\n",
       "      <td>7.2260</td>\n",
       "      <td>0.0190</td>\n",
       "      <td>10109.0</td>\n",
       "      <td>0.000091</td>\n",
       "      <td>0.0075</td>\n",
       "      <td>0.0013</td>\n",
       "      <td>0.0763</td>\n",
       "      <td>Good</td>\n",
       "    </tr>\n",
       "    <tr>\n",
       "      <th>1</th>\n",
       "      <td>876.2382</td>\n",
       "      <td>6.0775</td>\n",
       "      <td>762</td>\n",
       "      <td>-0.1471</td>\n",
       "      <td>2.6737</td>\n",
       "      <td>34.5708</td>\n",
       "      <td>1.0170</td>\n",
       "      <td>876.2593</td>\n",
       "      <td>4.9826</td>\n",
       "      <td>1225900</td>\n",
       "      <td>...</td>\n",
       "      <td>0.1209</td>\n",
       "      <td>1.0071</td>\n",
       "      <td>7.2256</td>\n",
       "      <td>0.0190</td>\n",
       "      <td>10109.0</td>\n",
       "      <td>0.000118</td>\n",
       "      <td>0.0070</td>\n",
       "      <td>0.0014</td>\n",
       "      <td>0.0763</td>\n",
       "      <td>Good</td>\n",
       "    </tr>\n",
       "    <tr>\n",
       "      <th>2</th>\n",
       "      <td>876.0312</td>\n",
       "      <td>6.2509</td>\n",
       "      <td>762</td>\n",
       "      <td>-0.1235</td>\n",
       "      <td>2.5514</td>\n",
       "      <td>35.4915</td>\n",
       "      <td>1.0173</td>\n",
       "      <td>876.0534</td>\n",
       "      <td>5.1659</td>\n",
       "      <td>1225600</td>\n",
       "      <td>...</td>\n",
       "      <td>0.1312</td>\n",
       "      <td>1.0075</td>\n",
       "      <td>7.2259</td>\n",
       "      <td>0.0190</td>\n",
       "      <td>10109.0</td>\n",
       "      <td>0.000060</td>\n",
       "      <td>0.0066</td>\n",
       "      <td>0.0013</td>\n",
       "      <td>0.0763</td>\n",
       "      <td>Good</td>\n",
       "    </tr>\n",
       "    <tr>\n",
       "      <th>3</th>\n",
       "      <td>876.1997</td>\n",
       "      <td>6.0953</td>\n",
       "      <td>762</td>\n",
       "      <td>-0.1393</td>\n",
       "      <td>2.7053</td>\n",
       "      <td>36.0967</td>\n",
       "      <td>1.0181</td>\n",
       "      <td>876.2209</td>\n",
       "      <td>4.9627</td>\n",
       "      <td>1225800</td>\n",
       "      <td>...</td>\n",
       "      <td>0.1238</td>\n",
       "      <td>1.0067</td>\n",
       "      <td>7.2253</td>\n",
       "      <td>0.0191</td>\n",
       "      <td>10108.0</td>\n",
       "      <td>0.000051</td>\n",
       "      <td>0.0078</td>\n",
       "      <td>0.0016</td>\n",
       "      <td>0.0718</td>\n",
       "      <td>Good</td>\n",
       "    </tr>\n",
       "    <tr>\n",
       "      <th>4</th>\n",
       "      <td>876.1376</td>\n",
       "      <td>6.1633</td>\n",
       "      <td>762</td>\n",
       "      <td>-0.1416</td>\n",
       "      <td>2.7259</td>\n",
       "      <td>37.5214</td>\n",
       "      <td>1.0181</td>\n",
       "      <td>876.1593</td>\n",
       "      <td>5.0248</td>\n",
       "      <td>1225700</td>\n",
       "      <td>...</td>\n",
       "      <td>0.1273</td>\n",
       "      <td>1.0074</td>\n",
       "      <td>7.2258</td>\n",
       "      <td>0.0187</td>\n",
       "      <td>10109.0</td>\n",
       "      <td>0.000063</td>\n",
       "      <td>0.0070</td>\n",
       "      <td>0.0016</td>\n",
       "      <td>0.0763</td>\n",
       "      <td>Good</td>\n",
       "    </tr>\n",
       "  </tbody>\n",
       "</table>\n",
       "<p>5 rows × 85 columns</p>\n",
       "</div>"
      ],
      "text/plain": [
       "   wMotor_mean  wMotor_std  wMotor_fftPeakIdx  wMotor_skewness  \\\n",
       "0     876.2357      6.2048                762          -0.1646   \n",
       "1     876.2382      6.0775                762          -0.1471   \n",
       "2     876.0312      6.2509                762          -0.1235   \n",
       "3     876.1997      6.0953                762          -0.1393   \n",
       "4     876.1376      6.1633                762          -0.1416   \n",
       "\n",
       "   wMotor_kurtosis  wMotor_peak2peak  wMotor_peak2rms  wMotor_rms  wMotor_mad  \\\n",
       "0           2.8811           39.0707           1.0183    876.2576      5.0321   \n",
       "1           2.6737           34.5708           1.0170    876.2593      4.9826   \n",
       "2           2.5514           35.4915           1.0173    876.0534      5.1659   \n",
       "3           2.7053           36.0967           1.0181    876.2209      4.9627   \n",
       "4           2.7259           37.5214           1.0181    876.1593      5.0248   \n",
       "\n",
       "   wMotor_csRange  ...  pOut_peak2peak  pOut_peak2rms  pOut_rms  pOut_mad  \\\n",
       "0         1225900  ...          0.1255         1.0076    7.2260    0.0190   \n",
       "1         1225900  ...          0.1209         1.0071    7.2256    0.0190   \n",
       "2         1225600  ...          0.1312         1.0075    7.2259    0.0190   \n",
       "3         1225800  ...          0.1238         1.0067    7.2253    0.0191   \n",
       "4         1225700  ...          0.1273         1.0074    7.2258    0.0187   \n",
       "\n",
       "   pOut_csRange  pOut_pLow  pOut_pMid  pOut_pHigh  pOut_pKur  faultCode  \n",
       "0       10109.0   0.000091     0.0075      0.0013     0.0763       Good  \n",
       "1       10109.0   0.000118     0.0070      0.0014     0.0763       Good  \n",
       "2       10109.0   0.000060     0.0066      0.0013     0.0763       Good  \n",
       "3       10108.0   0.000051     0.0078      0.0016     0.0718       Good  \n",
       "4       10109.0   0.000063     0.0070      0.0016     0.0763       Good  \n",
       "\n",
       "[5 rows x 85 columns]"
      ]
     },
     "execution_count": 2,
     "metadata": {},
     "output_type": "execute_result"
    }
   ],
   "source": [
    "data_train = pd.read_excel(\"./data/pumpFeaturesSVM.xlsx\", sheet_name=\"dataTrain\", dtype={'faultCode': 'category'})\n",
    "data_train.head()"
   ]
  },
  {
   "cell_type": "code",
   "execution_count": 3,
   "metadata": {},
   "outputs": [
    {
     "data": {
      "text/html": [
       "<div>\n",
       "<style scoped>\n",
       "    .dataframe tbody tr th:only-of-type {\n",
       "        vertical-align: middle;\n",
       "    }\n",
       "\n",
       "    .dataframe tbody tr th {\n",
       "        vertical-align: top;\n",
       "    }\n",
       "\n",
       "    .dataframe thead th {\n",
       "        text-align: right;\n",
       "    }\n",
       "</style>\n",
       "<table border=\"1\" class=\"dataframe\">\n",
       "  <thead>\n",
       "    <tr style=\"text-align: right;\">\n",
       "      <th></th>\n",
       "      <th>wMotor_mean</th>\n",
       "      <th>wMotor_std</th>\n",
       "      <th>wMotor_fftPeakIdx</th>\n",
       "      <th>wMotor_skewness</th>\n",
       "      <th>wMotor_kurtosis</th>\n",
       "      <th>wMotor_peak2peak</th>\n",
       "      <th>wMotor_peak2rms</th>\n",
       "      <th>wMotor_rms</th>\n",
       "      <th>wMotor_mad</th>\n",
       "      <th>wMotor_csRange</th>\n",
       "      <th>...</th>\n",
       "      <th>pOut_peak2peak</th>\n",
       "      <th>pOut_peak2rms</th>\n",
       "      <th>pOut_rms</th>\n",
       "      <th>pOut_mad</th>\n",
       "      <th>pOut_csRange</th>\n",
       "      <th>pOut_pLow</th>\n",
       "      <th>pOut_pMid</th>\n",
       "      <th>pOut_pHigh</th>\n",
       "      <th>pOut_pKur</th>\n",
       "      <th>faultCode</th>\n",
       "    </tr>\n",
       "  </thead>\n",
       "  <tbody>\n",
       "    <tr>\n",
       "      <th>0</th>\n",
       "      <td>876.1967</td>\n",
       "      <td>6.2475</td>\n",
       "      <td>762</td>\n",
       "      <td>-0.1346</td>\n",
       "      <td>2.7289</td>\n",
       "      <td>41.5295</td>\n",
       "      <td>1.0189</td>\n",
       "      <td>876.2189</td>\n",
       "      <td>5.0936</td>\n",
       "      <td>1225800</td>\n",
       "      <td>...</td>\n",
       "      <td>0.1233</td>\n",
       "      <td>1.0078</td>\n",
       "      <td>7.2259</td>\n",
       "      <td>0.0187</td>\n",
       "      <td>10109.0</td>\n",
       "      <td>0.000066</td>\n",
       "      <td>0.0072</td>\n",
       "      <td>0.0014</td>\n",
       "      <td>0.0763</td>\n",
       "      <td>Good</td>\n",
       "    </tr>\n",
       "    <tr>\n",
       "      <th>1</th>\n",
       "      <td>876.3714</td>\n",
       "      <td>6.1812</td>\n",
       "      <td>762</td>\n",
       "      <td>-0.0960</td>\n",
       "      <td>2.7291</td>\n",
       "      <td>42.7099</td>\n",
       "      <td>1.0219</td>\n",
       "      <td>876.3932</td>\n",
       "      <td>5.0910</td>\n",
       "      <td>1226100</td>\n",
       "      <td>...</td>\n",
       "      <td>0.1246</td>\n",
       "      <td>1.0080</td>\n",
       "      <td>7.2260</td>\n",
       "      <td>0.0190</td>\n",
       "      <td>10109.0</td>\n",
       "      <td>0.000037</td>\n",
       "      <td>0.0071</td>\n",
       "      <td>0.0014</td>\n",
       "      <td>0.0763</td>\n",
       "      <td>Good</td>\n",
       "    </tr>\n",
       "    <tr>\n",
       "      <th>2</th>\n",
       "      <td>876.1230</td>\n",
       "      <td>6.0332</td>\n",
       "      <td>762</td>\n",
       "      <td>-0.0812</td>\n",
       "      <td>2.7566</td>\n",
       "      <td>34.5171</td>\n",
       "      <td>1.0179</td>\n",
       "      <td>876.1438</td>\n",
       "      <td>4.9032</td>\n",
       "      <td>1225700</td>\n",
       "      <td>...</td>\n",
       "      <td>0.1181</td>\n",
       "      <td>1.0069</td>\n",
       "      <td>7.2256</td>\n",
       "      <td>0.0190</td>\n",
       "      <td>10108.0</td>\n",
       "      <td>0.000027</td>\n",
       "      <td>0.0081</td>\n",
       "      <td>0.0015</td>\n",
       "      <td>0.0763</td>\n",
       "      <td>Good</td>\n",
       "    </tr>\n",
       "    <tr>\n",
       "      <th>3</th>\n",
       "      <td>876.2149</td>\n",
       "      <td>6.2081</td>\n",
       "      <td>762</td>\n",
       "      <td>-0.0555</td>\n",
       "      <td>2.6653</td>\n",
       "      <td>35.4141</td>\n",
       "      <td>1.0196</td>\n",
       "      <td>876.2369</td>\n",
       "      <td>5.0436</td>\n",
       "      <td>1225800</td>\n",
       "      <td>...</td>\n",
       "      <td>0.1193</td>\n",
       "      <td>1.0064</td>\n",
       "      <td>7.2256</td>\n",
       "      <td>0.0190</td>\n",
       "      <td>10108.0</td>\n",
       "      <td>0.000032</td>\n",
       "      <td>0.0072</td>\n",
       "      <td>0.0015</td>\n",
       "      <td>0.0763</td>\n",
       "      <td>Good</td>\n",
       "    </tr>\n",
       "    <tr>\n",
       "      <th>4</th>\n",
       "      <td>876.1159</td>\n",
       "      <td>6.1660</td>\n",
       "      <td>762</td>\n",
       "      <td>-0.1688</td>\n",
       "      <td>2.7116</td>\n",
       "      <td>36.9274</td>\n",
       "      <td>1.0180</td>\n",
       "      <td>876.1376</td>\n",
       "      <td>5.0401</td>\n",
       "      <td>1225700</td>\n",
       "      <td>...</td>\n",
       "      <td>0.1214</td>\n",
       "      <td>1.0075</td>\n",
       "      <td>7.2258</td>\n",
       "      <td>0.0191</td>\n",
       "      <td>10109.0</td>\n",
       "      <td>0.000049</td>\n",
       "      <td>0.0074</td>\n",
       "      <td>0.0016</td>\n",
       "      <td>0.0763</td>\n",
       "      <td>Good</td>\n",
       "    </tr>\n",
       "  </tbody>\n",
       "</table>\n",
       "<p>5 rows × 85 columns</p>\n",
       "</div>"
      ],
      "text/plain": [
       "   wMotor_mean  wMotor_std  wMotor_fftPeakIdx  wMotor_skewness  \\\n",
       "0     876.1967      6.2475                762          -0.1346   \n",
       "1     876.3714      6.1812                762          -0.0960   \n",
       "2     876.1230      6.0332                762          -0.0812   \n",
       "3     876.2149      6.2081                762          -0.0555   \n",
       "4     876.1159      6.1660                762          -0.1688   \n",
       "\n",
       "   wMotor_kurtosis  wMotor_peak2peak  wMotor_peak2rms  wMotor_rms  wMotor_mad  \\\n",
       "0           2.7289           41.5295           1.0189    876.2189      5.0936   \n",
       "1           2.7291           42.7099           1.0219    876.3932      5.0910   \n",
       "2           2.7566           34.5171           1.0179    876.1438      4.9032   \n",
       "3           2.6653           35.4141           1.0196    876.2369      5.0436   \n",
       "4           2.7116           36.9274           1.0180    876.1376      5.0401   \n",
       "\n",
       "   wMotor_csRange  ...  pOut_peak2peak  pOut_peak2rms  pOut_rms  pOut_mad  \\\n",
       "0         1225800  ...          0.1233         1.0078    7.2259    0.0187   \n",
       "1         1226100  ...          0.1246         1.0080    7.2260    0.0190   \n",
       "2         1225700  ...          0.1181         1.0069    7.2256    0.0190   \n",
       "3         1225800  ...          0.1193         1.0064    7.2256    0.0190   \n",
       "4         1225700  ...          0.1214         1.0075    7.2258    0.0191   \n",
       "\n",
       "   pOut_csRange  pOut_pLow  pOut_pMid  pOut_pHigh  pOut_pKur  faultCode  \n",
       "0       10109.0   0.000066     0.0072      0.0014     0.0763       Good  \n",
       "1       10109.0   0.000037     0.0071      0.0014     0.0763       Good  \n",
       "2       10108.0   0.000027     0.0081      0.0015     0.0763       Good  \n",
       "3       10108.0   0.000032     0.0072      0.0015     0.0763       Good  \n",
       "4       10109.0   0.000049     0.0074      0.0016     0.0763       Good  \n",
       "\n",
       "[5 rows x 85 columns]"
      ]
     },
     "execution_count": 3,
     "metadata": {},
     "output_type": "execute_result"
    }
   ],
   "source": [
    "data_test = pd.read_excel(\"./data/pumpFeaturesSVM.xlsx\", sheet_name=\"dataTest\", dtype={'faultCode': 'category'})\n",
    "data_test.head()"
   ]
  },
  {
   "cell_type": "code",
   "execution_count": 4,
   "metadata": {},
   "outputs": [],
   "source": [
    "X_train, y_train, X_test, y_test = data_train.iloc[:, :-1], data_train.iloc[:, -1], data_test.iloc[:, :-1], data_test.iloc[:, -1]"
   ]
  },
  {
   "cell_type": "markdown",
   "metadata": {},
   "source": [
    "This function is used to evaluate a model by displaying the confusion chart and accuracy."
   ]
  },
  {
   "cell_type": "code",
   "execution_count": 5,
   "metadata": {},
   "outputs": [],
   "source": [
    "def eval_model(X_test, y_test, model):\n",
    "    print(\"Accuracy:\", model.score(X_test, y_test))\n",
    "    cm = confusion_matrix(y_test, model.predict(X_test), labels=model.classes_)\n",
    "\n",
    "    plt.figure()\n",
    "    ConfusionMatrixDisplay(confusion_matrix=cm, display_labels=model.classes_).plot();\n",
    "    plt.grid(visible=False)\n",
    "    plt.show()"
   ]
  },
  {
   "cell_type": "markdown",
   "metadata": {},
   "source": [
    "To construct a Support Vector Machine (SVM), we can use the [SVC()](https://scikit-learn.org/stable/modules/generated/sklearn.svm.SVC.html#sklearn-svm-svc) class."
   ]
  },
  {
   "cell_type": "code",
   "execution_count": 6,
   "metadata": {},
   "outputs": [
    {
     "data": {
      "text/html": [
       "<style>#sk-container-id-1 {color: black;background-color: white;}#sk-container-id-1 pre{padding: 0;}#sk-container-id-1 div.sk-toggleable {background-color: white;}#sk-container-id-1 label.sk-toggleable__label {cursor: pointer;display: block;width: 100%;margin-bottom: 0;padding: 0.3em;box-sizing: border-box;text-align: center;}#sk-container-id-1 label.sk-toggleable__label-arrow:before {content: \"▸\";float: left;margin-right: 0.25em;color: #696969;}#sk-container-id-1 label.sk-toggleable__label-arrow:hover:before {color: black;}#sk-container-id-1 div.sk-estimator:hover label.sk-toggleable__label-arrow:before {color: black;}#sk-container-id-1 div.sk-toggleable__content {max-height: 0;max-width: 0;overflow: hidden;text-align: left;background-color: #f0f8ff;}#sk-container-id-1 div.sk-toggleable__content pre {margin: 0.2em;color: black;border-radius: 0.25em;background-color: #f0f8ff;}#sk-container-id-1 input.sk-toggleable__control:checked~div.sk-toggleable__content {max-height: 200px;max-width: 100%;overflow: auto;}#sk-container-id-1 input.sk-toggleable__control:checked~label.sk-toggleable__label-arrow:before {content: \"▾\";}#sk-container-id-1 div.sk-estimator input.sk-toggleable__control:checked~label.sk-toggleable__label {background-color: #d4ebff;}#sk-container-id-1 div.sk-label input.sk-toggleable__control:checked~label.sk-toggleable__label {background-color: #d4ebff;}#sk-container-id-1 input.sk-hidden--visually {border: 0;clip: rect(1px 1px 1px 1px);clip: rect(1px, 1px, 1px, 1px);height: 1px;margin: -1px;overflow: hidden;padding: 0;position: absolute;width: 1px;}#sk-container-id-1 div.sk-estimator {font-family: monospace;background-color: #f0f8ff;border: 1px dotted black;border-radius: 0.25em;box-sizing: border-box;margin-bottom: 0.5em;}#sk-container-id-1 div.sk-estimator:hover {background-color: #d4ebff;}#sk-container-id-1 div.sk-parallel-item::after {content: \"\";width: 100%;border-bottom: 1px solid gray;flex-grow: 1;}#sk-container-id-1 div.sk-label:hover label.sk-toggleable__label {background-color: #d4ebff;}#sk-container-id-1 div.sk-serial::before {content: \"\";position: absolute;border-left: 1px solid gray;box-sizing: border-box;top: 0;bottom: 0;left: 50%;z-index: 0;}#sk-container-id-1 div.sk-serial {display: flex;flex-direction: column;align-items: center;background-color: white;padding-right: 0.2em;padding-left: 0.2em;position: relative;}#sk-container-id-1 div.sk-item {position: relative;z-index: 1;}#sk-container-id-1 div.sk-parallel {display: flex;align-items: stretch;justify-content: center;background-color: white;position: relative;}#sk-container-id-1 div.sk-item::before, #sk-container-id-1 div.sk-parallel-item::before {content: \"\";position: absolute;border-left: 1px solid gray;box-sizing: border-box;top: 0;bottom: 0;left: 50%;z-index: -1;}#sk-container-id-1 div.sk-parallel-item {display: flex;flex-direction: column;z-index: 1;position: relative;background-color: white;}#sk-container-id-1 div.sk-parallel-item:first-child::after {align-self: flex-end;width: 50%;}#sk-container-id-1 div.sk-parallel-item:last-child::after {align-self: flex-start;width: 50%;}#sk-container-id-1 div.sk-parallel-item:only-child::after {width: 0;}#sk-container-id-1 div.sk-dashed-wrapped {border: 1px dashed gray;margin: 0 0.4em 0.5em 0.4em;box-sizing: border-box;padding-bottom: 0.4em;background-color: white;}#sk-container-id-1 div.sk-label label {font-family: monospace;font-weight: bold;display: inline-block;line-height: 1.2em;}#sk-container-id-1 div.sk-label-container {text-align: center;}#sk-container-id-1 div.sk-container {/* jupyter's `normalize.less` sets `[hidden] { display: none; }` but bootstrap.min.css set `[hidden] { display: none !important; }` so we also need the `!important` here to be able to override the default hidden behavior on the sphinx rendered scikit-learn.org. See: https://github.com/scikit-learn/scikit-learn/issues/21755 */display: inline-block !important;position: relative;}#sk-container-id-1 div.sk-text-repr-fallback {display: none;}</style><div id=\"sk-container-id-1\" class=\"sk-top-container\"><div class=\"sk-text-repr-fallback\"><pre>SVC(gamma=&#x27;auto&#x27;)</pre><b>In a Jupyter environment, please rerun this cell to show the HTML representation or trust the notebook. <br />On GitHub, the HTML representation is unable to render, please try loading this page with nbviewer.org.</b></div><div class=\"sk-container\" hidden><div class=\"sk-item\"><div class=\"sk-estimator sk-toggleable\"><input class=\"sk-toggleable__control sk-hidden--visually\" id=\"sk-estimator-id-1\" type=\"checkbox\" checked><label for=\"sk-estimator-id-1\" class=\"sk-toggleable__label sk-toggleable__label-arrow\">SVC</label><div class=\"sk-toggleable__content\"><pre>SVC(gamma=&#x27;auto&#x27;)</pre></div></div></div></div></div>"
      ],
      "text/plain": [
       "SVC(gamma='auto')"
      ]
     },
     "execution_count": 6,
     "metadata": {},
     "output_type": "execute_result"
    }
   ],
   "source": [
    "classifier = SVC(gamma='auto')\n",
    "classifier.fit(X_train, y_train)"
   ]
  },
  {
   "cell_type": "markdown",
   "metadata": {},
   "source": [
    "Evaluate model."
   ]
  },
  {
   "cell_type": "code",
   "execution_count": 7,
   "metadata": {},
   "outputs": [
    {
     "name": "stdout",
     "output_type": "stream",
     "text": [
      "Accuracy: 0.5952380952380952\n"
     ]
    },
    {
     "data": {
      "text/plain": [
       "<Figure size 640x480 with 0 Axes>"
      ]
     },
     "metadata": {},
     "output_type": "display_data"
    },
    {
     "data": {
      "image/png": "[encoded data removed]",
      "text/plain": [
       "<Figure size 640x480 with 2 Axes>"
      ]
     },
     "metadata": {},
     "output_type": "display_data"
    }
   ],
   "source": [
    "eval_model(X_test, y_test, classifier)"
   ]
  },
  {
   "cell_type": "markdown",
   "metadata": {},
   "source": [
    "The optimal hyperplane of the SVM optimization is influenced by the scale of the input data. Therefore, it is recommended to standardize the data when using this algorithm. We can do this prior to training using the [StandardScaler()](https://scikit-learn.org/stable/modules/generated/sklearn.preprocessing.StandardScaler.html#sklearn-preprocessing-standardscaler) class. Alternatively, we can create a Pipeline using the [make_pipeline()](https://scikit-learn.org/stable/modules/generated/sklearn.pipeline.make_pipeline.html#sklearn-pipeline-make-pipeline) function. "
   ]
  },
  {
   "cell_type": "code",
   "execution_count": 8,
   "metadata": {},
   "outputs": [
    {
     "data": {
      "text/html": [
       "<style>#sk-container-id-2 {color: black;background-color: white;}#sk-container-id-2 pre{padding: 0;}#sk-container-id-2 div.sk-toggleable {background-color: white;}#sk-container-id-2 label.sk-toggleable__label {cursor: pointer;display: block;width: 100%;margin-bottom: 0;padding: 0.3em;box-sizing: border-box;text-align: center;}#sk-container-id-2 label.sk-toggleable__label-arrow:before {content: \"▸\";float: left;margin-right: 0.25em;color: #696969;}#sk-container-id-2 label.sk-toggleable__label-arrow:hover:before {color: black;}#sk-container-id-2 div.sk-estimator:hover label.sk-toggleable__label-arrow:before {color: black;}#sk-container-id-2 div.sk-toggleable__content {max-height: 0;max-width: 0;overflow: hidden;text-align: left;background-color: #f0f8ff;}#sk-container-id-2 div.sk-toggleable__content pre {margin: 0.2em;color: black;border-radius: 0.25em;background-color: #f0f8ff;}#sk-container-id-2 input.sk-toggleable__control:checked~div.sk-toggleable__content {max-height: 200px;max-width: 100%;overflow: auto;}#sk-container-id-2 input.sk-toggleable__control:checked~label.sk-toggleable__label-arrow:before {content: \"▾\";}#sk-container-id-2 div.sk-estimator input.sk-toggleable__control:checked~label.sk-toggleable__label {background-color: #d4ebff;}#sk-container-id-2 div.sk-label input.sk-toggleable__control:checked~label.sk-toggleable__label {background-color: #d4ebff;}#sk-container-id-2 input.sk-hidden--visually {border: 0;clip: rect(1px 1px 1px 1px);clip: rect(1px, 1px, 1px, 1px);height: 1px;margin: -1px;overflow: hidden;padding: 0;position: absolute;width: 1px;}#sk-container-id-2 div.sk-estimator {font-family: monospace;background-color: #f0f8ff;border: 1px dotted black;border-radius: 0.25em;box-sizing: border-box;margin-bottom: 0.5em;}#sk-container-id-2 div.sk-estimator:hover {background-color: #d4ebff;}#sk-container-id-2 div.sk-parallel-item::after {content: \"\";width: 100%;border-bottom: 1px solid gray;flex-grow: 1;}#sk-container-id-2 div.sk-label:hover label.sk-toggleable__label {background-color: #d4ebff;}#sk-container-id-2 div.sk-serial::before {content: \"\";position: absolute;border-left: 1px solid gray;box-sizing: border-box;top: 0;bottom: 0;left: 50%;z-index: 0;}#sk-container-id-2 div.sk-serial {display: flex;flex-direction: column;align-items: center;background-color: white;padding-right: 0.2em;padding-left: 0.2em;position: relative;}#sk-container-id-2 div.sk-item {position: relative;z-index: 1;}#sk-container-id-2 div.sk-parallel {display: flex;align-items: stretch;justify-content: center;background-color: white;position: relative;}#sk-container-id-2 div.sk-item::before, #sk-container-id-2 div.sk-parallel-item::before {content: \"\";position: absolute;border-left: 1px solid gray;box-sizing: border-box;top: 0;bottom: 0;left: 50%;z-index: -1;}#sk-container-id-2 div.sk-parallel-item {display: flex;flex-direction: column;z-index: 1;position: relative;background-color: white;}#sk-container-id-2 div.sk-parallel-item:first-child::after {align-self: flex-end;width: 50%;}#sk-container-id-2 div.sk-parallel-item:last-child::after {align-self: flex-start;width: 50%;}#sk-container-id-2 div.sk-parallel-item:only-child::after {width: 0;}#sk-container-id-2 div.sk-dashed-wrapped {border: 1px dashed gray;margin: 0 0.4em 0.5em 0.4em;box-sizing: border-box;padding-bottom: 0.4em;background-color: white;}#sk-container-id-2 div.sk-label label {font-family: monospace;font-weight: bold;display: inline-block;line-height: 1.2em;}#sk-container-id-2 div.sk-label-container {text-align: center;}#sk-container-id-2 div.sk-container {/* jupyter's `normalize.less` sets `[hidden] { display: none; }` but bootstrap.min.css set `[hidden] { display: none !important; }` so we also need the `!important` here to be able to override the default hidden behavior on the sphinx rendered scikit-learn.org. See: https://github.com/scikit-learn/scikit-learn/issues/21755 */display: inline-block !important;position: relative;}#sk-container-id-2 div.sk-text-repr-fallback {display: none;}</style><div id=\"sk-container-id-2\" class=\"sk-top-container\"><div class=\"sk-text-repr-fallback\"><pre>Pipeline(steps=[(&#x27;standardscaler&#x27;, StandardScaler()),\n",
       "                (&#x27;svc&#x27;, SVC(gamma=&#x27;auto&#x27;))])</pre><b>In a Jupyter environment, please rerun this cell to show the HTML representation or trust the notebook. <br />On GitHub, the HTML representation is unable to render, please try loading this page with nbviewer.org.</b></div><div class=\"sk-container\" hidden><div class=\"sk-item sk-dashed-wrapped\"><div class=\"sk-label-container\"><div class=\"sk-label sk-toggleable\"><input class=\"sk-toggleable__control sk-hidden--visually\" id=\"sk-estimator-id-2\" type=\"checkbox\" ><label for=\"sk-estimator-id-2\" class=\"sk-toggleable__label sk-toggleable__label-arrow\">Pipeline</label><div class=\"sk-toggleable__content\"><pre>Pipeline(steps=[(&#x27;standardscaler&#x27;, StandardScaler()),\n",
       "                (&#x27;svc&#x27;, SVC(gamma=&#x27;auto&#x27;))])</pre></div></div></div><div class=\"sk-serial\"><div class=\"sk-item\"><div class=\"sk-estimator sk-toggleable\"><input class=\"sk-toggleable__control sk-hidden--visually\" id=\"sk-estimator-id-3\" type=\"checkbox\" ><label for=\"sk-estimator-id-3\" class=\"sk-toggleable__label sk-toggleable__label-arrow\">StandardScaler</label><div class=\"sk-toggleable__content\"><pre>StandardScaler()</pre></div></div></div><div class=\"sk-item\"><div class=\"sk-estimator sk-toggleable\"><input class=\"sk-toggleable__control sk-hidden--visually\" id=\"sk-estimator-id-4\" type=\"checkbox\" ><label for=\"sk-estimator-id-4\" class=\"sk-toggleable__label sk-toggleable__label-arrow\">SVC</label><div class=\"sk-toggleable__content\"><pre>SVC(gamma=&#x27;auto&#x27;)</pre></div></div></div></div></div></div></div>"
      ],
      "text/plain": [
       "Pipeline(steps=[('standardscaler', StandardScaler()),\n",
       "                ('svc', SVC(gamma='auto'))])"
      ]
     },
     "execution_count": 8,
     "metadata": {},
     "output_type": "execute_result"
    }
   ],
   "source": [
    "classifier = make_pipeline(StandardScaler(), SVC(gamma='auto'))\n",
    "classifier.fit(X_train, y_train)"
   ]
  },
  {
   "cell_type": "markdown",
   "metadata": {},
   "source": [
    "Evaluate model."
   ]
  },
  {
   "cell_type": "code",
   "execution_count": 9,
   "metadata": {},
   "outputs": [
    {
     "name": "stdout",
     "output_type": "stream",
     "text": [
      "Accuracy: 0.9523809523809523\n"
     ]
    },
    {
     "data": {
      "text/plain": [
       "<Figure size 640x480 with 0 Axes>"
      ]
     },
     "metadata": {},
     "output_type": "display_data"
    },
    {
     "data": {
      "image/png": "[encoded data removed]",
      "text/plain": [
       "<Figure size 640x480 with 2 Axes>"
      ]
     },
     "metadata": {},
     "output_type": "display_data"
    }
   ],
   "source": [
    "eval_model(X_test, y_test, classifier)"
   ]
  },
  {
   "cell_type": "markdown",
   "metadata": {},
   "source": [
    "By default, SVC uses a \"rbf\" support vector. We can modify this by changing the \"kernel\" property."
   ]
  },
  {
   "cell_type": "code",
   "execution_count": 10,
   "metadata": {},
   "outputs": [
    {
     "data": {
      "text/html": [
       "<style>#sk-container-id-3 {color: black;background-color: white;}#sk-container-id-3 pre{padding: 0;}#sk-container-id-3 div.sk-toggleable {background-color: white;}#sk-container-id-3 label.sk-toggleable__label {cursor: pointer;display: block;width: 100%;margin-bottom: 0;padding: 0.3em;box-sizing: border-box;text-align: center;}#sk-container-id-3 label.sk-toggleable__label-arrow:before {content: \"▸\";float: left;margin-right: 0.25em;color: #696969;}#sk-container-id-3 label.sk-toggleable__label-arrow:hover:before {color: black;}#sk-container-id-3 div.sk-estimator:hover label.sk-toggleable__label-arrow:before {color: black;}#sk-container-id-3 div.sk-toggleable__content {max-height: 0;max-width: 0;overflow: hidden;text-align: left;background-color: #f0f8ff;}#sk-container-id-3 div.sk-toggleable__content pre {margin: 0.2em;color: black;border-radius: 0.25em;background-color: #f0f8ff;}#sk-container-id-3 input.sk-toggleable__control:checked~div.sk-toggleable__content {max-height: 200px;max-width: 100%;overflow: auto;}#sk-container-id-3 input.sk-toggleable__control:checked~label.sk-toggleable__label-arrow:before {content: \"▾\";}#sk-container-id-3 div.sk-estimator input.sk-toggleable__control:checked~label.sk-toggleable__label {background-color: #d4ebff;}#sk-container-id-3 div.sk-label input.sk-toggleable__control:checked~label.sk-toggleable__label {background-color: #d4ebff;}#sk-container-id-3 input.sk-hidden--visually {border: 0;clip: rect(1px 1px 1px 1px);clip: rect(1px, 1px, 1px, 1px);height: 1px;margin: -1px;overflow: hidden;padding: 0;position: absolute;width: 1px;}#sk-container-id-3 div.sk-estimator {font-family: monospace;background-color: #f0f8ff;border: 1px dotted black;border-radius: 0.25em;box-sizing: border-box;margin-bottom: 0.5em;}#sk-container-id-3 div.sk-estimator:hover {background-color: #d4ebff;}#sk-container-id-3 div.sk-parallel-item::after {content: \"\";width: 100%;border-bottom: 1px solid gray;flex-grow: 1;}#sk-container-id-3 div.sk-label:hover label.sk-toggleable__label {background-color: #d4ebff;}#sk-container-id-3 div.sk-serial::before {content: \"\";position: absolute;border-left: 1px solid gray;box-sizing: border-box;top: 0;bottom: 0;left: 50%;z-index: 0;}#sk-container-id-3 div.sk-serial {display: flex;flex-direction: column;align-items: center;background-color: white;padding-right: 0.2em;padding-left: 0.2em;position: relative;}#sk-container-id-3 div.sk-item {position: relative;z-index: 1;}#sk-container-id-3 div.sk-parallel {display: flex;align-items: stretch;justify-content: center;background-color: white;position: relative;}#sk-container-id-3 div.sk-item::before, #sk-container-id-3 div.sk-parallel-item::before {content: \"\";position: absolute;border-left: 1px solid gray;box-sizing: border-box;top: 0;bottom: 0;left: 50%;z-index: -1;}#sk-container-id-3 div.sk-parallel-item {display: flex;flex-direction: column;z-index: 1;position: relative;background-color: white;}#sk-container-id-3 div.sk-parallel-item:first-child::after {align-self: flex-end;width: 50%;}#sk-container-id-3 div.sk-parallel-item:last-child::after {align-self: flex-start;width: 50%;}#sk-container-id-3 div.sk-parallel-item:only-child::after {width: 0;}#sk-container-id-3 div.sk-dashed-wrapped {border: 1px dashed gray;margin: 0 0.4em 0.5em 0.4em;box-sizing: border-box;padding-bottom: 0.4em;background-color: white;}#sk-container-id-3 div.sk-label label {font-family: monospace;font-weight: bold;display: inline-block;line-height: 1.2em;}#sk-container-id-3 div.sk-label-container {text-align: center;}#sk-container-id-3 div.sk-container {/* jupyter's `normalize.less` sets `[hidden] { display: none; }` but bootstrap.min.css set `[hidden] { display: none !important; }` so we also need the `!important` here to be able to override the default hidden behavior on the sphinx rendered scikit-learn.org. See: https://github.com/scikit-learn/scikit-learn/issues/21755 */display: inline-block !important;position: relative;}#sk-container-id-3 div.sk-text-repr-fallback {display: none;}</style><div id=\"sk-container-id-3\" class=\"sk-top-container\"><div class=\"sk-text-repr-fallback\"><pre>Pipeline(steps=[(&#x27;standardscaler&#x27;, StandardScaler()),\n",
       "                (&#x27;svc&#x27;, SVC(gamma=&#x27;auto&#x27;, kernel=&#x27;poly&#x27;))])</pre><b>In a Jupyter environment, please rerun this cell to show the HTML representation or trust the notebook. <br />On GitHub, the HTML representation is unable to render, please try loading this page with nbviewer.org.</b></div><div class=\"sk-container\" hidden><div class=\"sk-item sk-dashed-wrapped\"><div class=\"sk-label-container\"><div class=\"sk-label sk-toggleable\"><input class=\"sk-toggleable__control sk-hidden--visually\" id=\"sk-estimator-id-5\" type=\"checkbox\" ><label for=\"sk-estimator-id-5\" class=\"sk-toggleable__label sk-toggleable__label-arrow\">Pipeline</label><div class=\"sk-toggleable__content\"><pre>Pipeline(steps=[(&#x27;standardscaler&#x27;, StandardScaler()),\n",
       "                (&#x27;svc&#x27;, SVC(gamma=&#x27;auto&#x27;, kernel=&#x27;poly&#x27;))])</pre></div></div></div><div class=\"sk-serial\"><div class=\"sk-item\"><div class=\"sk-estimator sk-toggleable\"><input class=\"sk-toggleable__control sk-hidden--visually\" id=\"sk-estimator-id-6\" type=\"checkbox\" ><label for=\"sk-estimator-id-6\" class=\"sk-toggleable__label sk-toggleable__label-arrow\">StandardScaler</label><div class=\"sk-toggleable__content\"><pre>StandardScaler()</pre></div></div></div><div class=\"sk-item\"><div class=\"sk-estimator sk-toggleable\"><input class=\"sk-toggleable__control sk-hidden--visually\" id=\"sk-estimator-id-7\" type=\"checkbox\" ><label for=\"sk-estimator-id-7\" class=\"sk-toggleable__label sk-toggleable__label-arrow\">SVC</label><div class=\"sk-toggleable__content\"><pre>SVC(gamma=&#x27;auto&#x27;, kernel=&#x27;poly&#x27;)</pre></div></div></div></div></div></div></div>"
      ],
      "text/plain": [
       "Pipeline(steps=[('standardscaler', StandardScaler()),\n",
       "                ('svc', SVC(gamma='auto', kernel='poly'))])"
      ]
     },
     "execution_count": 10,
     "metadata": {},
     "output_type": "execute_result"
    }
   ],
   "source": [
    "classifier = make_pipeline(StandardScaler(), SVC(gamma='auto', kernel=\"poly\"))\n",
    "classifier.fit(X_train, y_train)"
   ]
  },
  {
   "cell_type": "markdown",
   "metadata": {},
   "source": [
    "Evaluate model."
   ]
  },
  {
   "cell_type": "code",
   "execution_count": 11,
   "metadata": {},
   "outputs": [
    {
     "name": "stdout",
     "output_type": "stream",
     "text": [
      "Accuracy: 0.873015873015873\n"
     ]
    },
    {
     "data": {
      "text/plain": [
       "<Figure size 640x480 with 0 Axes>"
      ]
     },
     "metadata": {},
     "output_type": "display_data"
    },
    {
     "data": {
      "image/png": "[encoded data removed]",
      "text/plain": [
       "<Figure size 640x480 with 2 Axes>"
      ]
     },
     "metadata": {},
     "output_type": "display_data"
    }
   ],
   "source": [
    "eval_model(X_test, y_test, classifier)"
   ]
  }
 ],
 "metadata": {
  "kernelspec": {
   "display_name": "base",
   "language": "python",
   "name": "python3"
  },
  "language_info": {
   "codemirror_mode": {
    "name": "ipython",
    "version": 3
   },
   "file_extension": ".py",
   "mimetype": "text/x-python",
   "name": "python",
   "nbconvert_exporter": "python",
   "pygments_lexer": "ipython3",
   "version": "3.9.17"
  },
  "orig_nbformat": 4
 },
 "nbformat": 4,
 "nbformat_minor": 2
}
