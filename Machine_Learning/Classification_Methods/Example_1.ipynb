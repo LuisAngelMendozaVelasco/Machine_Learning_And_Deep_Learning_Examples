{
 "cells": [
  {
   "cell_type": "markdown",
   "metadata": {},
   "source": [
    "# Classification Workflow"
   ]
  },
  {
   "cell_type": "code",
   "execution_count": 1,
   "metadata": {},
   "outputs": [],
   "source": [
    "import pandas as pd\n",
    "import matplotlib.pyplot as plt\n",
    "import seaborn as sns\n",
    "from sklearn.model_selection import train_test_split\n",
    "from sklearn.neighbors import KNeighborsClassifier\n",
    "from sklearn.metrics import confusion_matrix, ConfusionMatrixDisplay\n",
    "\n",
    "sns.set_style(\"whitegrid\")"
   ]
  },
  {
   "cell_type": "code",
   "execution_count": 2,
   "metadata": {},
   "outputs": [
    {
     "data": {
      "text/html": [
       "<div>\n",
       "<style scoped>\n",
       "    .dataframe tbody tr th:only-of-type {\n",
       "        vertical-align: middle;\n",
       "    }\n",
       "\n",
       "    .dataframe tbody tr th {\n",
       "        vertical-align: top;\n",
       "    }\n",
       "\n",
       "    .dataframe thead th {\n",
       "        text-align: right;\n",
       "    }\n",
       "</style>\n",
       "<table border=\"1\" class=\"dataframe\">\n",
       "  <thead>\n",
       "    <tr style=\"text-align: right;\">\n",
       "      <th></th>\n",
       "      <th>wMotor_mean</th>\n",
       "      <th>wMotor_std</th>\n",
       "      <th>wMotor_fftPeakIdx</th>\n",
       "      <th>wMotor_skewness</th>\n",
       "      <th>wMotor_kurtosis</th>\n",
       "      <th>wMotor_peak2peak</th>\n",
       "      <th>wMotor_peak2rms</th>\n",
       "      <th>wMotor_rms</th>\n",
       "      <th>wMotor_mad</th>\n",
       "      <th>wMotor_csRange</th>\n",
       "      <th>...</th>\n",
       "      <th>pOut_peak2peak</th>\n",
       "      <th>pOut_peak2rms</th>\n",
       "      <th>pOut_rms</th>\n",
       "      <th>pOut_mad</th>\n",
       "      <th>pOut_csRange</th>\n",
       "      <th>pOut_pLow</th>\n",
       "      <th>pOut_pMid</th>\n",
       "      <th>pOut_pHigh</th>\n",
       "      <th>pOut_pKur</th>\n",
       "      <th>faultCode</th>\n",
       "    </tr>\n",
       "  </thead>\n",
       "  <tbody>\n",
       "    <tr>\n",
       "      <th>0</th>\n",
       "      <td>876.235677</td>\n",
       "      <td>6.204772</td>\n",
       "      <td>762</td>\n",
       "      <td>-0.164601</td>\n",
       "      <td>2.881123</td>\n",
       "      <td>39.070726</td>\n",
       "      <td>1.018288</td>\n",
       "      <td>876.257629</td>\n",
       "      <td>5.032113</td>\n",
       "      <td>1.225859e+06</td>\n",
       "      <td>...</td>\n",
       "      <td>0.125500</td>\n",
       "      <td>1.007635</td>\n",
       "      <td>7.226002</td>\n",
       "      <td>0.019002</td>\n",
       "      <td>10109.108199</td>\n",
       "      <td>0.000091</td>\n",
       "      <td>0.007472</td>\n",
       "      <td>0.001348</td>\n",
       "      <td>0.076296</td>\n",
       "      <td>000</td>\n",
       "    </tr>\n",
       "    <tr>\n",
       "      <th>1</th>\n",
       "      <td>876.238247</td>\n",
       "      <td>6.077463</td>\n",
       "      <td>762</td>\n",
       "      <td>-0.147077</td>\n",
       "      <td>2.673731</td>\n",
       "      <td>34.570767</td>\n",
       "      <td>1.016957</td>\n",
       "      <td>876.259308</td>\n",
       "      <td>4.982643</td>\n",
       "      <td>1.225862e+06</td>\n",
       "      <td>...</td>\n",
       "      <td>0.120924</td>\n",
       "      <td>1.007091</td>\n",
       "      <td>7.225622</td>\n",
       "      <td>0.018990</td>\n",
       "      <td>10108.578309</td>\n",
       "      <td>0.000118</td>\n",
       "      <td>0.006954</td>\n",
       "      <td>0.001434</td>\n",
       "      <td>0.076296</td>\n",
       "      <td>000</td>\n",
       "    </tr>\n",
       "    <tr>\n",
       "      <th>2</th>\n",
       "      <td>876.031159</td>\n",
       "      <td>6.250861</td>\n",
       "      <td>762</td>\n",
       "      <td>-0.123501</td>\n",
       "      <td>2.551445</td>\n",
       "      <td>35.491460</td>\n",
       "      <td>1.017266</td>\n",
       "      <td>876.053444</td>\n",
       "      <td>5.165914</td>\n",
       "      <td>1.225575e+06</td>\n",
       "      <td>...</td>\n",
       "      <td>0.131161</td>\n",
       "      <td>1.007494</td>\n",
       "      <td>7.225906</td>\n",
       "      <td>0.019032</td>\n",
       "      <td>10108.963684</td>\n",
       "      <td>0.000060</td>\n",
       "      <td>0.006570</td>\n",
       "      <td>0.001309</td>\n",
       "      <td>0.076296</td>\n",
       "      <td>000</td>\n",
       "    </tr>\n",
       "    <tr>\n",
       "      <th>3</th>\n",
       "      <td>876.196665</td>\n",
       "      <td>6.247495</td>\n",
       "      <td>762</td>\n",
       "      <td>-0.134596</td>\n",
       "      <td>2.728913</td>\n",
       "      <td>41.529486</td>\n",
       "      <td>1.018873</td>\n",
       "      <td>876.218921</td>\n",
       "      <td>5.093603</td>\n",
       "      <td>1.225799e+06</td>\n",
       "      <td>...</td>\n",
       "      <td>0.123254</td>\n",
       "      <td>1.007770</td>\n",
       "      <td>7.225914</td>\n",
       "      <td>0.018717</td>\n",
       "      <td>10108.973834</td>\n",
       "      <td>0.000066</td>\n",
       "      <td>0.007190</td>\n",
       "      <td>0.001364</td>\n",
       "      <td>0.076296</td>\n",
       "      <td>000</td>\n",
       "    </tr>\n",
       "    <tr>\n",
       "      <th>4</th>\n",
       "      <td>876.199734</td>\n",
       "      <td>6.095278</td>\n",
       "      <td>762</td>\n",
       "      <td>-0.139257</td>\n",
       "      <td>2.705275</td>\n",
       "      <td>36.096733</td>\n",
       "      <td>1.018066</td>\n",
       "      <td>876.220919</td>\n",
       "      <td>4.962708</td>\n",
       "      <td>1.225812e+06</td>\n",
       "      <td>...</td>\n",
       "      <td>0.123759</td>\n",
       "      <td>1.006735</td>\n",
       "      <td>7.225260</td>\n",
       "      <td>0.019078</td>\n",
       "      <td>10108.065292</td>\n",
       "      <td>0.000051</td>\n",
       "      <td>0.007814</td>\n",
       "      <td>0.001600</td>\n",
       "      <td>0.071808</td>\n",
       "      <td>000</td>\n",
       "    </tr>\n",
       "  </tbody>\n",
       "</table>\n",
       "<p>5 rows × 85 columns</p>\n",
       "</div>"
      ],
      "text/plain": [
       "   wMotor_mean  wMotor_std  wMotor_fftPeakIdx  wMotor_skewness  \\\n",
       "0   876.235677    6.204772                762        -0.164601   \n",
       "1   876.238247    6.077463                762        -0.147077   \n",
       "2   876.031159    6.250861                762        -0.123501   \n",
       "3   876.196665    6.247495                762        -0.134596   \n",
       "4   876.199734    6.095278                762        -0.139257   \n",
       "\n",
       "   wMotor_kurtosis  wMotor_peak2peak  wMotor_peak2rms  wMotor_rms  wMotor_mad  \\\n",
       "0         2.881123         39.070726         1.018288  876.257629    5.032113   \n",
       "1         2.673731         34.570767         1.016957  876.259308    4.982643   \n",
       "2         2.551445         35.491460         1.017266  876.053444    5.165914   \n",
       "3         2.728913         41.529486         1.018873  876.218921    5.093603   \n",
       "4         2.705275         36.096733         1.018066  876.220919    4.962708   \n",
       "\n",
       "   wMotor_csRange  ...  pOut_peak2peak  pOut_peak2rms  pOut_rms  pOut_mad  \\\n",
       "0    1.225859e+06  ...        0.125500       1.007635  7.226002  0.019002   \n",
       "1    1.225862e+06  ...        0.120924       1.007091  7.225622  0.018990   \n",
       "2    1.225575e+06  ...        0.131161       1.007494  7.225906  0.019032   \n",
       "3    1.225799e+06  ...        0.123254       1.007770  7.225914  0.018717   \n",
       "4    1.225812e+06  ...        0.123759       1.006735  7.225260  0.019078   \n",
       "\n",
       "   pOut_csRange  pOut_pLow  pOut_pMid  pOut_pHigh  pOut_pKur  faultCode  \n",
       "0  10109.108199   0.000091   0.007472    0.001348   0.076296        000  \n",
       "1  10108.578309   0.000118   0.006954    0.001434   0.076296        000  \n",
       "2  10108.963684   0.000060   0.006570    0.001309   0.076296        000  \n",
       "3  10108.973834   0.000066   0.007190    0.001364   0.076296        000  \n",
       "4  10108.065292   0.000051   0.007814    0.001600   0.071808        000  \n",
       "\n",
       "[5 rows x 85 columns]"
      ]
     },
     "execution_count": 2,
     "metadata": {},
     "output_type": "execute_result"
    }
   ],
   "source": [
    "T = pd.read_csv(\"./data/pumpFeatures.csv\", dtype={'faultCode': 'category'})\n",
    "T.head()"
   ]
  },
  {
   "cell_type": "markdown",
   "metadata": {},
   "source": [
    "Partition into training and testing."
   ]
  },
  {
   "cell_type": "code",
   "execution_count": 3,
   "metadata": {},
   "outputs": [],
   "source": [
    "X_train, X_test, y_train, y_test = train_test_split(T.iloc[:, :-1], T.iloc[:, -1], test_size=0.3, random_state=0)"
   ]
  },
  {
   "cell_type": "markdown",
   "metadata": {},
   "source": [
    "The following syntax creates a k-nearest neighbor (kNN) classification model using the [KNeighborsClassifier()](https://scikit-learn.org/stable/modules/generated/sklearn.neighbors.KNeighborsClassifier.html#sklearn-neighbors-kneighborsclassifier) class."
   ]
  },
  {
   "cell_type": "code",
   "execution_count": 4,
   "metadata": {},
   "outputs": [
    {
     "data": {
      "text/html": [
       "<style>#sk-container-id-1 {color: black;background-color: white;}#sk-container-id-1 pre{padding: 0;}#sk-container-id-1 div.sk-toggleable {background-color: white;}#sk-container-id-1 label.sk-toggleable__label {cursor: pointer;display: block;width: 100%;margin-bottom: 0;padding: 0.3em;box-sizing: border-box;text-align: center;}#sk-container-id-1 label.sk-toggleable__label-arrow:before {content: \"▸\";float: left;margin-right: 0.25em;color: #696969;}#sk-container-id-1 label.sk-toggleable__label-arrow:hover:before {color: black;}#sk-container-id-1 div.sk-estimator:hover label.sk-toggleable__label-arrow:before {color: black;}#sk-container-id-1 div.sk-toggleable__content {max-height: 0;max-width: 0;overflow: hidden;text-align: left;background-color: #f0f8ff;}#sk-container-id-1 div.sk-toggleable__content pre {margin: 0.2em;color: black;border-radius: 0.25em;background-color: #f0f8ff;}#sk-container-id-1 input.sk-toggleable__control:checked~div.sk-toggleable__content {max-height: 200px;max-width: 100%;overflow: auto;}#sk-container-id-1 input.sk-toggleable__control:checked~label.sk-toggleable__label-arrow:before {content: \"▾\";}#sk-container-id-1 div.sk-estimator input.sk-toggleable__control:checked~label.sk-toggleable__label {background-color: #d4ebff;}#sk-container-id-1 div.sk-label input.sk-toggleable__control:checked~label.sk-toggleable__label {background-color: #d4ebff;}#sk-container-id-1 input.sk-hidden--visually {border: 0;clip: rect(1px 1px 1px 1px);clip: rect(1px, 1px, 1px, 1px);height: 1px;margin: -1px;overflow: hidden;padding: 0;position: absolute;width: 1px;}#sk-container-id-1 div.sk-estimator {font-family: monospace;background-color: #f0f8ff;border: 1px dotted black;border-radius: 0.25em;box-sizing: border-box;margin-bottom: 0.5em;}#sk-container-id-1 div.sk-estimator:hover {background-color: #d4ebff;}#sk-container-id-1 div.sk-parallel-item::after {content: \"\";width: 100%;border-bottom: 1px solid gray;flex-grow: 1;}#sk-container-id-1 div.sk-label:hover label.sk-toggleable__label {background-color: #d4ebff;}#sk-container-id-1 div.sk-serial::before {content: \"\";position: absolute;border-left: 1px solid gray;box-sizing: border-box;top: 0;bottom: 0;left: 50%;z-index: 0;}#sk-container-id-1 div.sk-serial {display: flex;flex-direction: column;align-items: center;background-color: white;padding-right: 0.2em;padding-left: 0.2em;position: relative;}#sk-container-id-1 div.sk-item {position: relative;z-index: 1;}#sk-container-id-1 div.sk-parallel {display: flex;align-items: stretch;justify-content: center;background-color: white;position: relative;}#sk-container-id-1 div.sk-item::before, #sk-container-id-1 div.sk-parallel-item::before {content: \"\";position: absolute;border-left: 1px solid gray;box-sizing: border-box;top: 0;bottom: 0;left: 50%;z-index: -1;}#sk-container-id-1 div.sk-parallel-item {display: flex;flex-direction: column;z-index: 1;position: relative;background-color: white;}#sk-container-id-1 div.sk-parallel-item:first-child::after {align-self: flex-end;width: 50%;}#sk-container-id-1 div.sk-parallel-item:last-child::after {align-self: flex-start;width: 50%;}#sk-container-id-1 div.sk-parallel-item:only-child::after {width: 0;}#sk-container-id-1 div.sk-dashed-wrapped {border: 1px dashed gray;margin: 0 0.4em 0.5em 0.4em;box-sizing: border-box;padding-bottom: 0.4em;background-color: white;}#sk-container-id-1 div.sk-label label {font-family: monospace;font-weight: bold;display: inline-block;line-height: 1.2em;}#sk-container-id-1 div.sk-label-container {text-align: center;}#sk-container-id-1 div.sk-container {/* jupyter's `normalize.less` sets `[hidden] { display: none; }` but bootstrap.min.css set `[hidden] { display: none !important; }` so we also need the `!important` here to be able to override the default hidden behavior on the sphinx rendered scikit-learn.org. See: https://github.com/scikit-learn/scikit-learn/issues/21755 */display: inline-block !important;position: relative;}#sk-container-id-1 div.sk-text-repr-fallback {display: none;}</style><div id=\"sk-container-id-1\" class=\"sk-top-container\"><div class=\"sk-text-repr-fallback\"><pre>KNeighborsClassifier(n_neighbors=1)</pre><b>In a Jupyter environment, please rerun this cell to show the HTML representation or trust the notebook. <br />On GitHub, the HTML representation is unable to render, please try loading this page with nbviewer.org.</b></div><div class=\"sk-container\" hidden><div class=\"sk-item\"><div class=\"sk-estimator sk-toggleable\"><input class=\"sk-toggleable__control sk-hidden--visually\" id=\"sk-estimator-id-1\" type=\"checkbox\" checked><label for=\"sk-estimator-id-1\" class=\"sk-toggleable__label sk-toggleable__label-arrow\">KNeighborsClassifier</label><div class=\"sk-toggleable__content\"><pre>KNeighborsClassifier(n_neighbors=1)</pre></div></div></div></div></div>"
      ],
      "text/plain": [
       "KNeighborsClassifier(n_neighbors=1)"
      ]
     },
     "execution_count": 4,
     "metadata": {},
     "output_type": "execute_result"
    }
   ],
   "source": [
    "knn_classifier = KNeighborsClassifier(n_neighbors=1)\n",
    "knn_classifier.fit(X_train, y_train)"
   ]
  },
  {
   "cell_type": "markdown",
   "metadata": {},
   "source": [
    "The [predict()](https://scikit-learn.org/stable/modules/generated/sklearn.neighbors.KNeighborsClassifier.html#sklearn.neighbors.KNeighborsClassifier.predict) function determines the predicted class of new observations."
   ]
  },
  {
   "cell_type": "code",
   "execution_count": 5,
   "metadata": {},
   "outputs": [],
   "source": [
    "predictions = knn_classifier.predict(X_test)"
   ]
  },
  {
   "cell_type": "markdown",
   "metadata": {},
   "source": [
    "We can use the function [score()](https://scikit-learn.org/stable/modules/generated/sklearn.neighbors.KNeighborsClassifier.html#sklearn.neighbors.KNeighborsClassifier.score) to evaluate how well a model classifies the data.\n",
    "The output consists of the accuracy of the classification model on the test data, a high accuracy indicates a better predictive model."
   ]
  },
  {
   "cell_type": "code",
   "execution_count": 6,
   "metadata": {},
   "outputs": [
    {
     "name": "stdout",
     "output_type": "stream",
     "text": [
      "Accuracy: 0.9033333333333333\n"
     ]
    }
   ],
   "source": [
    "accuracy = knn_classifier.score(X_test, y_test)\n",
    "print(\"Accuracy:\", accuracy)"
   ]
  },
  {
   "cell_type": "markdown",
   "metadata": {},
   "source": [
    "To visualize how the algorithm classified the observations, we can use the function [ConfusionMatrixDisplay](https://scikit-learn.org/stable/modules/generated/sklearn.metrics.ConfusionMatrixDisplay.html#sklearn-metrics-confusionmatrixdisplay) class. The result is a confusion matrix showing the number of observations for each combination of true and predicted class."
   ]
  },
  {
   "cell_type": "code",
   "execution_count": 7,
   "metadata": {},
   "outputs": [
    {
     "data": {
      "text/plain": [
       "<Figure size 640x480 with 0 Axes>"
      ]
     },
     "metadata": {},
     "output_type": "display_data"
    },
    {
     "data": {
      "image/png": "[encoded data removed]",
      "text/plain": [
       "<Figure size 640x480 with 2 Axes>"
      ]
     },
     "metadata": {},
     "output_type": "display_data"
    }
   ],
   "source": [
    "cm = confusion_matrix(y_test, predictions, labels=knn_classifier.classes_)\n",
    "\n",
    "plt.figure()\n",
    "ConfusionMatrixDisplay(confusion_matrix=cm, display_labels=knn_classifier.classes_).plot();\n",
    "plt.grid(visible=False)\n",
    "plt.show()"
   ]
  }
 ],
 "metadata": {
  "kernelspec": {
   "display_name": "base",
   "language": "python",
   "name": "python3"
  },
  "language_info": {
   "codemirror_mode": {
    "name": "ipython",
    "version": 3
   },
   "file_extension": ".py",
   "mimetype": "text/x-python",
   "name": "python",
   "nbconvert_exporter": "python",
   "pygments_lexer": "ipython3",
   "version": "3.9.17"
  },
  "orig_nbformat": 4
 },
 "nbformat": 4,
 "nbformat_minor": 2
}
