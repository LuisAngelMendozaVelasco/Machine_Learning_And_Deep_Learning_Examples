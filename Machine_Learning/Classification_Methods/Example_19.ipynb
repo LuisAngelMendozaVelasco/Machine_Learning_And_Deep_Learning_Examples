{
 "cells": [
  {
   "cell_type": "markdown",
   "metadata": {},
   "source": [
    "# Wine Quality"
   ]
  },
  {
   "cell_type": "code",
   "execution_count": 1,
   "metadata": {},
   "outputs": [],
   "source": [
    "import pandas as pd\n",
    "from sklearn.model_selection import train_test_split\n",
    "from sklearn.discriminant_analysis import LinearDiscriminantAnalysis"
   ]
  },
  {
   "cell_type": "markdown",
   "metadata": {},
   "source": [
    "The DataFrame red_wine contains several features of red wine and the corresponding quality, which is saved in the variable named \"QCLabel\"."
   ]
  },
  {
   "cell_type": "code",
   "execution_count": 2,
   "metadata": {},
   "outputs": [
    {
     "data": {
      "text/html": [
       "<div>\n",
       "<style scoped>\n",
       "    .dataframe tbody tr th:only-of-type {\n",
       "        vertical-align: middle;\n",
       "    }\n",
       "\n",
       "    .dataframe tbody tr th {\n",
       "        vertical-align: top;\n",
       "    }\n",
       "\n",
       "    .dataframe thead th {\n",
       "        text-align: right;\n",
       "    }\n",
       "</style>\n",
       "<table border=\"1\" class=\"dataframe\">\n",
       "  <thead>\n",
       "    <tr style=\"text-align: right;\">\n",
       "      <th></th>\n",
       "      <th>FixedAcidity</th>\n",
       "      <th>VolatileAcidity</th>\n",
       "      <th>CitricAcid</th>\n",
       "      <th>ResidualSugar</th>\n",
       "      <th>Chlorides</th>\n",
       "      <th>FreeSulfurDioxide</th>\n",
       "      <th>TotalSulfurDioxide</th>\n",
       "      <th>Density</th>\n",
       "      <th>pH</th>\n",
       "      <th>Sulphates</th>\n",
       "      <th>Alcohol</th>\n",
       "      <th>QCLabel</th>\n",
       "    </tr>\n",
       "  </thead>\n",
       "  <tbody>\n",
       "    <tr>\n",
       "      <th>0</th>\n",
       "      <td>0.2478</td>\n",
       "      <td>0.3973</td>\n",
       "      <td>0.00</td>\n",
       "      <td>0.0685</td>\n",
       "      <td>0.1068</td>\n",
       "      <td>0.1408</td>\n",
       "      <td>0.0989</td>\n",
       "      <td>0.5675</td>\n",
       "      <td>0.6063</td>\n",
       "      <td>0.1377</td>\n",
       "      <td>0.1538</td>\n",
       "      <td>D</td>\n",
       "    </tr>\n",
       "    <tr>\n",
       "      <th>1</th>\n",
       "      <td>0.2832</td>\n",
       "      <td>0.5205</td>\n",
       "      <td>0.00</td>\n",
       "      <td>0.1164</td>\n",
       "      <td>0.1436</td>\n",
       "      <td>0.3380</td>\n",
       "      <td>0.2155</td>\n",
       "      <td>0.4941</td>\n",
       "      <td>0.3622</td>\n",
       "      <td>0.2096</td>\n",
       "      <td>0.2154</td>\n",
       "      <td>D</td>\n",
       "    </tr>\n",
       "    <tr>\n",
       "      <th>2</th>\n",
       "      <td>0.2832</td>\n",
       "      <td>0.4384</td>\n",
       "      <td>0.04</td>\n",
       "      <td>0.0959</td>\n",
       "      <td>0.1336</td>\n",
       "      <td>0.1972</td>\n",
       "      <td>0.1696</td>\n",
       "      <td>0.5088</td>\n",
       "      <td>0.4094</td>\n",
       "      <td>0.1916</td>\n",
       "      <td>0.2154</td>\n",
       "      <td>D</td>\n",
       "    </tr>\n",
       "    <tr>\n",
       "      <th>3</th>\n",
       "      <td>0.5841</td>\n",
       "      <td>0.1096</td>\n",
       "      <td>0.56</td>\n",
       "      <td>0.0685</td>\n",
       "      <td>0.1052</td>\n",
       "      <td>0.2254</td>\n",
       "      <td>0.1908</td>\n",
       "      <td>0.5822</td>\n",
       "      <td>0.3307</td>\n",
       "      <td>0.1497</td>\n",
       "      <td>0.2154</td>\n",
       "      <td>C</td>\n",
       "    </tr>\n",
       "    <tr>\n",
       "      <th>4</th>\n",
       "      <td>0.2478</td>\n",
       "      <td>0.3973</td>\n",
       "      <td>0.00</td>\n",
       "      <td>0.0685</td>\n",
       "      <td>0.1068</td>\n",
       "      <td>0.1408</td>\n",
       "      <td>0.0989</td>\n",
       "      <td>0.5675</td>\n",
       "      <td>0.6063</td>\n",
       "      <td>0.1377</td>\n",
       "      <td>0.1538</td>\n",
       "      <td>D</td>\n",
       "    </tr>\n",
       "  </tbody>\n",
       "</table>\n",
       "</div>"
      ],
      "text/plain": [
       "   FixedAcidity  VolatileAcidity  CitricAcid  ResidualSugar  Chlorides  \\\n",
       "0        0.2478           0.3973        0.00         0.0685     0.1068   \n",
       "1        0.2832           0.5205        0.00         0.1164     0.1436   \n",
       "2        0.2832           0.4384        0.04         0.0959     0.1336   \n",
       "3        0.5841           0.1096        0.56         0.0685     0.1052   \n",
       "4        0.2478           0.3973        0.00         0.0685     0.1068   \n",
       "\n",
       "   FreeSulfurDioxide  TotalSulfurDioxide  Density      pH  Sulphates  Alcohol  \\\n",
       "0             0.1408              0.0989   0.5675  0.6063     0.1377   0.1538   \n",
       "1             0.3380              0.2155   0.4941  0.3622     0.2096   0.2154   \n",
       "2             0.1972              0.1696   0.5088  0.4094     0.1916   0.2154   \n",
       "3             0.2254              0.1908   0.5822  0.3307     0.1497   0.2154   \n",
       "4             0.1408              0.0989   0.5675  0.6063     0.1377   0.1538   \n",
       "\n",
       "  QCLabel  \n",
       "0       D  \n",
       "1       D  \n",
       "2       D  \n",
       "3       C  \n",
       "4       D  "
      ]
     },
     "execution_count": 2,
     "metadata": {},
     "output_type": "execute_result"
    }
   ],
   "source": [
    "red_wine = pd.read_csv(\"./data/redWine.csv\", dtype={'QCLabel': 'category'})\n",
    "red_wine.head()"
   ]
  },
  {
   "cell_type": "markdown",
   "metadata": {},
   "source": [
    "Partition the data into training and test sets."
   ]
  },
  {
   "cell_type": "code",
   "execution_count": 3,
   "metadata": {},
   "outputs": [],
   "source": [
    "X_train, X_test, y_train, y_test = train_test_split(red_wine.iloc[:, :-1], red_wine.iloc[:, -1], test_size=0.3, random_state=0)"
   ]
  },
  {
   "cell_type": "markdown",
   "metadata": {},
   "source": [
    "Fit classifier and calculate accuracy."
   ]
  },
  {
   "cell_type": "code",
   "execution_count": 4,
   "metadata": {},
   "outputs": [
    {
     "name": "stdout",
     "output_type": "stream",
     "text": [
      "Accuracy: 0.5878661087866108\n"
     ]
    }
   ],
   "source": [
    "classifier = LinearDiscriminantAnalysis()\n",
    "classifier.fit(X_train, y_train)\n",
    "print(\"Accuracy:\", classifier.score(X_test, y_test))"
   ]
  }
 ],
 "metadata": {
  "kernelspec": {
   "display_name": "base",
   "language": "python",
   "name": "python3"
  },
  "language_info": {
   "codemirror_mode": {
    "name": "ipython",
    "version": 3
   },
   "file_extension": ".py",
   "mimetype": "text/x-python",
   "name": "python",
   "nbconvert_exporter": "python",
   "pygments_lexer": "ipython3",
   "version": "3.9.17"
  },
  "orig_nbformat": 4
 },
 "nbformat": 4,
 "nbformat_minor": 2
}
