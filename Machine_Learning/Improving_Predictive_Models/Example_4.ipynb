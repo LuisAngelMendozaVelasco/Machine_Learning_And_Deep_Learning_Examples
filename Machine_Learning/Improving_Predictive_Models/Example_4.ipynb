{
 "cells": [
  {
   "cell_type": "markdown",
   "metadata": {},
   "source": [
    "# Feature Ranking Algorithms"
   ]
  },
  {
   "cell_type": "code",
   "execution_count": 1,
   "metadata": {},
   "outputs": [],
   "source": [
    "import pandas as pd\n",
    "import numpy as np\n",
    "from sklearn.model_selection import train_test_split, KFold, cross_validate\n",
    "import matplotlib.pyplot as plt\n",
    "import seaborn as sns\n",
    "from sklearn.tree import DecisionTreeClassifier\n",
    "import time\n",
    "from sklearn.metrics import confusion_matrix, ConfusionMatrixDisplay\n",
    "from mrmr import mrmr_classif\n",
    "\n",
    "sns.set_style(\"whitegrid\")"
   ]
  },
  {
   "cell_type": "code",
   "execution_count": 2,
   "metadata": {},
   "outputs": [
    {
     "data": {
      "text/html": [
       "<div>\n",
       "<style scoped>\n",
       "    .dataframe tbody tr th:only-of-type {\n",
       "        vertical-align: middle;\n",
       "    }\n",
       "\n",
       "    .dataframe tbody tr th {\n",
       "        vertical-align: top;\n",
       "    }\n",
       "\n",
       "    .dataframe thead th {\n",
       "        text-align: right;\n",
       "    }\n",
       "</style>\n",
       "<table border=\"1\" class=\"dataframe\">\n",
       "  <thead>\n",
       "    <tr style=\"text-align: right;\">\n",
       "      <th></th>\n",
       "      <th>wMotor_mean</th>\n",
       "      <th>wMotor_std</th>\n",
       "      <th>wMotor_fftPeakIdx</th>\n",
       "      <th>wMotor_skewness</th>\n",
       "      <th>wMotor_kurtosis</th>\n",
       "      <th>wMotor_peak2peak</th>\n",
       "      <th>wMotor_peak2rms</th>\n",
       "      <th>wMotor_rms</th>\n",
       "      <th>wMotor_mad</th>\n",
       "      <th>wMotor_csRange</th>\n",
       "      <th>...</th>\n",
       "      <th>pOut_peak2peak</th>\n",
       "      <th>pOut_peak2rms</th>\n",
       "      <th>pOut_rms</th>\n",
       "      <th>pOut_mad</th>\n",
       "      <th>pOut_csRange</th>\n",
       "      <th>pOut_pLow</th>\n",
       "      <th>pOut_pMid</th>\n",
       "      <th>pOut_pHigh</th>\n",
       "      <th>pOut_pKur</th>\n",
       "      <th>faultCode</th>\n",
       "    </tr>\n",
       "  </thead>\n",
       "  <tbody>\n",
       "    <tr>\n",
       "      <th>0</th>\n",
       "      <td>876.235677</td>\n",
       "      <td>6.204772</td>\n",
       "      <td>762</td>\n",
       "      <td>-0.164601</td>\n",
       "      <td>2.881123</td>\n",
       "      <td>39.070726</td>\n",
       "      <td>1.018288</td>\n",
       "      <td>876.257629</td>\n",
       "      <td>5.032113</td>\n",
       "      <td>1.225859e+06</td>\n",
       "      <td>...</td>\n",
       "      <td>0.125500</td>\n",
       "      <td>1.007635</td>\n",
       "      <td>7.226002</td>\n",
       "      <td>0.019002</td>\n",
       "      <td>10109.108199</td>\n",
       "      <td>0.000091</td>\n",
       "      <td>0.007472</td>\n",
       "      <td>0.001348</td>\n",
       "      <td>0.076296</td>\n",
       "      <td>0</td>\n",
       "    </tr>\n",
       "    <tr>\n",
       "      <th>1</th>\n",
       "      <td>876.238247</td>\n",
       "      <td>6.077463</td>\n",
       "      <td>762</td>\n",
       "      <td>-0.147077</td>\n",
       "      <td>2.673731</td>\n",
       "      <td>34.570767</td>\n",
       "      <td>1.016957</td>\n",
       "      <td>876.259308</td>\n",
       "      <td>4.982643</td>\n",
       "      <td>1.225862e+06</td>\n",
       "      <td>...</td>\n",
       "      <td>0.120924</td>\n",
       "      <td>1.007091</td>\n",
       "      <td>7.225622</td>\n",
       "      <td>0.018990</td>\n",
       "      <td>10108.578309</td>\n",
       "      <td>0.000118</td>\n",
       "      <td>0.006954</td>\n",
       "      <td>0.001434</td>\n",
       "      <td>0.076296</td>\n",
       "      <td>0</td>\n",
       "    </tr>\n",
       "    <tr>\n",
       "      <th>2</th>\n",
       "      <td>876.031159</td>\n",
       "      <td>6.250861</td>\n",
       "      <td>762</td>\n",
       "      <td>-0.123501</td>\n",
       "      <td>2.551445</td>\n",
       "      <td>35.491460</td>\n",
       "      <td>1.017266</td>\n",
       "      <td>876.053444</td>\n",
       "      <td>5.165914</td>\n",
       "      <td>1.225575e+06</td>\n",
       "      <td>...</td>\n",
       "      <td>0.131161</td>\n",
       "      <td>1.007494</td>\n",
       "      <td>7.225906</td>\n",
       "      <td>0.019032</td>\n",
       "      <td>10108.963684</td>\n",
       "      <td>0.000060</td>\n",
       "      <td>0.006570</td>\n",
       "      <td>0.001309</td>\n",
       "      <td>0.076296</td>\n",
       "      <td>0</td>\n",
       "    </tr>\n",
       "    <tr>\n",
       "      <th>3</th>\n",
       "      <td>876.196665</td>\n",
       "      <td>6.247495</td>\n",
       "      <td>762</td>\n",
       "      <td>-0.134596</td>\n",
       "      <td>2.728913</td>\n",
       "      <td>41.529486</td>\n",
       "      <td>1.018873</td>\n",
       "      <td>876.218921</td>\n",
       "      <td>5.093603</td>\n",
       "      <td>1.225799e+06</td>\n",
       "      <td>...</td>\n",
       "      <td>0.123254</td>\n",
       "      <td>1.007770</td>\n",
       "      <td>7.225914</td>\n",
       "      <td>0.018717</td>\n",
       "      <td>10108.973834</td>\n",
       "      <td>0.000066</td>\n",
       "      <td>0.007190</td>\n",
       "      <td>0.001364</td>\n",
       "      <td>0.076296</td>\n",
       "      <td>0</td>\n",
       "    </tr>\n",
       "    <tr>\n",
       "      <th>4</th>\n",
       "      <td>876.199734</td>\n",
       "      <td>6.095278</td>\n",
       "      <td>762</td>\n",
       "      <td>-0.139257</td>\n",
       "      <td>2.705275</td>\n",
       "      <td>36.096733</td>\n",
       "      <td>1.018066</td>\n",
       "      <td>876.220919</td>\n",
       "      <td>4.962708</td>\n",
       "      <td>1.225812e+06</td>\n",
       "      <td>...</td>\n",
       "      <td>0.123759</td>\n",
       "      <td>1.006735</td>\n",
       "      <td>7.225260</td>\n",
       "      <td>0.019078</td>\n",
       "      <td>10108.065292</td>\n",
       "      <td>0.000051</td>\n",
       "      <td>0.007814</td>\n",
       "      <td>0.001600</td>\n",
       "      <td>0.071808</td>\n",
       "      <td>0</td>\n",
       "    </tr>\n",
       "  </tbody>\n",
       "</table>\n",
       "<p>5 rows × 85 columns</p>\n",
       "</div>"
      ],
      "text/plain": [
       "   wMotor_mean  wMotor_std  wMotor_fftPeakIdx  wMotor_skewness  \\\n",
       "0   876.235677    6.204772                762        -0.164601   \n",
       "1   876.238247    6.077463                762        -0.147077   \n",
       "2   876.031159    6.250861                762        -0.123501   \n",
       "3   876.196665    6.247495                762        -0.134596   \n",
       "4   876.199734    6.095278                762        -0.139257   \n",
       "\n",
       "   wMotor_kurtosis  wMotor_peak2peak  wMotor_peak2rms  wMotor_rms  wMotor_mad  \\\n",
       "0         2.881123         39.070726         1.018288  876.257629    5.032113   \n",
       "1         2.673731         34.570767         1.016957  876.259308    4.982643   \n",
       "2         2.551445         35.491460         1.017266  876.053444    5.165914   \n",
       "3         2.728913         41.529486         1.018873  876.218921    5.093603   \n",
       "4         2.705275         36.096733         1.018066  876.220919    4.962708   \n",
       "\n",
       "   wMotor_csRange  ...  pOut_peak2peak  pOut_peak2rms  pOut_rms  pOut_mad  \\\n",
       "0    1.225859e+06  ...        0.125500       1.007635  7.226002  0.019002   \n",
       "1    1.225862e+06  ...        0.120924       1.007091  7.225622  0.018990   \n",
       "2    1.225575e+06  ...        0.131161       1.007494  7.225906  0.019032   \n",
       "3    1.225799e+06  ...        0.123254       1.007770  7.225914  0.018717   \n",
       "4    1.225812e+06  ...        0.123759       1.006735  7.225260  0.019078   \n",
       "\n",
       "   pOut_csRange  pOut_pLow  pOut_pMid  pOut_pHigh  pOut_pKur  faultCode  \n",
       "0  10109.108199   0.000091   0.007472    0.001348   0.076296          0  \n",
       "1  10108.578309   0.000118   0.006954    0.001434   0.076296          0  \n",
       "2  10108.963684   0.000060   0.006570    0.001309   0.076296          0  \n",
       "3  10108.973834   0.000066   0.007190    0.001364   0.076296          0  \n",
       "4  10108.065292   0.000051   0.007814    0.001600   0.071808          0  \n",
       "\n",
       "[5 rows x 85 columns]"
      ]
     },
     "execution_count": 2,
     "metadata": {},
     "output_type": "execute_result"
    }
   ],
   "source": [
    "T = pd.read_csv(\"./data/pumpFeatures.csv\")\n",
    "X, y = T.iloc[:, :-1], T.faultCode\n",
    "T.head()"
   ]
  },
  {
   "cell_type": "markdown",
   "metadata": {},
   "source": [
    "This code fits a 5-fold cross-validated classification tree model to the original data, calculates the accuracy, and displays a confusion chart."
   ]
  },
  {
   "cell_type": "code",
   "execution_count": 3,
   "metadata": {},
   "outputs": [
    {
     "name": "stdout",
     "output_type": "stream",
     "text": [
      "Accuracies: [0.905 0.805 0.82  0.875 0.905]\n",
      "Mean accuracy: 0.8619999999999999\n",
      "Cross validation elapsed time: 0.1940 seconds\n"
     ]
    }
   ],
   "source": [
    "classifier = DecisionTreeClassifier()\n",
    "kf = KFold(n_splits=5, shuffle=True)\n",
    "\n",
    "start_time = time.time()\n",
    "cv_results = cross_validate(classifier, X, y, cv=kf)\n",
    "elapsed_time = time.time() - start_time\n",
    "\n",
    "print(\"Accuracies:\", cv_results['test_score'])\n",
    "print(\"Mean accuracy:\", cv_results['test_score'].mean())\n",
    "print(f\"Cross validation elapsed time: {elapsed_time:.4f} seconds\")"
   ]
  },
  {
   "cell_type": "code",
   "execution_count": 4,
   "metadata": {},
   "outputs": [
    {
     "data": {
      "text/plain": [
       "<Figure size 640x480 with 0 Axes>"
      ]
     },
     "metadata": {},
     "output_type": "display_data"
    },
    {
     "data": {
      "image/png": "[encoded data removed]",
      "text/plain": [
       "<Figure size 640x480 with 2 Axes>"
      ]
     },
     "metadata": {},
     "output_type": "display_data"
    }
   ],
   "source": [
    "X_train, X_test, y_train, y_test = train_test_split(X, y, test_size=0.2)\n",
    "classifier.fit(X_train, y_train)\n",
    "y_pred = classifier.predict(X_test)\n",
    "cm = confusion_matrix(y_test, y_pred, labels=classifier.classes_)\n",
    "\n",
    "plt.figure()\n",
    "ConfusionMatrixDisplay(confusion_matrix=cm, display_labels=classifier.classes_).plot();\n",
    "plt.grid(False)\n",
    "plt.show()"
   ]
  },
  {
   "cell_type": "markdown",
   "metadata": {},
   "source": [
    "We can use the function [mrmr_classif()](https://github.com/smazzanti/mrmr) to rank the predictor variables according to the \"minimum Redundancy - Maximum Relevance\" algorithm."
   ]
  },
  {
   "cell_type": "code",
   "execution_count": 5,
   "metadata": {},
   "outputs": [],
   "source": [
    "# !pip install mrmr_selection"
   ]
  },
  {
   "cell_type": "code",
   "execution_count": 6,
   "metadata": {},
   "outputs": [
    {
     "data": {
      "image/png": "[encoded data removed]",
      "text/plain": [
       "<Figure size 640x480 with 1 Axes>"
      ]
     },
     "metadata": {},
     "output_type": "display_data"
    }
   ],
   "source": [
    "selected_features, relevance, redundancy = mrmr_classif(X=X, y=y, K=X.shape[1], return_scores=True, show_progress=False)\n",
    "\n",
    "plt.figure()\n",
    "plt.bar(range(1, X.shape[1]+1), relevance.sort_values(ascending=False))\n",
    "plt.xlabel(\"Predictor rank\")\n",
    "plt.ylabel(\"Predictor importance score\")\n",
    "plt.show()"
   ]
  },
  {
   "cell_type": "markdown",
   "metadata": {},
   "source": [
    "We can use logical indexing to select a subset of predictors according to their importance."
   ]
  },
  {
   "cell_type": "code",
   "execution_count": 7,
   "metadata": {},
   "outputs": [
    {
     "data": {
      "text/html": [
       "<div>\n",
       "<style scoped>\n",
       "    .dataframe tbody tr th:only-of-type {\n",
       "        vertical-align: middle;\n",
       "    }\n",
       "\n",
       "    .dataframe tbody tr th {\n",
       "        vertical-align: top;\n",
       "    }\n",
       "\n",
       "    .dataframe thead th {\n",
       "        text-align: right;\n",
       "    }\n",
       "</style>\n",
       "<table border=\"1\" class=\"dataframe\">\n",
       "  <thead>\n",
       "    <tr style=\"text-align: right;\">\n",
       "      <th></th>\n",
       "      <th>qIn_pMid</th>\n",
       "      <th>pIn_pMid</th>\n",
       "      <th>pOut_pMid</th>\n",
       "      <th>iMotor_pMid</th>\n",
       "      <th>wMotor_pMid</th>\n",
       "      <th>qOut_pMid</th>\n",
       "      <th>qIn_pHigh</th>\n",
       "      <th>iMotor_kurtosis</th>\n",
       "      <th>iMotor_skewness</th>\n",
       "      <th>qIn_peak2peak</th>\n",
       "      <th>pOut_rms</th>\n",
       "      <th>pOut_mean</th>\n",
       "      <th>pOut_csRange</th>\n",
       "      <th>qIn_rms</th>\n",
       "      <th>pIn_rms</th>\n",
       "    </tr>\n",
       "  </thead>\n",
       "  <tbody>\n",
       "    <tr>\n",
       "      <th>0</th>\n",
       "      <td>169.684526</td>\n",
       "      <td>0.002516</td>\n",
       "      <td>0.007472</td>\n",
       "      <td>1.065793</td>\n",
       "      <td>664.057000</td>\n",
       "      <td>101.863840</td>\n",
       "      <td>37.590646</td>\n",
       "      <td>2.630745</td>\n",
       "      <td>-0.172052</td>\n",
       "      <td>23.305008</td>\n",
       "      <td>7.226002</td>\n",
       "      <td>7.225965</td>\n",
       "      <td>10109.108199</td>\n",
       "      <td>35.752511</td>\n",
       "      <td>0.149318</td>\n",
       "    </tr>\n",
       "    <tr>\n",
       "      <th>1</th>\n",
       "      <td>185.078227</td>\n",
       "      <td>0.003187</td>\n",
       "      <td>0.006954</td>\n",
       "      <td>1.294633</td>\n",
       "      <td>542.468686</td>\n",
       "      <td>97.377707</td>\n",
       "      <td>40.793426</td>\n",
       "      <td>2.538948</td>\n",
       "      <td>-0.144831</td>\n",
       "      <td>23.935700</td>\n",
       "      <td>7.225622</td>\n",
       "      <td>7.225584</td>\n",
       "      <td>10108.578309</td>\n",
       "      <td>35.784340</td>\n",
       "      <td>0.149758</td>\n",
       "    </tr>\n",
       "    <tr>\n",
       "      <th>2</th>\n",
       "      <td>171.390923</td>\n",
       "      <td>0.002865</td>\n",
       "      <td>0.006570</td>\n",
       "      <td>1.260542</td>\n",
       "      <td>705.149947</td>\n",
       "      <td>104.221784</td>\n",
       "      <td>40.856050</td>\n",
       "      <td>2.652137</td>\n",
       "      <td>-0.146612</td>\n",
       "      <td>23.413889</td>\n",
       "      <td>7.225906</td>\n",
       "      <td>7.225869</td>\n",
       "      <td>10108.963684</td>\n",
       "      <td>35.781533</td>\n",
       "      <td>0.149433</td>\n",
       "    </tr>\n",
       "    <tr>\n",
       "      <th>3</th>\n",
       "      <td>195.045437</td>\n",
       "      <td>0.003260</td>\n",
       "      <td>0.007190</td>\n",
       "      <td>1.250080</td>\n",
       "      <td>680.750727</td>\n",
       "      <td>112.976391</td>\n",
       "      <td>43.469277</td>\n",
       "      <td>2.649174</td>\n",
       "      <td>-0.166568</td>\n",
       "      <td>23.551698</td>\n",
       "      <td>7.225914</td>\n",
       "      <td>7.225877</td>\n",
       "      <td>10108.973834</td>\n",
       "      <td>35.723558</td>\n",
       "      <td>0.149457</td>\n",
       "    </tr>\n",
       "    <tr>\n",
       "      <th>4</th>\n",
       "      <td>189.889791</td>\n",
       "      <td>0.002155</td>\n",
       "      <td>0.007814</td>\n",
       "      <td>1.195977</td>\n",
       "      <td>674.780214</td>\n",
       "      <td>103.228468</td>\n",
       "      <td>42.245681</td>\n",
       "      <td>2.643513</td>\n",
       "      <td>-0.156826</td>\n",
       "      <td>22.501752</td>\n",
       "      <td>7.225260</td>\n",
       "      <td>7.225222</td>\n",
       "      <td>10108.065292</td>\n",
       "      <td>35.768517</td>\n",
       "      <td>0.150036</td>\n",
       "    </tr>\n",
       "  </tbody>\n",
       "</table>\n",
       "</div>"
      ],
      "text/plain": [
       "     qIn_pMid  pIn_pMid  pOut_pMid  iMotor_pMid  wMotor_pMid   qOut_pMid  \\\n",
       "0  169.684526  0.002516   0.007472     1.065793   664.057000  101.863840   \n",
       "1  185.078227  0.003187   0.006954     1.294633   542.468686   97.377707   \n",
       "2  171.390923  0.002865   0.006570     1.260542   705.149947  104.221784   \n",
       "3  195.045437  0.003260   0.007190     1.250080   680.750727  112.976391   \n",
       "4  189.889791  0.002155   0.007814     1.195977   674.780214  103.228468   \n",
       "\n",
       "   qIn_pHigh  iMotor_kurtosis  iMotor_skewness  qIn_peak2peak  pOut_rms  \\\n",
       "0  37.590646         2.630745        -0.172052      23.305008  7.226002   \n",
       "1  40.793426         2.538948        -0.144831      23.935700  7.225622   \n",
       "2  40.856050         2.652137        -0.146612      23.413889  7.225906   \n",
       "3  43.469277         2.649174        -0.166568      23.551698  7.225914   \n",
       "4  42.245681         2.643513        -0.156826      22.501752  7.225260   \n",
       "\n",
       "   pOut_mean  pOut_csRange    qIn_rms   pIn_rms  \n",
       "0   7.225965  10109.108199  35.752511  0.149318  \n",
       "1   7.225584  10108.578309  35.784340  0.149758  \n",
       "2   7.225869  10108.963684  35.781533  0.149433  \n",
       "3   7.225877  10108.973834  35.723558  0.149457  \n",
       "4   7.225222  10108.065292  35.768517  0.150036  "
      ]
     },
     "execution_count": 7,
     "metadata": {},
     "output_type": "execute_result"
    }
   ],
   "source": [
    "X_selected = X[relevance.sort_values(ascending=False)[:15].index]\n",
    "X_selected.head()"
   ]
  },
  {
   "cell_type": "markdown",
   "metadata": {},
   "source": [
    "After selecting the predictors to use, we can fit a model to this subset and see how those affect the model performance."
   ]
  },
  {
   "cell_type": "code",
   "execution_count": 8,
   "metadata": {},
   "outputs": [
    {
     "name": "stdout",
     "output_type": "stream",
     "text": [
      "Accuracies: [0.765 0.77  0.815 0.83  0.735]\n",
      "Mean accuracy: 0.783\n",
      "Cross validation elapsed time: 0.0660 seconds\n"
     ]
    }
   ],
   "source": [
    "classifier = DecisionTreeClassifier()\n",
    "kf = KFold(n_splits=5, shuffle=True)\n",
    "\n",
    "start_time = time.time()\n",
    "cv_results = cross_validate(classifier, X_selected, y, cv=kf)\n",
    "elapsed_time = time.time() - start_time\n",
    "\n",
    "print(\"Accuracies:\", cv_results['test_score'])\n",
    "print(\"Mean accuracy:\", cv_results['test_score'].mean())\n",
    "print(f\"Cross validation elapsed time: {elapsed_time:.4f} seconds\")"
   ]
  },
  {
   "cell_type": "code",
   "execution_count": 9,
   "metadata": {},
   "outputs": [
    {
     "data": {
      "text/plain": [
       "<Figure size 640x480 with 0 Axes>"
      ]
     },
     "metadata": {},
     "output_type": "display_data"
    },
    {
     "data": {
      "image/png": "[encoded data removed]",
      "text/plain": [
       "<Figure size 640x480 with 2 Axes>"
      ]
     },
     "metadata": {},
     "output_type": "display_data"
    }
   ],
   "source": [
    "X_train, X_test, y_train, y_test = train_test_split(X_selected, y, test_size=0.2)\n",
    "classifier.fit(X_train, y_train)\n",
    "y_pred = classifier.predict(X_test)\n",
    "cm = confusion_matrix(y_test, y_pred, labels=classifier.classes_)\n",
    "\n",
    "plt.figure()\n",
    "ConfusionMatrixDisplay(confusion_matrix=cm, display_labels=classifier.classes_).plot();\n",
    "plt.grid(False)\n",
    "plt.show()"
   ]
  }
 ],
 "metadata": {
  "kernelspec": {
   "display_name": "base",
   "language": "python",
   "name": "python3"
  },
  "language_info": {
   "codemirror_mode": {
    "name": "ipython",
    "version": 3
   },
   "file_extension": ".py",
   "mimetype": "text/x-python",
   "name": "python",
   "nbconvert_exporter": "python",
   "pygments_lexer": "ipython3",
   "version": "3.9.17"
  },
  "orig_nbformat": 4
 },
 "nbformat": 4,
 "nbformat_minor": 2
}
