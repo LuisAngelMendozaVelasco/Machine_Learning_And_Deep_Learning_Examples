{
 "cells": [
  {
   "cell_type": "markdown",
   "metadata": {},
   "source": [
    "# Ensemble Learning - Random Forest"
   ]
  },
  {
   "cell_type": "code",
   "execution_count": 1,
   "metadata": {},
   "outputs": [],
   "source": [
    "import pandas as pd\n",
    "import numpy as np\n",
    "from sklearn.model_selection import KFold, cross_validate\n",
    "from sklearn.tree import DecisionTreeClassifier\n",
    "from sklearn.ensemble import BaggingClassifier\n",
    "import time"
   ]
  },
  {
   "cell_type": "markdown",
   "metadata": {},
   "source": [
    "The DataFrame T contains several predictors and the response variable faultCode."
   ]
  },
  {
   "cell_type": "code",
   "execution_count": 2,
   "metadata": {},
   "outputs": [
    {
     "data": {
      "text/html": [
       "<div>\n",
       "<style scoped>\n",
       "    .dataframe tbody tr th:only-of-type {\n",
       "        vertical-align: middle;\n",
       "    }\n",
       "\n",
       "    .dataframe tbody tr th {\n",
       "        vertical-align: top;\n",
       "    }\n",
       "\n",
       "    .dataframe thead th {\n",
       "        text-align: right;\n",
       "    }\n",
       "</style>\n",
       "<table border=\"1\" class=\"dataframe\">\n",
       "  <thead>\n",
       "    <tr style=\"text-align: right;\">\n",
       "      <th></th>\n",
       "      <th>wMotor_mean</th>\n",
       "      <th>wMotor_std</th>\n",
       "      <th>wMotor_fftPeakIdx</th>\n",
       "      <th>wMotor_skewness</th>\n",
       "      <th>wMotor_kurtosis</th>\n",
       "      <th>wMotor_peak2peak</th>\n",
       "      <th>wMotor_peak2rms</th>\n",
       "      <th>wMotor_rms</th>\n",
       "      <th>wMotor_mad</th>\n",
       "      <th>wMotor_csRange</th>\n",
       "      <th>...</th>\n",
       "      <th>pOut_peak2peak</th>\n",
       "      <th>pOut_peak2rms</th>\n",
       "      <th>pOut_rms</th>\n",
       "      <th>pOut_mad</th>\n",
       "      <th>pOut_csRange</th>\n",
       "      <th>pOut_pLow</th>\n",
       "      <th>pOut_pMid</th>\n",
       "      <th>pOut_pHigh</th>\n",
       "      <th>pOut_pKur</th>\n",
       "      <th>faultCode</th>\n",
       "    </tr>\n",
       "  </thead>\n",
       "  <tbody>\n",
       "    <tr>\n",
       "      <th>0</th>\n",
       "      <td>876.235677</td>\n",
       "      <td>6.204772</td>\n",
       "      <td>762</td>\n",
       "      <td>-0.164601</td>\n",
       "      <td>2.881123</td>\n",
       "      <td>39.070726</td>\n",
       "      <td>1.018288</td>\n",
       "      <td>876.257629</td>\n",
       "      <td>5.032113</td>\n",
       "      <td>1.225859e+06</td>\n",
       "      <td>...</td>\n",
       "      <td>0.125500</td>\n",
       "      <td>1.007635</td>\n",
       "      <td>7.226002</td>\n",
       "      <td>0.019002</td>\n",
       "      <td>10109.108199</td>\n",
       "      <td>0.000091</td>\n",
       "      <td>0.007472</td>\n",
       "      <td>0.001348</td>\n",
       "      <td>0.076296</td>\n",
       "      <td>0</td>\n",
       "    </tr>\n",
       "    <tr>\n",
       "      <th>1</th>\n",
       "      <td>876.238247</td>\n",
       "      <td>6.077463</td>\n",
       "      <td>762</td>\n",
       "      <td>-0.147077</td>\n",
       "      <td>2.673731</td>\n",
       "      <td>34.570767</td>\n",
       "      <td>1.016957</td>\n",
       "      <td>876.259308</td>\n",
       "      <td>4.982643</td>\n",
       "      <td>1.225862e+06</td>\n",
       "      <td>...</td>\n",
       "      <td>0.120924</td>\n",
       "      <td>1.007091</td>\n",
       "      <td>7.225622</td>\n",
       "      <td>0.018990</td>\n",
       "      <td>10108.578309</td>\n",
       "      <td>0.000118</td>\n",
       "      <td>0.006954</td>\n",
       "      <td>0.001434</td>\n",
       "      <td>0.076296</td>\n",
       "      <td>0</td>\n",
       "    </tr>\n",
       "    <tr>\n",
       "      <th>2</th>\n",
       "      <td>876.031159</td>\n",
       "      <td>6.250861</td>\n",
       "      <td>762</td>\n",
       "      <td>-0.123501</td>\n",
       "      <td>2.551445</td>\n",
       "      <td>35.491460</td>\n",
       "      <td>1.017266</td>\n",
       "      <td>876.053444</td>\n",
       "      <td>5.165914</td>\n",
       "      <td>1.225575e+06</td>\n",
       "      <td>...</td>\n",
       "      <td>0.131161</td>\n",
       "      <td>1.007494</td>\n",
       "      <td>7.225906</td>\n",
       "      <td>0.019032</td>\n",
       "      <td>10108.963684</td>\n",
       "      <td>0.000060</td>\n",
       "      <td>0.006570</td>\n",
       "      <td>0.001309</td>\n",
       "      <td>0.076296</td>\n",
       "      <td>0</td>\n",
       "    </tr>\n",
       "    <tr>\n",
       "      <th>3</th>\n",
       "      <td>876.196665</td>\n",
       "      <td>6.247495</td>\n",
       "      <td>762</td>\n",
       "      <td>-0.134596</td>\n",
       "      <td>2.728913</td>\n",
       "      <td>41.529486</td>\n",
       "      <td>1.018873</td>\n",
       "      <td>876.218921</td>\n",
       "      <td>5.093603</td>\n",
       "      <td>1.225799e+06</td>\n",
       "      <td>...</td>\n",
       "      <td>0.123254</td>\n",
       "      <td>1.007770</td>\n",
       "      <td>7.225914</td>\n",
       "      <td>0.018717</td>\n",
       "      <td>10108.973834</td>\n",
       "      <td>0.000066</td>\n",
       "      <td>0.007190</td>\n",
       "      <td>0.001364</td>\n",
       "      <td>0.076296</td>\n",
       "      <td>0</td>\n",
       "    </tr>\n",
       "    <tr>\n",
       "      <th>4</th>\n",
       "      <td>876.199734</td>\n",
       "      <td>6.095278</td>\n",
       "      <td>762</td>\n",
       "      <td>-0.139257</td>\n",
       "      <td>2.705275</td>\n",
       "      <td>36.096733</td>\n",
       "      <td>1.018066</td>\n",
       "      <td>876.220919</td>\n",
       "      <td>4.962708</td>\n",
       "      <td>1.225812e+06</td>\n",
       "      <td>...</td>\n",
       "      <td>0.123759</td>\n",
       "      <td>1.006735</td>\n",
       "      <td>7.225260</td>\n",
       "      <td>0.019078</td>\n",
       "      <td>10108.065292</td>\n",
       "      <td>0.000051</td>\n",
       "      <td>0.007814</td>\n",
       "      <td>0.001600</td>\n",
       "      <td>0.071808</td>\n",
       "      <td>0</td>\n",
       "    </tr>\n",
       "  </tbody>\n",
       "</table>\n",
       "<p>5 rows × 85 columns</p>\n",
       "</div>"
      ],
      "text/plain": [
       "   wMotor_mean  wMotor_std  wMotor_fftPeakIdx  wMotor_skewness  \\\n",
       "0   876.235677    6.204772                762        -0.164601   \n",
       "1   876.238247    6.077463                762        -0.147077   \n",
       "2   876.031159    6.250861                762        -0.123501   \n",
       "3   876.196665    6.247495                762        -0.134596   \n",
       "4   876.199734    6.095278                762        -0.139257   \n",
       "\n",
       "   wMotor_kurtosis  wMotor_peak2peak  wMotor_peak2rms  wMotor_rms  wMotor_mad  \\\n",
       "0         2.881123         39.070726         1.018288  876.257629    5.032113   \n",
       "1         2.673731         34.570767         1.016957  876.259308    4.982643   \n",
       "2         2.551445         35.491460         1.017266  876.053444    5.165914   \n",
       "3         2.728913         41.529486         1.018873  876.218921    5.093603   \n",
       "4         2.705275         36.096733         1.018066  876.220919    4.962708   \n",
       "\n",
       "   wMotor_csRange  ...  pOut_peak2peak  pOut_peak2rms  pOut_rms  pOut_mad  \\\n",
       "0    1.225859e+06  ...        0.125500       1.007635  7.226002  0.019002   \n",
       "1    1.225862e+06  ...        0.120924       1.007091  7.225622  0.018990   \n",
       "2    1.225575e+06  ...        0.131161       1.007494  7.225906  0.019032   \n",
       "3    1.225799e+06  ...        0.123254       1.007770  7.225914  0.018717   \n",
       "4    1.225812e+06  ...        0.123759       1.006735  7.225260  0.019078   \n",
       "\n",
       "   pOut_csRange  pOut_pLow  pOut_pMid  pOut_pHigh  pOut_pKur  faultCode  \n",
       "0  10109.108199   0.000091   0.007472    0.001348   0.076296          0  \n",
       "1  10108.578309   0.000118   0.006954    0.001434   0.076296          0  \n",
       "2  10108.963684   0.000060   0.006570    0.001309   0.076296          0  \n",
       "3  10108.973834   0.000066   0.007190    0.001364   0.076296          0  \n",
       "4  10108.065292   0.000051   0.007814    0.001600   0.071808          0  \n",
       "\n",
       "[5 rows x 85 columns]"
      ]
     },
     "execution_count": 2,
     "metadata": {},
     "output_type": "execute_result"
    }
   ],
   "source": [
    "T = pd.read_csv(\"./data/pumpFeatures.csv\")\n",
    "X, y = T.iloc[:, :-1], T.faultCode\n",
    "T.head()"
   ]
  },
  {
   "cell_type": "markdown",
   "metadata": {},
   "source": [
    "This code fits a classification tree and calculates the accuracy."
   ]
  },
  {
   "cell_type": "code",
   "execution_count": 3,
   "metadata": {},
   "outputs": [
    {
     "name": "stdout",
     "output_type": "stream",
     "text": [
      "Accuracies: [0.87  0.875 0.88  0.89  0.84 ]\n",
      "Mean accuracy: 0.8710000000000001\n",
      "Cross validation elapsed time: 0.2315 seconds\n"
     ]
    }
   ],
   "source": [
    "classifier = DecisionTreeClassifier()\n",
    "kf = KFold(n_splits=5, shuffle=True)\n",
    "\n",
    "start_time = time.time()\n",
    "cv_results = cross_validate(classifier, X, y, cv=kf)\n",
    "elapsed_time = time.time() - start_time\n",
    "\n",
    "print(\"Accuracies:\", cv_results['test_score'])\n",
    "print(\"Mean accuracy:\", cv_results['test_score'].mean())\n",
    "print(f\"Cross validation elapsed time: {elapsed_time:.4f} seconds\")"
   ]
  },
  {
   "cell_type": "markdown",
   "metadata": {},
   "source": [
    "We can use the [BaggingClassifier()](https://scikit-learn.org/stable/modules/generated/sklearn.ensemble.BaggingClassifier.html#sklearn-ensemble-baggingclassifier) class to create the ensemble method Bagging classifier."
   ]
  },
  {
   "cell_type": "code",
   "execution_count": 4,
   "metadata": {},
   "outputs": [
    {
     "data": {
      "text/plain": [
       "0.986"
      ]
     },
     "execution_count": 4,
     "metadata": {},
     "output_type": "execute_result"
    }
   ],
   "source": [
    "classifier = BaggingClassifier(estimator=DecisionTreeClassifier(), n_estimators=10, random_state=0)\n",
    "classifier.fit(X, y)\n",
    "classifier.score(X, y)"
   ]
  },
  {
   "cell_type": "markdown",
   "metadata": {},
   "source": [
    "Without cross validation, the ensemble was trained to fit the data perfectly. The model is most likely overfit and will not generalize well to new data."
   ]
  },
  {
   "cell_type": "code",
   "execution_count": 5,
   "metadata": {},
   "outputs": [
    {
     "name": "stdout",
     "output_type": "stream",
     "text": [
      "Accuracies: [0.885 0.895 0.89  0.9   0.935]\n",
      "Mean accuracy: 0.901\n",
      "Cross validation elapsed time: 1.7223 seconds\n"
     ]
    }
   ],
   "source": [
    "classifier = BaggingClassifier(estimator=DecisionTreeClassifier(), n_estimators=10, random_state=0)\n",
    "kf = KFold(n_splits=5, shuffle=True)\n",
    "\n",
    "start_time = time.time()\n",
    "cv_results = cross_validate(classifier, X, y, cv=kf)\n",
    "elapsed_time = time.time() - start_time\n",
    "\n",
    "print(\"Accuracies:\", cv_results['test_score'])\n",
    "print(\"Mean accuracy:\", cv_results['test_score'].mean())\n",
    "print(f\"Cross validation elapsed time: {elapsed_time:.4f} seconds\")"
   ]
  },
  {
   "cell_type": "markdown",
   "metadata": {},
   "source": [
    "We can customize a learner for the BaggingClassifier() class."
   ]
  },
  {
   "cell_type": "code",
   "execution_count": 6,
   "metadata": {},
   "outputs": [
    {
     "name": "stdout",
     "output_type": "stream",
     "text": [
      "Accuracies: [0.88  0.935 0.905 0.885 0.905]\n",
      "Mean accuracy: 0.9019999999999999\n",
      "Cross validation elapsed time: 0.4097 seconds\n"
     ]
    }
   ],
   "source": [
    "estimator = DecisionTreeClassifier(max_features=15)\n",
    "classifier = BaggingClassifier(estimator=estimator, n_estimators=10, random_state=0)\n",
    "kf = KFold(n_splits=5, shuffle=True)\n",
    "\n",
    "start_time = time.time()\n",
    "cv_results = cross_validate(classifier, X, y, cv=kf)\n",
    "elapsed_time = time.time() - start_time\n",
    "\n",
    "print(\"Accuracies:\", cv_results['test_score'])\n",
    "print(\"Mean accuracy:\", cv_results['test_score'].mean())\n",
    "print(f\"Cross validation elapsed time: {elapsed_time:.4f} seconds\")"
   ]
  }
 ],
 "metadata": {
  "kernelspec": {
   "display_name": "base",
   "language": "python",
   "name": "python3"
  },
  "language_info": {
   "codemirror_mode": {
    "name": "ipython",
    "version": 3
   },
   "file_extension": ".py",
   "mimetype": "text/x-python",
   "name": "python",
   "nbconvert_exporter": "python",
   "pygments_lexer": "ipython3",
   "version": "3.9.17"
  },
  "orig_nbformat": 4
 },
 "nbformat": 4,
 "nbformat_minor": 2
}
