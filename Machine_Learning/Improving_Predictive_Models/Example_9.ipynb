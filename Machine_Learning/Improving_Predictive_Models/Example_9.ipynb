{
 "cells": [
  {
   "cell_type": "markdown",
   "metadata": {},
   "source": [
    "# Classify Credit Ratings"
   ]
  },
  {
   "cell_type": "code",
   "execution_count": 1,
   "metadata": {},
   "outputs": [],
   "source": [
    "import pandas as pd\n",
    "import numpy as np\n",
    "from sklearn.model_selection import KFold, cross_validate\n",
    "import matplotlib.pyplot as plt\n",
    "import seaborn as sns\n",
    "from sklearn.tree import DecisionTreeClassifier\n",
    "from sklearn.inspection import permutation_importance\n",
    "import time\n",
    "from sklearn.decomposition import PCA\n",
    "from matplotlib.ticker import PercentFormatter\n",
    "from sklearn.ensemble import BaggingClassifier\n",
    "\n",
    "sns.set_style(\"whitegrid\")"
   ]
  },
  {
   "cell_type": "markdown",
   "metadata": {},
   "source": [
    "This code loads and displays the credit ratings data and a 7-fold cross-validated tree model of creditRatings."
   ]
  },
  {
   "cell_type": "code",
   "execution_count": 2,
   "metadata": {},
   "outputs": [
    {
     "data": {
      "text/html": [
       "<div>\n",
       "<style scoped>\n",
       "    .dataframe tbody tr th:only-of-type {\n",
       "        vertical-align: middle;\n",
       "    }\n",
       "\n",
       "    .dataframe tbody tr th {\n",
       "        vertical-align: top;\n",
       "    }\n",
       "\n",
       "    .dataframe thead th {\n",
       "        text-align: right;\n",
       "    }\n",
       "</style>\n",
       "<table border=\"1\" class=\"dataframe\">\n",
       "  <thead>\n",
       "    <tr style=\"text-align: right;\">\n",
       "      <th></th>\n",
       "      <th>WC_TA</th>\n",
       "      <th>RE_TA</th>\n",
       "      <th>EBIT_TA</th>\n",
       "      <th>MVE_BVTD</th>\n",
       "      <th>S_TA</th>\n",
       "      <th>Rating</th>\n",
       "    </tr>\n",
       "  </thead>\n",
       "  <tbody>\n",
       "    <tr>\n",
       "      <th>0</th>\n",
       "      <td>0.517</td>\n",
       "      <td>0.349</td>\n",
       "      <td>0.109</td>\n",
       "      <td>1.190</td>\n",
       "      <td>0.149</td>\n",
       "      <td>BBB</td>\n",
       "    </tr>\n",
       "    <tr>\n",
       "      <th>1</th>\n",
       "      <td>0.169</td>\n",
       "      <td>0.274</td>\n",
       "      <td>0.070</td>\n",
       "      <td>0.536</td>\n",
       "      <td>0.131</td>\n",
       "      <td>BB</td>\n",
       "    </tr>\n",
       "    <tr>\n",
       "      <th>2</th>\n",
       "      <td>0.536</td>\n",
       "      <td>0.863</td>\n",
       "      <td>0.107</td>\n",
       "      <td>4.549</td>\n",
       "      <td>0.583</td>\n",
       "      <td>AAA</td>\n",
       "    </tr>\n",
       "    <tr>\n",
       "      <th>3</th>\n",
       "      <td>0.313</td>\n",
       "      <td>0.511</td>\n",
       "      <td>0.078</td>\n",
       "      <td>3.461</td>\n",
       "      <td>0.452</td>\n",
       "      <td>AA</td>\n",
       "    </tr>\n",
       "    <tr>\n",
       "      <th>4</th>\n",
       "      <td>-0.029</td>\n",
       "      <td>0.081</td>\n",
       "      <td>0.028</td>\n",
       "      <td>0.971</td>\n",
       "      <td>0.226</td>\n",
       "      <td>BB</td>\n",
       "    </tr>\n",
       "  </tbody>\n",
       "</table>\n",
       "</div>"
      ],
      "text/plain": [
       "   WC_TA  RE_TA  EBIT_TA  MVE_BVTD   S_TA Rating\n",
       "0  0.517  0.349    0.109     1.190  0.149    BBB\n",
       "1  0.169  0.274    0.070     0.536  0.131     BB\n",
       "2  0.536  0.863    0.107     4.549  0.583    AAA\n",
       "3  0.313  0.511    0.078     3.461  0.452     AA\n",
       "4 -0.029  0.081    0.028     0.971  0.226     BB"
      ]
     },
     "execution_count": 2,
     "metadata": {},
     "output_type": "execute_result"
    }
   ],
   "source": [
    "creditRatings = pd.read_csv(\"./data/creditRatings.csv\", dtype={'Rating': 'category'})\n",
    "X, y = creditRatings.iloc[:, :-1], creditRatings.Rating\n",
    "creditRatings.head()"
   ]
  },
  {
   "cell_type": "code",
   "execution_count": 3,
   "metadata": {},
   "outputs": [
    {
     "name": "stdout",
     "output_type": "stream",
     "text": [
      "Accuracies: [0.58333333 0.63888889 0.86111111 0.66666667 0.63888889 0.65714286\n",
      " 0.62857143]\n",
      "Mean accuracy: 0.6678004535147392\n",
      "Cross validation elapsed time: 0.0340 seconds\n"
     ]
    }
   ],
   "source": [
    "classifier = DecisionTreeClassifier()\n",
    "kf = KFold(n_splits=7, shuffle=True)\n",
    "\n",
    "start_time = time.time()\n",
    "cv_results = cross_validate(classifier, X, y, cv=kf)\n",
    "elapsed_time = time.time() - start_time\n",
    "\n",
    "print(\"Accuracies:\", cv_results['test_score'])\n",
    "print(\"Mean accuracy:\", cv_results['test_score'].mean())\n",
    "print(f\"Cross validation elapsed time: {elapsed_time:.4f} seconds\")"
   ]
  },
  {
   "cell_type": "markdown",
   "metadata": {},
   "source": [
    "Fit model with 2 predictors.\n",
    "## Method: Feature Selection (Tree)"
   ]
  },
  {
   "cell_type": "code",
   "execution_count": 4,
   "metadata": {},
   "outputs": [
    {
     "data": {
      "text/html": [
       "<div>\n",
       "<style scoped>\n",
       "    .dataframe tbody tr th:only-of-type {\n",
       "        vertical-align: middle;\n",
       "    }\n",
       "\n",
       "    .dataframe tbody tr th {\n",
       "        vertical-align: top;\n",
       "    }\n",
       "\n",
       "    .dataframe thead th {\n",
       "        text-align: right;\n",
       "    }\n",
       "</style>\n",
       "<table border=\"1\" class=\"dataframe\">\n",
       "  <thead>\n",
       "    <tr style=\"text-align: right;\">\n",
       "      <th></th>\n",
       "      <th>features</th>\n",
       "      <th>importances_mean</th>\n",
       "      <th>importances_std</th>\n",
       "    </tr>\n",
       "  </thead>\n",
       "  <tbody>\n",
       "    <tr>\n",
       "      <th>0</th>\n",
       "      <td>WC_TA</td>\n",
       "      <td>0.1392</td>\n",
       "      <td>0.016762</td>\n",
       "    </tr>\n",
       "    <tr>\n",
       "      <th>1</th>\n",
       "      <td>RE_TA</td>\n",
       "      <td>0.2496</td>\n",
       "      <td>0.018608</td>\n",
       "    </tr>\n",
       "    <tr>\n",
       "      <th>2</th>\n",
       "      <td>EBIT_TA</td>\n",
       "      <td>0.0444</td>\n",
       "      <td>0.007473</td>\n",
       "    </tr>\n",
       "    <tr>\n",
       "      <th>3</th>\n",
       "      <td>MVE_BVTD</td>\n",
       "      <td>0.7344</td>\n",
       "      <td>0.018348</td>\n",
       "    </tr>\n",
       "    <tr>\n",
       "      <th>4</th>\n",
       "      <td>S_TA</td>\n",
       "      <td>0.1716</td>\n",
       "      <td>0.020587</td>\n",
       "    </tr>\n",
       "  </tbody>\n",
       "</table>\n",
       "</div>"
      ],
      "text/plain": [
       "   features  importances_mean  importances_std\n",
       "0     WC_TA            0.1392         0.016762\n",
       "1     RE_TA            0.2496         0.018608\n",
       "2   EBIT_TA            0.0444         0.007473\n",
       "3  MVE_BVTD            0.7344         0.018348\n",
       "4      S_TA            0.1716         0.020587"
      ]
     },
     "execution_count": 4,
     "metadata": {},
     "output_type": "execute_result"
    }
   ],
   "source": [
    "classifier = DecisionTreeClassifier(random_state=0)\n",
    "classifier.fit(X, y)\n",
    "\n",
    "feature_importances = permutation_importance(classifier, X, y, n_repeats=10, random_state=0)\n",
    "feature_importances = pd.DataFrame({'features': X.columns, 'importances_mean': feature_importances['importances_mean'], \n",
    "                                    'importances_std': feature_importances['importances_std']})\n",
    "feature_importances.head()"
   ]
  },
  {
   "cell_type": "code",
   "execution_count": 5,
   "metadata": {},
   "outputs": [
    {
     "data": {
      "text/plain": [
       "<Figure size 640x480 with 0 Axes>"
      ]
     },
     "metadata": {},
     "output_type": "display_data"
    },
    {
     "data": {
      "image/png": "[encoded data removed]",
      "text/plain": [
       "<Figure size 640x480 with 1 Axes>"
      ]
     },
     "metadata": {},
     "output_type": "display_data"
    }
   ],
   "source": [
    "plt.figure()\n",
    "feature_importances.plot.bar(x='features', y='importances_mean', yerr='importances_std', legend=None)\n",
    "plt.title(\"Feature importances using permutation\")\n",
    "plt.xlabel(\"Features\")\n",
    "plt.ylabel(\"Importances mean\")\n",
    "plt.show()"
   ]
  },
  {
   "cell_type": "code",
   "execution_count": 6,
   "metadata": {},
   "outputs": [
    {
     "data": {
      "text/html": [
       "<div>\n",
       "<style scoped>\n",
       "    .dataframe tbody tr th:only-of-type {\n",
       "        vertical-align: middle;\n",
       "    }\n",
       "\n",
       "    .dataframe tbody tr th {\n",
       "        vertical-align: top;\n",
       "    }\n",
       "\n",
       "    .dataframe thead th {\n",
       "        text-align: right;\n",
       "    }\n",
       "</style>\n",
       "<table border=\"1\" class=\"dataframe\">\n",
       "  <thead>\n",
       "    <tr style=\"text-align: right;\">\n",
       "      <th></th>\n",
       "      <th>MVE_BVTD</th>\n",
       "      <th>RE_TA</th>\n",
       "    </tr>\n",
       "  </thead>\n",
       "  <tbody>\n",
       "    <tr>\n",
       "      <th>0</th>\n",
       "      <td>1.190</td>\n",
       "      <td>0.349</td>\n",
       "    </tr>\n",
       "    <tr>\n",
       "      <th>1</th>\n",
       "      <td>0.536</td>\n",
       "      <td>0.274</td>\n",
       "    </tr>\n",
       "    <tr>\n",
       "      <th>2</th>\n",
       "      <td>4.549</td>\n",
       "      <td>0.863</td>\n",
       "    </tr>\n",
       "    <tr>\n",
       "      <th>3</th>\n",
       "      <td>3.461</td>\n",
       "      <td>0.511</td>\n",
       "    </tr>\n",
       "    <tr>\n",
       "      <th>4</th>\n",
       "      <td>0.971</td>\n",
       "      <td>0.081</td>\n",
       "    </tr>\n",
       "  </tbody>\n",
       "</table>\n",
       "</div>"
      ],
      "text/plain": [
       "   MVE_BVTD  RE_TA\n",
       "0     1.190  0.349\n",
       "1     0.536  0.274\n",
       "2     4.549  0.863\n",
       "3     3.461  0.511\n",
       "4     0.971  0.081"
      ]
     },
     "execution_count": 6,
     "metadata": {},
     "output_type": "execute_result"
    }
   ],
   "source": [
    "fetures_keep = feature_importances['importances_mean'].sort_values(ascending=False)[:2].index\n",
    "fetures_keep\n",
    "\n",
    "X_selected = X[X.columns[fetures_keep]]\n",
    "X_selected.head()"
   ]
  },
  {
   "cell_type": "code",
   "execution_count": 7,
   "metadata": {},
   "outputs": [
    {
     "name": "stdout",
     "output_type": "stream",
     "text": [
      "Accuracies: [0.66666667 0.80555556 0.52777778 0.61111111 0.55555556 0.68571429\n",
      " 0.68571429]\n",
      "Mean accuracy: 0.6482993197278912\n",
      "Cross validation elapsed time: 0.0330 seconds\n"
     ]
    }
   ],
   "source": [
    "classifier = DecisionTreeClassifier()\n",
    "kf = KFold(n_splits=7, shuffle=True)\n",
    "\n",
    "start_time = time.time()\n",
    "cv_results = cross_validate(classifier, X_selected, y, cv=kf)\n",
    "elapsed_time = time.time() - start_time\n",
    "\n",
    "print(\"Accuracies:\", cv_results['test_score'])\n",
    "print(\"Mean accuracy:\", cv_results['test_score'].mean())\n",
    "print(f\"Cross validation elapsed time: {elapsed_time:.4f} seconds\")"
   ]
  },
  {
   "cell_type": "markdown",
   "metadata": {},
   "source": [
    "## Method: Feature Transformation (PCA)"
   ]
  },
  {
   "cell_type": "code",
   "execution_count": 8,
   "metadata": {},
   "outputs": [
    {
     "data": {
      "text/html": [
       "<div>\n",
       "<style scoped>\n",
       "    .dataframe tbody tr th:only-of-type {\n",
       "        vertical-align: middle;\n",
       "    }\n",
       "\n",
       "    .dataframe tbody tr th {\n",
       "        vertical-align: top;\n",
       "    }\n",
       "\n",
       "    .dataframe thead th {\n",
       "        text-align: right;\n",
       "    }\n",
       "</style>\n",
       "<table border=\"1\" class=\"dataframe\">\n",
       "  <thead>\n",
       "    <tr style=\"text-align: right;\">\n",
       "      <th></th>\n",
       "      <th>0</th>\n",
       "      <th>1</th>\n",
       "      <th>2</th>\n",
       "      <th>3</th>\n",
       "      <th>4</th>\n",
       "    </tr>\n",
       "  </thead>\n",
       "  <tbody>\n",
       "    <tr>\n",
       "      <th>0</th>\n",
       "      <td>-1.001338</td>\n",
       "      <td>-0.328730</td>\n",
       "      <td>0.264908</td>\n",
       "      <td>0.168674</td>\n",
       "      <td>-0.004782</td>\n",
       "    </tr>\n",
       "    <tr>\n",
       "      <th>1</th>\n",
       "      <td>-1.667535</td>\n",
       "      <td>-0.160815</td>\n",
       "      <td>0.092176</td>\n",
       "      <td>-0.064530</td>\n",
       "      <td>-0.012239</td>\n",
       "    </tr>\n",
       "    <tr>\n",
       "      <th>2</th>\n",
       "      <td>2.402732</td>\n",
       "      <td>-0.586306</td>\n",
       "      <td>-0.015491</td>\n",
       "      <td>0.113065</td>\n",
       "      <td>0.002122</td>\n",
       "    </tr>\n",
       "    <tr>\n",
       "      <th>3</th>\n",
       "      <td>1.282936</td>\n",
       "      <td>-0.244594</td>\n",
       "      <td>-0.013887</td>\n",
       "      <td>0.044811</td>\n",
       "      <td>-0.000780</td>\n",
       "    </tr>\n",
       "    <tr>\n",
       "      <th>4</th>\n",
       "      <td>-1.246717</td>\n",
       "      <td>0.121699</td>\n",
       "      <td>-0.042051</td>\n",
       "      <td>-0.101580</td>\n",
       "      <td>0.000999</td>\n",
       "    </tr>\n",
       "  </tbody>\n",
       "</table>\n",
       "</div>"
      ],
      "text/plain": [
       "          0         1         2         3         4\n",
       "0 -1.001338 -0.328730  0.264908  0.168674 -0.004782\n",
       "1 -1.667535 -0.160815  0.092176 -0.064530 -0.012239\n",
       "2  2.402732 -0.586306 -0.015491  0.113065  0.002122\n",
       "3  1.282936 -0.244594 -0.013887  0.044811 -0.000780\n",
       "4 -1.246717  0.121699 -0.042051 -0.101580  0.000999"
      ]
     },
     "execution_count": 8,
     "metadata": {},
     "output_type": "execute_result"
    }
   ],
   "source": [
    "pca = PCA(n_components=X.shape[1])\n",
    "X_pca = pca.fit_transform(X)\n",
    "variance_ratio = pca.explained_variance_ratio_\n",
    "pd.DataFrame(X_pca).head()"
   ]
  },
  {
   "cell_type": "code",
   "execution_count": 9,
   "metadata": {},
   "outputs": [
    {
     "data": {
      "image/png": "[encoded data removed]",
      "text/plain": [
       "<Figure size 640x480 with 2 Axes>"
      ]
     },
     "metadata": {},
     "output_type": "display_data"
    }
   ],
   "source": [
    "fig, ax = plt.subplots()\n",
    "\n",
    "# Plot bars (i.e. frequencies)\n",
    "ax.bar(np.arange(1, 6), variance_ratio)\n",
    "ax.set_ylim(0, variance_ratio.sum()*1.05)\n",
    "ax.set_title(\"Pareto Chart\")\n",
    "ax.set_xticks(np.arange(1, 6))\n",
    "\n",
    "# Second y axis (i.e. cumulative percentage)\n",
    "ax2 = ax.twinx()\n",
    "ax2.plot(np.arange(1, 6), (variance_ratio * 100).cumsum(), color=\"red\", marker=\"o\")\n",
    "ax2.axhline(90, color=\"orange\", linestyle=\"dashed\")\n",
    "ax2.yaxis.set_major_formatter(PercentFormatter())\n",
    "ax2.set_ylim(0, 100*1.05)\n",
    "\n",
    "plt.show()"
   ]
  },
  {
   "cell_type": "code",
   "execution_count": 10,
   "metadata": {},
   "outputs": [
    {
     "name": "stdout",
     "output_type": "stream",
     "text": [
      "Accuracies: [0.63888889 0.66666667 0.66666667 0.66666667 0.63888889 0.62857143\n",
      " 0.57142857]\n",
      "Mean accuracy: 0.6396825396825395\n",
      "Cross validation elapsed time: 0.0170 seconds\n"
     ]
    }
   ],
   "source": [
    "X_pca = X_pca[:, :2]\n",
    "classifier = DecisionTreeClassifier()\n",
    "kf = KFold(n_splits=7, shuffle=True)\n",
    "\n",
    "start_time = time.time()\n",
    "cv_results = cross_validate(classifier, X_pca, y, cv=kf)\n",
    "elapsed_time = time.time() - start_time\n",
    "\n",
    "print(\"Accuracies:\", cv_results['test_score'])\n",
    "print(\"Mean accuracy:\", cv_results['test_score'].mean())\n",
    "print(f\"Cross validation elapsed time: {elapsed_time:.4f} seconds\")"
   ]
  },
  {
   "cell_type": "markdown",
   "metadata": {},
   "source": [
    "Fit ensemble with 3 or fewer predictors.\n",
    "\n",
    "## Method: Feature Selection (Tree)"
   ]
  },
  {
   "cell_type": "code",
   "execution_count": 11,
   "metadata": {},
   "outputs": [
    {
     "name": "stdout",
     "output_type": "stream",
     "text": [
      "Accuracies: [0.72222222 0.75       0.75       0.61111111 0.75       0.62857143\n",
      " 0.74285714]\n",
      "Mean accuracy: 0.7078231292517007\n",
      "Cross validation elapsed time: 0.1480 seconds\n"
     ]
    }
   ],
   "source": [
    "classifier = BaggingClassifier(estimator=DecisionTreeClassifier(), n_estimators=10, random_state=0)\n",
    "kf = KFold(n_splits=7, shuffle=True)\n",
    "\n",
    "start_time = time.time()\n",
    "cv_results = cross_validate(classifier, X_selected, y, cv=kf)\n",
    "elapsed_time = time.time() - start_time\n",
    "\n",
    "print(\"Accuracies:\", cv_results['test_score'])\n",
    "print(\"Mean accuracy:\", cv_results['test_score'].mean())\n",
    "print(f\"Cross validation elapsed time: {elapsed_time:.4f} seconds\")"
   ]
  },
  {
   "cell_type": "markdown",
   "metadata": {},
   "source": [
    "## Method: Feature Transformation (PCA)"
   ]
  },
  {
   "cell_type": "code",
   "execution_count": 12,
   "metadata": {},
   "outputs": [
    {
     "name": "stdout",
     "output_type": "stream",
     "text": [
      "Accuracies: [0.63888889 0.69444444 0.69444444 0.66666667 0.66666667 0.6\n",
      " 0.74285714]\n",
      "Mean accuracy: 0.6719954648526077\n",
      "Cross validation elapsed time: 0.1335 seconds\n"
     ]
    }
   ],
   "source": [
    "classifier = BaggingClassifier(estimator=DecisionTreeClassifier(), n_estimators=10, random_state=0)\n",
    "kf = KFold(n_splits=7, shuffle=True)\n",
    "\n",
    "start_time = time.time()\n",
    "cv_results = cross_validate(classifier, X_pca, y, cv=kf)\n",
    "elapsed_time = time.time() - start_time\n",
    "\n",
    "print(\"Accuracies:\", cv_results['test_score'])\n",
    "print(\"Mean accuracy:\", cv_results['test_score'].mean())\n",
    "print(f\"Cross validation elapsed time: {elapsed_time:.4f} seconds\")"
   ]
  }
 ],
 "metadata": {
  "kernelspec": {
   "display_name": "base",
   "language": "python",
   "name": "python3"
  },
  "language_info": {
   "codemirror_mode": {
    "name": "ipython",
    "version": 3
   },
   "file_extension": ".py",
   "mimetype": "text/x-python",
   "name": "python",
   "nbconvert_exporter": "python",
   "pygments_lexer": "ipython3",
   "version": "3.9.17"
  },
  "orig_nbformat": 4
 },
 "nbformat": 4,
 "nbformat_minor": 2
}
