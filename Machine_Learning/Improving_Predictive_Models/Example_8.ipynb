{
 "cells": [
  {
   "cell_type": "markdown",
   "metadata": {},
   "source": [
    "# Wine Quality - Reducing Predictors"
   ]
  },
  {
   "cell_type": "code",
   "execution_count": 1,
   "metadata": {},
   "outputs": [],
   "source": [
    "import pandas as pd\n",
    "import numpy as np\n",
    "from sklearn.model_selection import KFold, cross_validate\n",
    "from sklearn.discriminant_analysis import LinearDiscriminantAnalysis\n",
    "import matplotlib.pyplot as plt\n",
    "import seaborn as sns\n",
    "from sklearn.tree import DecisionTreeClassifier\n",
    "from sklearn.inspection import permutation_importance\n",
    "import time\n",
    "from sklearn.decomposition import PCA\n",
    "from matplotlib.ticker import PercentFormatter\n",
    "from sklearn.neighbors import KNeighborsClassifier\n",
    "\n",
    "sns.set_style(\"whitegrid\")"
   ]
  },
  {
   "cell_type": "markdown",
   "metadata": {},
   "source": [
    "This code loads and displays the wine data and a trained 7-fold cross-validated quadratic DA model of redData. The table redData contains several features of red wine and the corresponding quality, which is saved in the QCLabel variable."
   ]
  },
  {
   "cell_type": "code",
   "execution_count": 2,
   "metadata": {},
   "outputs": [
    {
     "data": {
      "text/html": [
       "<div>\n",
       "<style scoped>\n",
       "    .dataframe tbody tr th:only-of-type {\n",
       "        vertical-align: middle;\n",
       "    }\n",
       "\n",
       "    .dataframe tbody tr th {\n",
       "        vertical-align: top;\n",
       "    }\n",
       "\n",
       "    .dataframe thead th {\n",
       "        text-align: right;\n",
       "    }\n",
       "</style>\n",
       "<table border=\"1\" class=\"dataframe\">\n",
       "  <thead>\n",
       "    <tr style=\"text-align: right;\">\n",
       "      <th></th>\n",
       "      <th>FixedAcidity</th>\n",
       "      <th>VolatileAcidity</th>\n",
       "      <th>CitricAcid</th>\n",
       "      <th>ResidualSugar</th>\n",
       "      <th>Chlorides</th>\n",
       "      <th>FreeSulfurDioxide</th>\n",
       "      <th>TotalSulfurDioxide</th>\n",
       "      <th>Density</th>\n",
       "      <th>pH</th>\n",
       "      <th>Sulphates</th>\n",
       "      <th>Alcohol</th>\n",
       "      <th>QCLabel</th>\n",
       "    </tr>\n",
       "  </thead>\n",
       "  <tbody>\n",
       "    <tr>\n",
       "      <th>0</th>\n",
       "      <td>0.2478</td>\n",
       "      <td>0.3973</td>\n",
       "      <td>0.00</td>\n",
       "      <td>0.0685</td>\n",
       "      <td>0.1068</td>\n",
       "      <td>0.1408</td>\n",
       "      <td>0.0989</td>\n",
       "      <td>0.5675</td>\n",
       "      <td>0.6063</td>\n",
       "      <td>0.1377</td>\n",
       "      <td>0.1538</td>\n",
       "      <td>D</td>\n",
       "    </tr>\n",
       "    <tr>\n",
       "      <th>1</th>\n",
       "      <td>0.2832</td>\n",
       "      <td>0.5205</td>\n",
       "      <td>0.00</td>\n",
       "      <td>0.1164</td>\n",
       "      <td>0.1436</td>\n",
       "      <td>0.3380</td>\n",
       "      <td>0.2155</td>\n",
       "      <td>0.4941</td>\n",
       "      <td>0.3622</td>\n",
       "      <td>0.2096</td>\n",
       "      <td>0.2154</td>\n",
       "      <td>D</td>\n",
       "    </tr>\n",
       "    <tr>\n",
       "      <th>2</th>\n",
       "      <td>0.2832</td>\n",
       "      <td>0.4384</td>\n",
       "      <td>0.04</td>\n",
       "      <td>0.0959</td>\n",
       "      <td>0.1336</td>\n",
       "      <td>0.1972</td>\n",
       "      <td>0.1696</td>\n",
       "      <td>0.5088</td>\n",
       "      <td>0.4094</td>\n",
       "      <td>0.1916</td>\n",
       "      <td>0.2154</td>\n",
       "      <td>D</td>\n",
       "    </tr>\n",
       "    <tr>\n",
       "      <th>3</th>\n",
       "      <td>0.5841</td>\n",
       "      <td>0.1096</td>\n",
       "      <td>0.56</td>\n",
       "      <td>0.0685</td>\n",
       "      <td>0.1052</td>\n",
       "      <td>0.2254</td>\n",
       "      <td>0.1908</td>\n",
       "      <td>0.5822</td>\n",
       "      <td>0.3307</td>\n",
       "      <td>0.1497</td>\n",
       "      <td>0.2154</td>\n",
       "      <td>C</td>\n",
       "    </tr>\n",
       "    <tr>\n",
       "      <th>4</th>\n",
       "      <td>0.2478</td>\n",
       "      <td>0.3973</td>\n",
       "      <td>0.00</td>\n",
       "      <td>0.0685</td>\n",
       "      <td>0.1068</td>\n",
       "      <td>0.1408</td>\n",
       "      <td>0.0989</td>\n",
       "      <td>0.5675</td>\n",
       "      <td>0.6063</td>\n",
       "      <td>0.1377</td>\n",
       "      <td>0.1538</td>\n",
       "      <td>D</td>\n",
       "    </tr>\n",
       "  </tbody>\n",
       "</table>\n",
       "</div>"
      ],
      "text/plain": [
       "   FixedAcidity  VolatileAcidity  CitricAcid  ResidualSugar  Chlorides  \\\n",
       "0        0.2478           0.3973        0.00         0.0685     0.1068   \n",
       "1        0.2832           0.5205        0.00         0.1164     0.1436   \n",
       "2        0.2832           0.4384        0.04         0.0959     0.1336   \n",
       "3        0.5841           0.1096        0.56         0.0685     0.1052   \n",
       "4        0.2478           0.3973        0.00         0.0685     0.1068   \n",
       "\n",
       "   FreeSulfurDioxide  TotalSulfurDioxide  Density      pH  Sulphates  Alcohol  \\\n",
       "0             0.1408              0.0989   0.5675  0.6063     0.1377   0.1538   \n",
       "1             0.3380              0.2155   0.4941  0.3622     0.2096   0.2154   \n",
       "2             0.1972              0.1696   0.5088  0.4094     0.1916   0.2154   \n",
       "3             0.2254              0.1908   0.5822  0.3307     0.1497   0.2154   \n",
       "4             0.1408              0.0989   0.5675  0.6063     0.1377   0.1538   \n",
       "\n",
       "  QCLabel  \n",
       "0       D  \n",
       "1       D  \n",
       "2       D  \n",
       "3       C  \n",
       "4       D  "
      ]
     },
     "execution_count": 2,
     "metadata": {},
     "output_type": "execute_result"
    }
   ],
   "source": [
    "redData = pd.read_csv(\"./data/redWine.csv\", dtype={'QCLabel': 'category'})\n",
    "X, y = redData.iloc[:, :-1], redData.QCLabel\n",
    "redData.head()"
   ]
  },
  {
   "cell_type": "code",
   "execution_count": 3,
   "metadata": {},
   "outputs": [
    {
     "name": "stdout",
     "output_type": "stream",
     "text": [
      "Accuracies: [0.51315789 0.5877193  0.60087719 0.62719298 0.5814978  0.59911894\n",
      " 0.59030837]\n",
      "Mean accuracy: 0.5856960683647444\n",
      "Cross validation elapsed time: 0.0745 seconds\n"
     ]
    }
   ],
   "source": [
    "classifier = LinearDiscriminantAnalysis()\n",
    "kf = KFold(n_splits=7, shuffle=True)\n",
    "\n",
    "start_time = time.time()\n",
    "cv_results = cross_validate(classifier, X, y, cv=kf)\n",
    "elapsed_time = time.time() - start_time\n",
    "\n",
    "print(\"Accuracies:\", cv_results['test_score'])\n",
    "print(\"Mean accuracy:\", cv_results['test_score'].mean())\n",
    "print(f\"Cross validation elapsed time: {elapsed_time:.4f} seconds\")"
   ]
  },
  {
   "cell_type": "markdown",
   "metadata": {},
   "source": [
    "## Reduce Predictors\n",
    "\n",
    "Fit model with fewer predictors. Target accuracy value greater than 0.6.\n",
    "\n",
    "### Method: Feature Selection (Tree)"
   ]
  },
  {
   "cell_type": "code",
   "execution_count": 4,
   "metadata": {},
   "outputs": [
    {
     "data": {
      "text/html": [
       "<div>\n",
       "<style scoped>\n",
       "    .dataframe tbody tr th:only-of-type {\n",
       "        vertical-align: middle;\n",
       "    }\n",
       "\n",
       "    .dataframe tbody tr th {\n",
       "        vertical-align: top;\n",
       "    }\n",
       "\n",
       "    .dataframe thead th {\n",
       "        text-align: right;\n",
       "    }\n",
       "</style>\n",
       "<table border=\"1\" class=\"dataframe\">\n",
       "  <thead>\n",
       "    <tr style=\"text-align: right;\">\n",
       "      <th></th>\n",
       "      <th>features</th>\n",
       "      <th>importances_mean</th>\n",
       "      <th>importances_std</th>\n",
       "    </tr>\n",
       "  </thead>\n",
       "  <tbody>\n",
       "    <tr>\n",
       "      <th>0</th>\n",
       "      <td>FixedAcidity</td>\n",
       "      <td>0.074765</td>\n",
       "      <td>0.002869</td>\n",
       "    </tr>\n",
       "    <tr>\n",
       "      <th>1</th>\n",
       "      <td>VolatileAcidity</td>\n",
       "      <td>0.241933</td>\n",
       "      <td>0.006209</td>\n",
       "    </tr>\n",
       "    <tr>\n",
       "      <th>2</th>\n",
       "      <td>CitricAcid</td>\n",
       "      <td>0.093911</td>\n",
       "      <td>0.005546</td>\n",
       "    </tr>\n",
       "    <tr>\n",
       "      <th>3</th>\n",
       "      <td>ResidualSugar</td>\n",
       "      <td>0.153107</td>\n",
       "      <td>0.007639</td>\n",
       "    </tr>\n",
       "    <tr>\n",
       "      <th>4</th>\n",
       "      <td>Chlorides</td>\n",
       "      <td>0.104708</td>\n",
       "      <td>0.003549</td>\n",
       "    </tr>\n",
       "  </tbody>\n",
       "</table>\n",
       "</div>"
      ],
      "text/plain": [
       "          features  importances_mean  importances_std\n",
       "0     FixedAcidity          0.074765         0.002869\n",
       "1  VolatileAcidity          0.241933         0.006209\n",
       "2       CitricAcid          0.093911         0.005546\n",
       "3    ResidualSugar          0.153107         0.007639\n",
       "4        Chlorides          0.104708         0.003549"
      ]
     },
     "execution_count": 4,
     "metadata": {},
     "output_type": "execute_result"
    }
   ],
   "source": [
    "classifier = DecisionTreeClassifier(random_state=0)\n",
    "classifier.fit(X, y)\n",
    "\n",
    "feature_importances = permutation_importance(classifier, X, y, n_repeats=10, random_state=0)\n",
    "feature_importances = pd.DataFrame({'features': X.columns, 'importances_mean': feature_importances['importances_mean'], \n",
    "                                    'importances_std': feature_importances['importances_std']})\n",
    "feature_importances.head()"
   ]
  },
  {
   "cell_type": "code",
   "execution_count": 5,
   "metadata": {},
   "outputs": [
    {
     "data": {
      "text/plain": [
       "<Figure size 640x480 with 0 Axes>"
      ]
     },
     "metadata": {},
     "output_type": "display_data"
    },
    {
     "data": {
      "image/png": "[encoded data removed]",
      "text/plain": [
       "<Figure size 640x480 with 1 Axes>"
      ]
     },
     "metadata": {},
     "output_type": "display_data"
    }
   ],
   "source": [
    "plt.figure()\n",
    "feature_importances.plot.bar(x='features', y='importances_mean', yerr='importances_std', legend=None)\n",
    "plt.title(\"Feature importances using permutation\")\n",
    "plt.xlabel(\"Features\")\n",
    "plt.ylabel(\"Importances mean\")\n",
    "plt.show()"
   ]
  },
  {
   "cell_type": "code",
   "execution_count": 6,
   "metadata": {},
   "outputs": [
    {
     "data": {
      "text/html": [
       "<div>\n",
       "<style scoped>\n",
       "    .dataframe tbody tr th:only-of-type {\n",
       "        vertical-align: middle;\n",
       "    }\n",
       "\n",
       "    .dataframe tbody tr th {\n",
       "        vertical-align: top;\n",
       "    }\n",
       "\n",
       "    .dataframe thead th {\n",
       "        text-align: right;\n",
       "    }\n",
       "</style>\n",
       "<table border=\"1\" class=\"dataframe\">\n",
       "  <thead>\n",
       "    <tr style=\"text-align: right;\">\n",
       "      <th></th>\n",
       "      <th>Alcohol</th>\n",
       "      <th>Sulphates</th>\n",
       "      <th>VolatileAcidity</th>\n",
       "      <th>TotalSulfurDioxide</th>\n",
       "      <th>ResidualSugar</th>\n",
       "      <th>pH</th>\n",
       "    </tr>\n",
       "  </thead>\n",
       "  <tbody>\n",
       "    <tr>\n",
       "      <th>0</th>\n",
       "      <td>0.1538</td>\n",
       "      <td>0.1377</td>\n",
       "      <td>0.3973</td>\n",
       "      <td>0.0989</td>\n",
       "      <td>0.0685</td>\n",
       "      <td>0.6063</td>\n",
       "    </tr>\n",
       "    <tr>\n",
       "      <th>1</th>\n",
       "      <td>0.2154</td>\n",
       "      <td>0.2096</td>\n",
       "      <td>0.5205</td>\n",
       "      <td>0.2155</td>\n",
       "      <td>0.1164</td>\n",
       "      <td>0.3622</td>\n",
       "    </tr>\n",
       "    <tr>\n",
       "      <th>2</th>\n",
       "      <td>0.2154</td>\n",
       "      <td>0.1916</td>\n",
       "      <td>0.4384</td>\n",
       "      <td>0.1696</td>\n",
       "      <td>0.0959</td>\n",
       "      <td>0.4094</td>\n",
       "    </tr>\n",
       "    <tr>\n",
       "      <th>3</th>\n",
       "      <td>0.2154</td>\n",
       "      <td>0.1497</td>\n",
       "      <td>0.1096</td>\n",
       "      <td>0.1908</td>\n",
       "      <td>0.0685</td>\n",
       "      <td>0.3307</td>\n",
       "    </tr>\n",
       "    <tr>\n",
       "      <th>4</th>\n",
       "      <td>0.1538</td>\n",
       "      <td>0.1377</td>\n",
       "      <td>0.3973</td>\n",
       "      <td>0.0989</td>\n",
       "      <td>0.0685</td>\n",
       "      <td>0.6063</td>\n",
       "    </tr>\n",
       "  </tbody>\n",
       "</table>\n",
       "</div>"
      ],
      "text/plain": [
       "   Alcohol  Sulphates  VolatileAcidity  TotalSulfurDioxide  ResidualSugar  \\\n",
       "0   0.1538     0.1377           0.3973              0.0989         0.0685   \n",
       "1   0.2154     0.2096           0.5205              0.2155         0.1164   \n",
       "2   0.2154     0.1916           0.4384              0.1696         0.0959   \n",
       "3   0.2154     0.1497           0.1096              0.1908         0.0685   \n",
       "4   0.1538     0.1377           0.3973              0.0989         0.0685   \n",
       "\n",
       "       pH  \n",
       "0  0.6063  \n",
       "1  0.3622  \n",
       "2  0.4094  \n",
       "3  0.3307  \n",
       "4  0.6063  "
      ]
     },
     "execution_count": 6,
     "metadata": {},
     "output_type": "execute_result"
    }
   ],
   "source": [
    "fetures_keep = feature_importances['importances_mean'].sort_values(ascending=False)[:6].index\n",
    "fetures_keep\n",
    "\n",
    "X_selected = X[X.columns[fetures_keep]]\n",
    "X_selected.head()"
   ]
  },
  {
   "cell_type": "code",
   "execution_count": 7,
   "metadata": {},
   "outputs": [
    {
     "name": "stdout",
     "output_type": "stream",
     "text": [
      "Accuracies: [0.59210526 0.60964912 0.64035088 0.61403509 0.55506608 0.61674009\n",
      " 0.5814978 ]\n",
      "Mean accuracy: 0.6013491879478431\n",
      "Cross validation elapsed time: 0.0685 seconds\n"
     ]
    }
   ],
   "source": [
    "classifier = DecisionTreeClassifier()\n",
    "kf = KFold(n_splits=7, shuffle=True)\n",
    "\n",
    "start_time = time.time()\n",
    "cv_results = cross_validate(classifier, X_selected, y, cv=kf)\n",
    "elapsed_time = time.time() - start_time\n",
    "\n",
    "print(\"Accuracies:\", cv_results['test_score'])\n",
    "print(\"Mean accuracy:\", cv_results['test_score'].mean())\n",
    "print(f\"Cross validation elapsed time: {elapsed_time:.4f} seconds\")"
   ]
  },
  {
   "cell_type": "markdown",
   "metadata": {},
   "source": [
    "### Method: Feature Transformation (PCA)"
   ]
  },
  {
   "cell_type": "code",
   "execution_count": 8,
   "metadata": {},
   "outputs": [
    {
     "data": {
      "text/html": [
       "<div>\n",
       "<style scoped>\n",
       "    .dataframe tbody tr th:only-of-type {\n",
       "        vertical-align: middle;\n",
       "    }\n",
       "\n",
       "    .dataframe tbody tr th {\n",
       "        vertical-align: top;\n",
       "    }\n",
       "\n",
       "    .dataframe thead th {\n",
       "        text-align: right;\n",
       "    }\n",
       "</style>\n",
       "<table border=\"1\" class=\"dataframe\">\n",
       "  <thead>\n",
       "    <tr style=\"text-align: right;\">\n",
       "      <th></th>\n",
       "      <th>0</th>\n",
       "      <th>1</th>\n",
       "      <th>2</th>\n",
       "      <th>3</th>\n",
       "      <th>4</th>\n",
       "      <th>5</th>\n",
       "      <th>6</th>\n",
       "      <th>7</th>\n",
       "      <th>8</th>\n",
       "      <th>9</th>\n",
       "      <th>10</th>\n",
       "    </tr>\n",
       "  </thead>\n",
       "  <tbody>\n",
       "    <tr>\n",
       "      <th>0</th>\n",
       "      <td>-0.271835</td>\n",
       "      <td>-0.198480</td>\n",
       "      <td>-0.188124</td>\n",
       "      <td>0.026931</td>\n",
       "      <td>-0.064990</td>\n",
       "      <td>-0.045583</td>\n",
       "      <td>-0.050326</td>\n",
       "      <td>-0.053134</td>\n",
       "      <td>0.017260</td>\n",
       "      <td>0.024045</td>\n",
       "      <td>0.005965</td>\n",
       "    </tr>\n",
       "    <tr>\n",
       "      <th>1</th>\n",
       "      <td>-0.225726</td>\n",
       "      <td>-0.259009</td>\n",
       "      <td>0.019862</td>\n",
       "      <td>0.093234</td>\n",
       "      <td>0.112363</td>\n",
       "      <td>0.171550</td>\n",
       "      <td>-0.024661</td>\n",
       "      <td>0.039991</td>\n",
       "      <td>-0.009113</td>\n",
       "      <td>-0.036421</td>\n",
       "      <td>-0.021821</td>\n",
       "    </tr>\n",
       "    <tr>\n",
       "      <th>2</th>\n",
       "      <td>-0.187262</td>\n",
       "      <td>-0.181744</td>\n",
       "      <td>-0.090666</td>\n",
       "      <td>0.041260</td>\n",
       "      <td>0.057094</td>\n",
       "      <td>0.098733</td>\n",
       "      <td>-0.012322</td>\n",
       "      <td>0.032448</td>\n",
       "      <td>0.029553</td>\n",
       "      <td>-0.002964</td>\n",
       "      <td>-0.018298</td>\n",
       "    </tr>\n",
       "    <tr>\n",
       "      <th>3</th>\n",
       "      <td>0.422081</td>\n",
       "      <td>-0.031674</td>\n",
       "      <td>0.039251</td>\n",
       "      <td>-0.080673</td>\n",
       "      <td>0.094721</td>\n",
       "      <td>-0.119000</td>\n",
       "      <td>-0.032344</td>\n",
       "      <td>-0.043177</td>\n",
       "      <td>0.015405</td>\n",
       "      <td>0.028252</td>\n",
       "      <td>0.040900</td>\n",
       "    </tr>\n",
       "    <tr>\n",
       "      <th>4</th>\n",
       "      <td>-0.271835</td>\n",
       "      <td>-0.198480</td>\n",
       "      <td>-0.188124</td>\n",
       "      <td>0.026931</td>\n",
       "      <td>-0.064990</td>\n",
       "      <td>-0.045583</td>\n",
       "      <td>-0.050326</td>\n",
       "      <td>-0.053134</td>\n",
       "      <td>0.017260</td>\n",
       "      <td>0.024045</td>\n",
       "      <td>0.005965</td>\n",
       "    </tr>\n",
       "  </tbody>\n",
       "</table>\n",
       "</div>"
      ],
      "text/plain": [
       "         0         1         2         3         4         5         6   \\\n",
       "0 -0.271835 -0.198480 -0.188124  0.026931 -0.064990 -0.045583 -0.050326   \n",
       "1 -0.225726 -0.259009  0.019862  0.093234  0.112363  0.171550 -0.024661   \n",
       "2 -0.187262 -0.181744 -0.090666  0.041260  0.057094  0.098733 -0.012322   \n",
       "3  0.422081 -0.031674  0.039251 -0.080673  0.094721 -0.119000 -0.032344   \n",
       "4 -0.271835 -0.198480 -0.188124  0.026931 -0.064990 -0.045583 -0.050326   \n",
       "\n",
       "         7         8         9         10  \n",
       "0 -0.053134  0.017260  0.024045  0.005965  \n",
       "1  0.039991 -0.009113 -0.036421 -0.021821  \n",
       "2  0.032448  0.029553 -0.002964 -0.018298  \n",
       "3 -0.043177  0.015405  0.028252  0.040900  \n",
       "4 -0.053134  0.017260  0.024045  0.005965  "
      ]
     },
     "execution_count": 8,
     "metadata": {},
     "output_type": "execute_result"
    }
   ],
   "source": [
    "pca = PCA(n_components=X.shape[1])\n",
    "X_pca = pca.fit_transform(X)\n",
    "variance_ratio = pca.explained_variance_ratio_\n",
    "pd.DataFrame(X_pca).head()"
   ]
  },
  {
   "cell_type": "code",
   "execution_count": 9,
   "metadata": {},
   "outputs": [
    {
     "data": {
      "image/png": "[encoded data removed]",
      "text/plain": [
       "<Figure size 640x480 with 2 Axes>"
      ]
     },
     "metadata": {},
     "output_type": "display_data"
    }
   ],
   "source": [
    "fig, ax = plt.subplots()\n",
    "\n",
    "# Plot bars (i.e. frequencies)\n",
    "ax.bar(np.arange(1, 11), variance_ratio[:10])\n",
    "ax.set_ylim(0, variance_ratio.sum()*1.05)\n",
    "ax.set_title(\"Pareto Chart\")\n",
    "ax.set_xticks(np.arange(1, 11))\n",
    "\n",
    "# Second y axis (i.e. cumulative percentage)\n",
    "ax2 = ax.twinx()\n",
    "ax2.plot(np.arange(1, 11), (variance_ratio * 100).cumsum()[:10], color=\"red\", marker=\"o\")\n",
    "ax2.axhline(90, color=\"orange\", linestyle=\"dashed\")\n",
    "ax2.yaxis.set_major_formatter(PercentFormatter())\n",
    "ax2.set_ylim(0, 100*1.05)\n",
    "\n",
    "plt.show()"
   ]
  },
  {
   "cell_type": "code",
   "execution_count": 10,
   "metadata": {},
   "outputs": [
    {
     "name": "stdout",
     "output_type": "stream",
     "text": [
      "Accuracies: [0.5877193  0.6622807  0.55701754 0.60964912 0.63436123 0.67400881\n",
      " 0.62114537]\n",
      "Mean accuracy: 0.6208831550241242\n",
      "Cross validation elapsed time: 0.0635 seconds\n"
     ]
    }
   ],
   "source": [
    "X_pca = X_pca[:, :3]\n",
    "classifier = KNeighborsClassifier(n_neighbors=1)\n",
    "kf = KFold(n_splits=7, shuffle=True)\n",
    "\n",
    "start_time = time.time()\n",
    "cv_results = cross_validate(classifier, X_pca, y, cv=kf)\n",
    "elapsed_time = time.time() - start_time\n",
    "\n",
    "print(\"Accuracies:\", cv_results['test_score'])\n",
    "print(\"Mean accuracy:\", cv_results['test_score'].mean())\n",
    "print(f\"Cross validation elapsed time: {elapsed_time:.4f} seconds\")"
   ]
  }
 ],
 "metadata": {
  "kernelspec": {
   "display_name": "base",
   "language": "python",
   "name": "python3"
  },
  "language_info": {
   "codemirror_mode": {
    "name": "ipython",
    "version": 3
   },
   "file_extension": ".py",
   "mimetype": "text/x-python",
   "name": "python",
   "nbconvert_exporter": "python",
   "pygments_lexer": "ipython3",
   "version": "3.9.17"
  },
  "orig_nbformat": 4
 },
 "nbformat": 4,
 "nbformat_minor": 2
}
